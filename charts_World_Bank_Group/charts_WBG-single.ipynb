{
 "cells": [
  {
   "cell_type": "markdown",
   "id": "bda14d7b-4693-405b-b903-b23e53f976a4",
   "metadata": {},
   "source": [
    "The World Band > [Life expectancy at birth, total](https://data.worldbank.org/indicator/SP.DYN.LE00.IN)<br />\n",
    "The World Band > [Life expectancy at birth, male](https://data.worldbank.org/indicator/SP.DYN.LE00.MA.IN)<br />\n",
    "The World Band > [Life expectancy at birth, female](https://data.worldbank.org/indicator/SP.DYN.LE00.FE.IN)<br />\n",
    "[World Development Indicators > Life expectancy at birth](https://databank.worldbank.org/reports.aspx?source=2&series=SP.DYN.LE00.IN&country=) *(databank.worldbank.org)*<br />\n",
    "[OECD stat](https://stats.oecd.org/index.aspx?queryid=30114)\n",
    "\n",
    "\"[Список стран по ожидаемой продолжительности жизни](https://ru.wikipedia.org/wiki/Список_стран_по_ожидаемой_продолжительности_жизни)\"<br />\n",
    "\"[Продолжительность жизни в субъектах Российской Федерации](https://ru.wikipedia.org/wiki/Продолжительность_жизни_в_субъектах_Российской_Федерации)\"<br />\n",
    "[Таблица подбора цветов](http://mal-bioit.ru/survey-web-colors)<br />\n",
    "[Список государств и зависимых территорий по населению](https://ru.wikipedia.org/wiki/Список_государств_и_зависимых_территорий_по_населению)<br />\n",
    "[Список стран по ВВП (номинал)](https://ru.wikipedia.org/wiki/Список_стран_по_ВВП_(номинал)) / [Список стран по ВВП (ППС)](https://ru.wikipedia.org/wiki/Список_стран_по_ВВП_(ППС))<br>\n",
    "[Category:Life expectancy charts](https://commons.wikimedia.org/wiki/Category:Life_expectancy_charts)"
   ]
  },
  {
   "cell_type": "code",
   "execution_count": 1,
   "id": "355e5e04-16c6-43e6-ae10-973857e14655",
   "metadata": {},
   "outputs": [],
   "source": [
    "import pandas as pd\n",
    "import matplotlib.pyplot as plt\n",
    "from matplotlib.lines import Line2D\n",
    "import numpy as np\n",
    "from collections import namedtuple\n",
    "import math\n",
    "import os"
   ]
  },
  {
   "cell_type": "code",
   "execution_count": 2,
   "id": "b2244888-6f43-493e-a697-d4c91f4fbe64",
   "metadata": {
    "tags": []
   },
   "outputs": [],
   "source": [
    "pd.options.display.max_rows = 30\n",
    "pd.options.display.max_columns = 50\n",
    "\n",
    "CHART_COMPLEXITY = 'simple'  # 'with_difference', 'simple', 'all_to_files'\n",
    "                             # WARNING: 'all_to_files' does not take affects on charts with leaders\n",
    "DESTINATION_OUTPUT = 'pass'  # to where table code should be placed: 'file', 'show', 'pass'\n",
    "VER_LINES=[]\n",
    "LANG = 'en'"
   ]
  },
  {
   "cell_type": "code",
   "execution_count": 3,
   "id": "ea1e058e-61d8-482d-804f-6801b9142b80",
   "metadata": {},
   "outputs": [],
   "source": [
    "# list of countries that should be ignored during processing (it is needed than WBG made correction for only some countries.\n",
    "# So processing of countries without correction is redundant.\n",
    "LS_IGNORE = \\\n",
    "    []"
   ]
  },
  {
   "cell_type": "code",
   "execution_count": 4,
   "id": "75ef19ae-5a2c-4452-8b6a-dfa92e0c4447",
   "metadata": {
    "tags": []
   },
   "outputs": [],
   "source": [
    "def pretify_df(df):\n",
    "    ls_dropping = [\n",
    "        'Hong Kong SAR, China',\n",
    "        'Macao SAR, China',\n",
    "        'St. Martin (French part)',\n",
    "        'New Caledonia',\n",
    "        'Virgin Islands (U.S.)',\n",
    "        'Channel Islands',\n",
    "        'Faroe Islands',\n",
    "        # 'West Bank and Gaza',\n",
    "        # 'Kosovo',\n",
    "        'Euro area',\n",
    "        'IBRD only',\n",
    "        'IDA & IBRD total',\n",
    "        'IDA total',\n",
    "        'IDA blend',\n",
    "        'IDA only',\n",
    "        'OECD members',\n",
    "        'Europe & Central Asia (excluding high income)',\n",
    "        'East Asia & Pacific (excluding high income)',\n",
    "        'Latin America & Caribbean (excluding high income)',\n",
    "        'Middle East & North Africa (excluding high income)',\n",
    "        'Sub-Saharan Africa (excluding high income)',\n",
    "        'East Asia & Pacific (IDA & IBRD countries)',\n",
    "        'Europe & Central Asia (IDA & IBRD countries)',\n",
    "        'Middle East & North Africa (IDA & IBRD countries)',\n",
    "        'Sub-Saharan Africa (IDA & IBRD countries)',           \n",
    "        'Latin America & the Caribbean (IDA & IBRD countries)',\n",
    "        'South Asia (IDA & IBRD)',\n",
    "        'Heavily indebted poor countries (HIPC)',\n",
    "        'Fragile and conflict affected situations',\n",
    "        'Least developed countries: UN classification',\n",
    "        'Early-demographic dividend',\n",
    "        'Late-demographic dividend',\n",
    "        'Pre-demographic dividend',\n",
    "        'Post-demographic dividend',\n",
    "        # 'Low income',\n",
    "        # 'Lower middle income',\n",
    "        'Low & middle income',\n",
    "        # 'Middle income',\n",
    "        # 'Upper middle income',\n",
    "        # 'High income',\n",
    "        # 'European Union',\n",
    "        'Central Europe and the Baltics',\n",
    "        'Europe & Central Asia',\n",
    "        # 'South Asia',\n",
    "        'East Asia & Pacific',\n",
    "        'Middle East & North Africa',\n",
    "        'Africa Eastern and Southern',\n",
    "        # 'Sub-Saharan Africa',\n",
    "        'Africa Western and Central',\n",
    "        # 'North America',\n",
    "        'Latin America & Caribbean',\n",
    "        # 'Arab World'\n",
    "    ]\n",
    "    \n",
    "    return df.drop(ls_dropping) \\\n",
    "             .rename(index = {'United States':'USA',\n",
    "                              'Russian Federation': 'Russia',\n",
    "                              'Korea, Rep.': 'South Korea',\n",
    "                              \"Korea, Dem. People's Rep.\": 'North Korea',\n",
    "                              'Egypt, Arab Rep.': 'Egypt',\n",
    "                              'Congo, Dem. Rep.': 'Congo, DR',\n",
    "                              'Congo, Rep.': 'Congo, Rep.',\n",
    "                              'Yemen, Rep.': 'Yemen',\n",
    "                              'Micronesia, Fed. Sts.': 'Micronesia',\n",
    "                              'Gambia, The': 'Gambia',\n",
    "                              'Iran, Islamic Rep.': 'Iran',\n",
    "                              'Syrian Arab Republic': 'Syria',\n",
    "                              'Venezuela, RB': 'Venezuela',\n",
    "                              'Kyrgyz Republic': 'Kyrgyzstan',\n",
    "                              'Lao PDR': 'Laos',\n",
    "                              'Czech Republic': 'Czechia',\n",
    "                              'Slovak Republic': 'Slovakia',\n",
    "                              'Bahamas, The': 'Bahamas',\n",
    "                              'Brunei Darussalam': 'Brunei',\n",
    "                              'Turkiye': 'Turkey'\n",
    "                             }) \\\n",
    "             .iloc[:, 3:-2] \\\n",
    "             .rename(columns=int)  # transform names of columns from strings to integers, like '1960' -> 1960"
   ]
  },
  {
   "cell_type": "code",
   "execution_count": 5,
   "id": "7188b3a6-770a-44c1-a335-62c71b759efb",
   "metadata": {},
   "outputs": [],
   "source": [
    "pd.options.display.min_rows = 4"
   ]
  },
  {
   "cell_type": "code",
   "execution_count": 6,
   "id": "b0dad4a2-cea4-4564-ace9-c747d9076498",
   "metadata": {},
   "outputs": [
    {
     "name": "stdout",
     "output_type": "stream",
     "text": [
      "df_total: 220 records\n",
      "df_male: 220 records\n",
      "df_female: 220 records\n"
     ]
    },
    {
     "data": {
      "text/html": [
       "<div>\n",
       "<style scoped>\n",
       "    .dataframe tbody tr th:only-of-type {\n",
       "        vertical-align: middle;\n",
       "    }\n",
       "\n",
       "    .dataframe tbody tr th {\n",
       "        vertical-align: top;\n",
       "    }\n",
       "\n",
       "    .dataframe thead th {\n",
       "        text-align: right;\n",
       "    }\n",
       "</style>\n",
       "<table border=\"1\" class=\"dataframe\">\n",
       "  <thead>\n",
       "    <tr style=\"text-align: right;\">\n",
       "      <th></th>\n",
       "      <th>1960</th>\n",
       "      <th>1961</th>\n",
       "      <th>1962</th>\n",
       "      <th>1963</th>\n",
       "      <th>1964</th>\n",
       "      <th>1965</th>\n",
       "      <th>1966</th>\n",
       "      <th>1967</th>\n",
       "      <th>1968</th>\n",
       "      <th>1969</th>\n",
       "      <th>1970</th>\n",
       "      <th>1971</th>\n",
       "      <th>1972</th>\n",
       "      <th>1973</th>\n",
       "      <th>1974</th>\n",
       "      <th>1975</th>\n",
       "      <th>1976</th>\n",
       "      <th>1977</th>\n",
       "      <th>1978</th>\n",
       "      <th>1979</th>\n",
       "      <th>1980</th>\n",
       "      <th>1981</th>\n",
       "      <th>1982</th>\n",
       "      <th>1983</th>\n",
       "      <th>1984</th>\n",
       "      <th>...</th>\n",
       "      <th>1997</th>\n",
       "      <th>1998</th>\n",
       "      <th>1999</th>\n",
       "      <th>2000</th>\n",
       "      <th>2001</th>\n",
       "      <th>2002</th>\n",
       "      <th>2003</th>\n",
       "      <th>2004</th>\n",
       "      <th>2005</th>\n",
       "      <th>2006</th>\n",
       "      <th>2007</th>\n",
       "      <th>2008</th>\n",
       "      <th>2009</th>\n",
       "      <th>2010</th>\n",
       "      <th>2011</th>\n",
       "      <th>2012</th>\n",
       "      <th>2013</th>\n",
       "      <th>2014</th>\n",
       "      <th>2015</th>\n",
       "      <th>2016</th>\n",
       "      <th>2017</th>\n",
       "      <th>2018</th>\n",
       "      <th>2019</th>\n",
       "      <th>2020</th>\n",
       "      <th>2021</th>\n",
       "    </tr>\n",
       "    <tr>\n",
       "      <th>Country Name</th>\n",
       "      <th></th>\n",
       "      <th></th>\n",
       "      <th></th>\n",
       "      <th></th>\n",
       "      <th></th>\n",
       "      <th></th>\n",
       "      <th></th>\n",
       "      <th></th>\n",
       "      <th></th>\n",
       "      <th></th>\n",
       "      <th></th>\n",
       "      <th></th>\n",
       "      <th></th>\n",
       "      <th></th>\n",
       "      <th></th>\n",
       "      <th></th>\n",
       "      <th></th>\n",
       "      <th></th>\n",
       "      <th></th>\n",
       "      <th></th>\n",
       "      <th></th>\n",
       "      <th></th>\n",
       "      <th></th>\n",
       "      <th></th>\n",
       "      <th></th>\n",
       "      <th></th>\n",
       "      <th></th>\n",
       "      <th></th>\n",
       "      <th></th>\n",
       "      <th></th>\n",
       "      <th></th>\n",
       "      <th></th>\n",
       "      <th></th>\n",
       "      <th></th>\n",
       "      <th></th>\n",
       "      <th></th>\n",
       "      <th></th>\n",
       "      <th></th>\n",
       "      <th></th>\n",
       "      <th></th>\n",
       "      <th></th>\n",
       "      <th></th>\n",
       "      <th></th>\n",
       "      <th></th>\n",
       "      <th></th>\n",
       "      <th></th>\n",
       "      <th></th>\n",
       "      <th></th>\n",
       "      <th></th>\n",
       "      <th></th>\n",
       "      <th></th>\n",
       "    </tr>\n",
       "  </thead>\n",
       "  <tbody>\n",
       "    <tr>\n",
       "      <th>Aruba</th>\n",
       "      <td>64.152</td>\n",
       "      <td>64.537</td>\n",
       "      <td>64.752</td>\n",
       "      <td>65.132</td>\n",
       "      <td>65.294</td>\n",
       "      <td>65.502</td>\n",
       "      <td>66.063</td>\n",
       "      <td>66.439</td>\n",
       "      <td>66.757</td>\n",
       "      <td>67.168</td>\n",
       "      <td>67.583</td>\n",
       "      <td>67.975</td>\n",
       "      <td>68.577</td>\n",
       "      <td>69.092</td>\n",
       "      <td>69.503</td>\n",
       "      <td>69.762</td>\n",
       "      <td>70.035</td>\n",
       "      <td>70.264</td>\n",
       "      <td>70.494</td>\n",
       "      <td>70.778</td>\n",
       "      <td>71.066</td>\n",
       "      <td>71.722</td>\n",
       "      <td>71.959</td>\n",
       "      <td>72.105</td>\n",
       "      <td>72.251</td>\n",
       "      <td>...</td>\n",
       "      <td>73.452</td>\n",
       "      <td>73.491</td>\n",
       "      <td>73.561</td>\n",
       "      <td>73.569</td>\n",
       "      <td>73.647</td>\n",
       "      <td>73.726</td>\n",
       "      <td>73.752</td>\n",
       "      <td>73.576</td>\n",
       "      <td>73.811</td>\n",
       "      <td>74.026</td>\n",
       "      <td>74.210</td>\n",
       "      <td>74.147</td>\n",
       "      <td>74.560</td>\n",
       "      <td>75.404</td>\n",
       "      <td>75.465</td>\n",
       "      <td>75.531</td>\n",
       "      <td>75.636</td>\n",
       "      <td>75.601</td>\n",
       "      <td>75.683</td>\n",
       "      <td>75.617</td>\n",
       "      <td>75.903</td>\n",
       "      <td>76.072</td>\n",
       "      <td>76.248</td>\n",
       "      <td>75.723</td>\n",
       "      <td>74.626</td>\n",
       "    </tr>\n",
       "    <tr>\n",
       "      <th>Afghanistan</th>\n",
       "      <td>32.535</td>\n",
       "      <td>33.068</td>\n",
       "      <td>33.547</td>\n",
       "      <td>34.016</td>\n",
       "      <td>34.494</td>\n",
       "      <td>34.953</td>\n",
       "      <td>35.453</td>\n",
       "      <td>35.924</td>\n",
       "      <td>36.418</td>\n",
       "      <td>36.910</td>\n",
       "      <td>37.418</td>\n",
       "      <td>37.923</td>\n",
       "      <td>38.444</td>\n",
       "      <td>39.003</td>\n",
       "      <td>39.550</td>\n",
       "      <td>40.100</td>\n",
       "      <td>40.645</td>\n",
       "      <td>41.228</td>\n",
       "      <td>40.271</td>\n",
       "      <td>39.086</td>\n",
       "      <td>39.618</td>\n",
       "      <td>40.164</td>\n",
       "      <td>37.766</td>\n",
       "      <td>38.187</td>\n",
       "      <td>33.329</td>\n",
       "      <td>...</td>\n",
       "      <td>53.634</td>\n",
       "      <td>52.943</td>\n",
       "      <td>54.846</td>\n",
       "      <td>55.298</td>\n",
       "      <td>55.798</td>\n",
       "      <td>56.454</td>\n",
       "      <td>57.344</td>\n",
       "      <td>57.944</td>\n",
       "      <td>58.361</td>\n",
       "      <td>58.684</td>\n",
       "      <td>59.111</td>\n",
       "      <td>59.852</td>\n",
       "      <td>60.364</td>\n",
       "      <td>60.851</td>\n",
       "      <td>61.419</td>\n",
       "      <td>61.923</td>\n",
       "      <td>62.417</td>\n",
       "      <td>62.545</td>\n",
       "      <td>62.659</td>\n",
       "      <td>63.136</td>\n",
       "      <td>63.016</td>\n",
       "      <td>63.081</td>\n",
       "      <td>63.565</td>\n",
       "      <td>62.575</td>\n",
       "      <td>61.982</td>\n",
       "    </tr>\n",
       "    <tr>\n",
       "      <th>...</th>\n",
       "      <td>...</td>\n",
       "      <td>...</td>\n",
       "      <td>...</td>\n",
       "      <td>...</td>\n",
       "      <td>...</td>\n",
       "      <td>...</td>\n",
       "      <td>...</td>\n",
       "      <td>...</td>\n",
       "      <td>...</td>\n",
       "      <td>...</td>\n",
       "      <td>...</td>\n",
       "      <td>...</td>\n",
       "      <td>...</td>\n",
       "      <td>...</td>\n",
       "      <td>...</td>\n",
       "      <td>...</td>\n",
       "      <td>...</td>\n",
       "      <td>...</td>\n",
       "      <td>...</td>\n",
       "      <td>...</td>\n",
       "      <td>...</td>\n",
       "      <td>...</td>\n",
       "      <td>...</td>\n",
       "      <td>...</td>\n",
       "      <td>...</td>\n",
       "      <td>...</td>\n",
       "      <td>...</td>\n",
       "      <td>...</td>\n",
       "      <td>...</td>\n",
       "      <td>...</td>\n",
       "      <td>...</td>\n",
       "      <td>...</td>\n",
       "      <td>...</td>\n",
       "      <td>...</td>\n",
       "      <td>...</td>\n",
       "      <td>...</td>\n",
       "      <td>...</td>\n",
       "      <td>...</td>\n",
       "      <td>...</td>\n",
       "      <td>...</td>\n",
       "      <td>...</td>\n",
       "      <td>...</td>\n",
       "      <td>...</td>\n",
       "      <td>...</td>\n",
       "      <td>...</td>\n",
       "      <td>...</td>\n",
       "      <td>...</td>\n",
       "      <td>...</td>\n",
       "      <td>...</td>\n",
       "      <td>...</td>\n",
       "      <td>...</td>\n",
       "    </tr>\n",
       "    <tr>\n",
       "      <th>Zambia</th>\n",
       "      <td>49.042</td>\n",
       "      <td>49.452</td>\n",
       "      <td>49.794</td>\n",
       "      <td>50.133</td>\n",
       "      <td>49.849</td>\n",
       "      <td>50.563</td>\n",
       "      <td>50.679</td>\n",
       "      <td>50.802</td>\n",
       "      <td>50.856</td>\n",
       "      <td>51.147</td>\n",
       "      <td>51.493</td>\n",
       "      <td>52.023</td>\n",
       "      <td>52.629</td>\n",
       "      <td>53.300</td>\n",
       "      <td>53.870</td>\n",
       "      <td>54.239</td>\n",
       "      <td>54.604</td>\n",
       "      <td>54.709</td>\n",
       "      <td>54.610</td>\n",
       "      <td>54.439</td>\n",
       "      <td>54.143</td>\n",
       "      <td>54.047</td>\n",
       "      <td>53.859</td>\n",
       "      <td>53.389</td>\n",
       "      <td>52.755</td>\n",
       "      <td>...</td>\n",
       "      <td>44.945</td>\n",
       "      <td>44.701</td>\n",
       "      <td>44.659</td>\n",
       "      <td>45.231</td>\n",
       "      <td>46.019</td>\n",
       "      <td>46.979</td>\n",
       "      <td>48.284</td>\n",
       "      <td>49.487</td>\n",
       "      <td>50.659</td>\n",
       "      <td>51.795</td>\n",
       "      <td>52.739</td>\n",
       "      <td>53.945</td>\n",
       "      <td>55.300</td>\n",
       "      <td>56.799</td>\n",
       "      <td>57.771</td>\n",
       "      <td>58.867</td>\n",
       "      <td>59.878</td>\n",
       "      <td>60.699</td>\n",
       "      <td>61.208</td>\n",
       "      <td>61.794</td>\n",
       "      <td>62.120</td>\n",
       "      <td>62.342</td>\n",
       "      <td>62.793</td>\n",
       "      <td>62.380</td>\n",
       "      <td>61.223</td>\n",
       "    </tr>\n",
       "    <tr>\n",
       "      <th>Zimbabwe</th>\n",
       "      <td>53.235</td>\n",
       "      <td>53.619</td>\n",
       "      <td>54.071</td>\n",
       "      <td>54.549</td>\n",
       "      <td>54.994</td>\n",
       "      <td>55.459</td>\n",
       "      <td>55.889</td>\n",
       "      <td>56.188</td>\n",
       "      <td>56.455</td>\n",
       "      <td>56.714</td>\n",
       "      <td>57.032</td>\n",
       "      <td>57.196</td>\n",
       "      <td>57.401</td>\n",
       "      <td>57.367</td>\n",
       "      <td>57.494</td>\n",
       "      <td>57.552</td>\n",
       "      <td>56.936</td>\n",
       "      <td>56.285</td>\n",
       "      <td>54.593</td>\n",
       "      <td>55.038</td>\n",
       "      <td>58.674</td>\n",
       "      <td>59.327</td>\n",
       "      <td>59.875</td>\n",
       "      <td>60.248</td>\n",
       "      <td>61.051</td>\n",
       "      <td>...</td>\n",
       "      <td>47.993</td>\n",
       "      <td>46.819</td>\n",
       "      <td>45.206</td>\n",
       "      <td>44.686</td>\n",
       "      <td>41.957</td>\n",
       "      <td>44.565</td>\n",
       "      <td>43.393</td>\n",
       "      <td>44.502</td>\n",
       "      <td>44.768</td>\n",
       "      <td>45.364</td>\n",
       "      <td>45.610</td>\n",
       "      <td>46.723</td>\n",
       "      <td>48.063</td>\n",
       "      <td>50.652</td>\n",
       "      <td>53.347</td>\n",
       "      <td>55.626</td>\n",
       "      <td>57.458</td>\n",
       "      <td>58.846</td>\n",
       "      <td>59.591</td>\n",
       "      <td>60.306</td>\n",
       "      <td>60.709</td>\n",
       "      <td>61.414</td>\n",
       "      <td>61.292</td>\n",
       "      <td>61.124</td>\n",
       "      <td>59.253</td>\n",
       "    </tr>\n",
       "  </tbody>\n",
       "</table>\n",
       "<p>220 rows × 62 columns</p>\n",
       "</div>"
      ],
      "text/plain": [
       "                1960    1961    1962    1963    1964    1965    1966    1967  \\\n",
       "Country Name                                                                   \n",
       "Aruba         64.152  64.537  64.752  65.132  65.294  65.502  66.063  66.439   \n",
       "Afghanistan   32.535  33.068  33.547  34.016  34.494  34.953  35.453  35.924   \n",
       "...              ...     ...     ...     ...     ...     ...     ...     ...   \n",
       "Zambia        49.042  49.452  49.794  50.133  49.849  50.563  50.679  50.802   \n",
       "Zimbabwe      53.235  53.619  54.071  54.549  54.994  55.459  55.889  56.188   \n",
       "\n",
       "                1968    1969    1970    1971    1972    1973    1974    1975  \\\n",
       "Country Name                                                                   \n",
       "Aruba         66.757  67.168  67.583  67.975  68.577  69.092  69.503  69.762   \n",
       "Afghanistan   36.418  36.910  37.418  37.923  38.444  39.003  39.550  40.100   \n",
       "...              ...     ...     ...     ...     ...     ...     ...     ...   \n",
       "Zambia        50.856  51.147  51.493  52.023  52.629  53.300  53.870  54.239   \n",
       "Zimbabwe      56.455  56.714  57.032  57.196  57.401  57.367  57.494  57.552   \n",
       "\n",
       "                1976    1977    1978    1979    1980    1981    1982    1983  \\\n",
       "Country Name                                                                   \n",
       "Aruba         70.035  70.264  70.494  70.778  71.066  71.722  71.959  72.105   \n",
       "Afghanistan   40.645  41.228  40.271  39.086  39.618  40.164  37.766  38.187   \n",
       "...              ...     ...     ...     ...     ...     ...     ...     ...   \n",
       "Zambia        54.604  54.709  54.610  54.439  54.143  54.047  53.859  53.389   \n",
       "Zimbabwe      56.936  56.285  54.593  55.038  58.674  59.327  59.875  60.248   \n",
       "\n",
       "                1984  ...    1997    1998    1999    2000    2001    2002  \\\n",
       "Country Name          ...                                                   \n",
       "Aruba         72.251  ...  73.452  73.491  73.561  73.569  73.647  73.726   \n",
       "Afghanistan   33.329  ...  53.634  52.943  54.846  55.298  55.798  56.454   \n",
       "...              ...  ...     ...     ...     ...     ...     ...     ...   \n",
       "Zambia        52.755  ...  44.945  44.701  44.659  45.231  46.019  46.979   \n",
       "Zimbabwe      61.051  ...  47.993  46.819  45.206  44.686  41.957  44.565   \n",
       "\n",
       "                2003    2004    2005    2006    2007    2008    2009    2010  \\\n",
       "Country Name                                                                   \n",
       "Aruba         73.752  73.576  73.811  74.026  74.210  74.147  74.560  75.404   \n",
       "Afghanistan   57.344  57.944  58.361  58.684  59.111  59.852  60.364  60.851   \n",
       "...              ...     ...     ...     ...     ...     ...     ...     ...   \n",
       "Zambia        48.284  49.487  50.659  51.795  52.739  53.945  55.300  56.799   \n",
       "Zimbabwe      43.393  44.502  44.768  45.364  45.610  46.723  48.063  50.652   \n",
       "\n",
       "                2011    2012    2013    2014    2015    2016    2017    2018  \\\n",
       "Country Name                                                                   \n",
       "Aruba         75.465  75.531  75.636  75.601  75.683  75.617  75.903  76.072   \n",
       "Afghanistan   61.419  61.923  62.417  62.545  62.659  63.136  63.016  63.081   \n",
       "...              ...     ...     ...     ...     ...     ...     ...     ...   \n",
       "Zambia        57.771  58.867  59.878  60.699  61.208  61.794  62.120  62.342   \n",
       "Zimbabwe      53.347  55.626  57.458  58.846  59.591  60.306  60.709  61.414   \n",
       "\n",
       "                2019    2020    2021  \n",
       "Country Name                          \n",
       "Aruba         76.248  75.723  74.626  \n",
       "Afghanistan   63.565  62.575  61.982  \n",
       "...              ...     ...     ...  \n",
       "Zambia        62.793  62.380  61.223  \n",
       "Zimbabwe      61.292  61.124  59.253  \n",
       "\n",
       "[220 rows x 62 columns]"
      ]
     },
     "execution_count": 6,
     "metadata": {},
     "output_type": "execute_result"
    }
   ],
   "source": [
    "df_total = pd.read_csv('data/World_Bank_Group-total.csv', skiprows=4, index_col=0)\n",
    "df_total = pretify_df(df_total)\n",
    "df_total.dropna(how='all', inplace=True)\n",
    "print(f\"df_total: {len(df_total)} records\")\n",
    "\n",
    "df_male = pd.read_csv('data/World_Bank_Group-male.csv', skiprows=4, index_col=0)\n",
    "df_male = pretify_df(df_male)\n",
    "df_male.dropna(how='all', inplace=True)\n",
    "print(f\"df_male: {len(df_male)} records\")\n",
    "\n",
    "df_female = pd.read_csv('data/World_Bank_Group-female.csv', skiprows=4, index_col=0)\n",
    "df_female = pretify_df(df_female)\n",
    "df_female.dropna(how='all', inplace=True)\n",
    "print(f\"df_female: {len(df_female)} records\")\n",
    "\n",
    "assert len(df_total) == len(df_male) == len(df_female), 'Lengths of dataFrames arter transformations are different'\n",
    "\n",
    "df_total"
   ]
  },
  {
   "cell_type": "markdown",
   "id": "81a009e0-cc72-40c2-bf60-bc1bfb1056fb",
   "metadata": {},
   "source": [
    "<br />\n",
    "<br />"
   ]
  },
  {
   "cell_type": "code",
   "execution_count": 7,
   "id": "c4852129-25c4-49e1-8010-ad241174282d",
   "metadata": {},
   "outputs": [],
   "source": [
    "ChartParams = namedtuple('ChartParams', ['ylim_1', 'empty_labels_1_down', 'empty_labels_1_up', 'legend_loc_1',\n",
    "                                         'ylim_2', 'empty_labels_2_down', 'empty_labels_2_up', 'legend_loc_2',\n",
    "                                         'label_x_rotation', 'two_legends'],\n",
    "                                        defaults=(None, 0, 0, 'upper left', None, 0, 0, 'best', 'vertical', False))"
   ]
  },
  {
   "cell_type": "code",
   "execution_count": 8,
   "id": "f4658be1-359e-45a9-8dc6-0d10a38fc91b",
   "metadata": {},
   "outputs": [],
   "source": [
    "def rounding_up(x):\n",
    "    rem = x % 1\n",
    "    return (x // 1 + 0.25) if rem < 0.149 else \\\n",
    "           (x // 1 + 0.5) if rem < 0.399 else \\\n",
    "           (x // 1 + 1.25) if rem > 0.901 else \\\n",
    "           math.ceil(x)\n",
    "\n",
    "def rounding_down(x):\n",
    "    rem = x % 1\n",
    "    return (x // 1 + 0.75) if rem > 0.851 else \\\n",
    "           (x // 1 + 0.5) if rem > 0.601 else \\\n",
    "           (x // 1 - 0.25) if rem < 0.099 else \\\n",
    "           math.floor(x)"
   ]
  },
  {
   "cell_type": "code",
   "execution_count": 9,
   "id": "35ea8612-4447-4dad-87f7-7fb1466ddef0",
   "metadata": {},
   "outputs": [
    {
     "name": "stdout",
     "output_type": "stream",
     "text": [
      "Existance of directories checked\n"
     ]
    }
   ],
   "source": [
    "# Ensure that all directories for output of files exist. Otherwise, create them.\n",
    "def ensure_existance_of_directories(ls_dir):\n",
    "    for dir in ls_dir:\n",
    "        if not os.path.exists(dir):\n",
    "            os.mkdir(dir)\n",
    "    print('Existance of directories checked')\n",
    "            \n",
    "ls_dir = ['output-Africa', 'output-America', 'output-Asia', 'output-CIS', 'output-Europe',\n",
    "          'output-leader', 'output-special', 'output-USSR', 'output-Yugoslavia', 'output-new']\n",
    "ensure_existance_of_directories(ls_dir)"
   ]
  },
  {
   "cell_type": "code",
   "execution_count": 10,
   "id": "f9616306-8f57-4e1a-90a9-b69202a51bb1",
   "metadata": {},
   "outputs": [],
   "source": [
    "def process_chart_result(plt, lang=LANG, destination=DESTINATION_OUTPUT, chart_complexity=CHART_COMPLEXITY, file_name_full=None, file_name_partial=''):\n",
    "    if destination == 'file':\n",
    "        if file_name_full:\n",
    "            plt.savefig(f\"output-special/{file_name_full}{' -diff' if chart_complexity=='with_difference' else ''}{' -ru' if lang=='ru' else ''}.png\",\n",
    "                        bbox_inches='tight', facecolor='white', pad_inches=0.05)\n",
    "        else:\n",
    "            clarification_of_folder = '-CIS' if file_name_partial in [\n",
    "                'Russia', 'Belarus', 'Ukraine', 'Moldova', 'Georgia', 'Azerbaijan', 'Armenia', 'Kazakhstan', 'Turkmenistan', 'Uzbekistan', 'Kyrgyzstan', 'Tajikistan'\n",
    "            ] else '-Yugoslavia' if file_name_partial in [\n",
    "                'Slovenia', 'Croatia', 'Bosnia and Herzegovina', 'Montenegro', 'Serbia', 'North Macedonia'\n",
    "            ] else '-Europe' if file_name_partial in [\n",
    "                'Iceland', 'Ireland', 'United Kingdom', 'Portugal', 'Spain', 'Italy', 'Greece', 'France', 'Belgium', 'Netherlands', 'Germany', 'Switzerland',\n",
    "                'Austria', 'Denmark', 'Norway', 'Sweden', 'Finland', 'Poland', 'Slovakia', 'Czechia', 'Romania', 'Hungary', 'Bulgaria', 'Malta', 'Liechtenstein', 'Luxembourg', 'Lithuania'\n",
    "            ] else '-Asia' if file_name_partial in [\n",
    "                'Turkey', 'Cyprus', 'Iran', 'Afghanistan', 'Pakistan', 'India', 'Sri Lanka', 'Maldives', 'Bangladesh', 'Thailand', 'Vietnam', 'Malaysia', 'Indonesia',\n",
    "                'Philippines', 'Singapore', 'China', 'Mongolia', 'North Korea', 'South Korea', 'Japan', 'Australia', 'New Zealand', 'Israel', 'West Bank and Gaza',\n",
    "                'Lebanon', 'United Arab Emirates', 'Saudi Arabia', 'Jordan', 'Syria', 'Iraq', 'Kuwait', 'Qatar', 'Oman', 'Nepal', 'Bhutan'\n",
    "            ] else '-Africa' if file_name_partial in [\n",
    "                'Egypt', 'Seychelles', 'Algeria', 'Morocco', 'Tunisia', 'Libya', 'South Africa', 'Nigeria', 'Ethiopia', 'Kenya', 'Tanzania', 'Congo, DR', 'Somalia',\n",
    "                'Zimbabwe', 'Uganda', 'Botswana', 'Angola', 'Niger', 'Mali'\n",
    "            ] else '-America' if file_name_partial in [\n",
    "                'USA', 'Canada', 'Mexico', 'Cuba', 'Haiti', 'Dominican Republic', 'Bermuda', 'Guatemala', 'Costa Rica', 'Chile', 'Uruguay', 'Colombia', 'Ecuador',\n",
    "                'Peru', 'Argentina', 'Brazil', 'Venezuela'\n",
    "            ] else '-new' if file_name_partial in [\n",
    "            ] else ''\n",
    "            plt.savefig(f\"output{clarification_of_folder}/Life expectancy by WBG -{file_name_partial}{' -diff' if chart_complexity=='with_difference' else ''}{' -ru' if lang=='ru' else ''}.png\",\n",
    "                            bbox_inches='tight', facecolor='white', pad_inches=0.05)        \n",
    "        print('Data has written to file')\n",
    "    elif destination == 'file-leader':\n",
    "        if file_name_full:\n",
    "            plt.savefig(f\"output-leader/{file_name_full} -diff{' -ru' if lang=='ru' else ''}.png\",\n",
    "                        bbox_inches='tight', facecolor='white', pad_inches=0.05)\n",
    "        else:\n",
    "            plt.savefig(f\"output-leader/Life expectancy by WBG -{file_name_partial} -leader{' -ru' if lang=='ru' else ''}.png\",\n",
    "                        bbox_inches='tight', facecolor='white', pad_inches=0.05)        \n",
    "        print('Data has written to file')\n",
    "    else:\n",
    "        plt.show()"
   ]
  },
  {
   "cell_type": "markdown",
   "id": "fe97b48a-6796-4182-92c7-02c039a48064",
   "metadata": {},
   "source": [
    "<br>"
   ]
  },
  {
   "cell_type": "code",
   "execution_count": 11,
   "id": "30dfa988-b275-408f-a2b7-d638d311c97b",
   "metadata": {},
   "outputs": [],
   "source": [
    "def create_chart_with_difference(ser_total=None, ser_male=None, ser_female=None, *, figure_size=(16, 10),\n",
    "                 title_en='', title_ru='', ver_lines=VER_LINES, ver_lines_strong=[], chart_complexity=CHART_COMPLEXITY, chart_params=ChartParams(),\n",
    "                 lang='ru', destination=DESTINATION_OUTPUT, file_name_full=None, file_name_partial=''):\n",
    "    \n",
    "    plt.rcParams['figure.figsize'] = figure_size\n",
    "    \n",
    "    gap_diff = ser_female - ser_male\n",
    "    \n",
    "    min_chart_1 = min(ser_total.min(), ser_male.min(), ser_female.min())\n",
    "    max_chart_1 = max(ser_total.max(), ser_male.max(), ser_female.max())\n",
    "    print(f\"min_1: {min_chart_1:5.2f}, max_1: {max_chart_1:5.2f}\")\n",
    "    min_chart_2 = gap_diff.min()\n",
    "    max_chart_2 = gap_diff.max()\n",
    "    print(f\"min_2: {min_chart_2:5.2f}, max_2: {max_chart_2:5.2f}      Δ: {(max_chart_1 - min_chart_1 + max_chart_2 - min_chart_2):.2f}\")\n",
    "    # print(f\"difference_total: {(max_chart_1 - min_chart_1 + max_chart_2 - min_chart_2):.2f}\")\n",
    "    \n",
    "    # determine limits on axis\n",
    "    if not chart_params.ylim_1:\n",
    "        chart_params = chart_params._replace(ylim_1=(rounding_down(min_chart_1),\n",
    "                                                     rounding_up(max_chart_1)\n",
    "                                                    ) )\n",
    "    if not chart_params.ylim_2:\n",
    "        chart_params = chart_params._replace(ylim_2=(rounding_down(min_chart_2),\n",
    "                                                     rounding_up(max_chart_2))\n",
    "                                                    )\n",
    "        \n",
    "    # print(f\"min_1: {min_chart_1:.2f}, max_1: {max_chart_1:.2f}\")\n",
    "    # print(f\"min_2: {min_chart_2:5.2f}, max_2: {max_chart_2:5.2f}\")\n",
    "    \n",
    "    # print(chart_params)\n",
    "    \n",
    "    min_for_labels_1 = math.ceil(chart_params.ylim_1[0])\n",
    "    max_for_labels_1 = math.floor(chart_params.ylim_1[1])\n",
    "    min_for_labels_2 = math.ceil(chart_params.ylim_2[0])\n",
    "    max_for_labels_2 = math.floor(chart_params.ylim_2[1])\n",
    "    \n",
    "    year_min = ser_total.index[0]\n",
    "    year_max = ser_total.index[-1]\n",
    "    \n",
    "    # set chart areas, their locations, sizes and appearances\n",
    "    fig, (ax1, ax2) = plt.subplots(nrows=2,\n",
    "                                   gridspec_kw={'height_ratios': [chart_params.ylim_1[1] - chart_params.ylim_1[0],\n",
    "                                                                  chart_params.ylim_2[1] - chart_params.ylim_2[0]]},\n",
    "                                   constrained_layout=True)\n",
    "    \n",
    "    # set where ticks and labels will be shown around charts\n",
    "    ax1.tick_params(axis='x', which='both', top=False, bottom=True, labeltop=False, labelbottom=True, pad=1.5)\n",
    "    ax1.tick_params(axis='y', which='both', left=True, right=True, labelleft=True, labelright=True, pad=1.5)\n",
    "    ax2.tick_params(axis='x', which='both', top=True, bottom=False, labeltop=False, labelbottom=False, pad=1.5)\n",
    "    ax2.tick_params(axis='y', which='both', left=True, right=True, labelleft=True, labelright=True, pad=1.5)\n",
    "\n",
    "    # set limits of chart axes\n",
    "    ax1.set_xlim(year_min, year_max)\n",
    "    ax2.set_xlim(year_min, year_max)\n",
    "    ax1.set_ylim(chart_params.ylim_1[0], chart_params.ylim_1[1])\n",
    "    ax2.set_ylim(chart_params.ylim_2[0], chart_params.ylim_2[1])\n",
    "\n",
    "    # set ticks and labels\n",
    "    labels_x = range(year_min, year_max+1)\n",
    "    ax1.set_xticks(labels_x)\n",
    "    ax2.set_xticks(labels_x)\n",
    "    ax1.set_xticklabels(labels_x, fontsize=13.5, rotation=chart_params.label_x_rotation)\n",
    "    \n",
    "    labels_y_1 = tuple(range(min_for_labels_1, max_for_labels_1 + 1))\n",
    "    ax1.set_yticks(labels_y_1)\n",
    "    ax1.set_yticklabels(('',) * chart_params.empty_labels_1_down + \n",
    "                        labels_y_1[chart_params.empty_labels_1_down:-chart_params.empty_labels_1_up if chart_params.empty_labels_1_up else None] +\n",
    "                        ('',) * chart_params.empty_labels_1_up, fontsize=11.5)  # clear_bounds_of_labels(labels_y_1, min_chart_1, max_chart_1)\n",
    "    labels_y_2 = tuple(range(min_for_labels_2, max_for_labels_2 + 1))\n",
    "    ax2.set_yticks(labels_y_2)\n",
    "    ax2.set_yticklabels(('',) * chart_params.empty_labels_2_down + \n",
    "                        labels_y_2[chart_params.empty_labels_2_down:-chart_params.empty_labels_2_up if chart_params.empty_labels_2_up else None] +\n",
    "                        ('',) * chart_params.empty_labels_2_up, fontsize=11.5)\n",
    "\n",
    "    # settings grids\n",
    "    ax1.grid(color='wheat', linewidth=0.25)\n",
    "    ax2.grid(color='wheat', linewidth=0.25)\n",
    "    \n",
    "    for year in range(year_min - year_min % 10 + 10, year_max, 10):\n",
    "        ax1.axvline(x=year, color='lightgrey', linewidth=0.4, zorder=0)\n",
    "        ax2.axvline(x=year, color='lightgrey', linewidth=0.4, zorder=0)\n",
    "\n",
    "    ax1.axvline(x=2000, color='lightblue', linewidth=2, alpha=0.125, zorder=0)\n",
    "    ax2.axvline(x=2000, color='lightblue', linewidth=2, alpha=0.125, zorder=0)\n",
    "\n",
    "    for age in range(min_for_labels_1 - min_for_labels_1 % 5 + 5, max_for_labels_1, 5):\n",
    "        ax1.axhline(y=age, color='lightgrey', linewidth=0.4, zorder=0)\n",
    "    \n",
    "    for yd in range(min_for_labels_2 - min_for_labels_2 % 5 + 5, max_for_labels_2, 5):\n",
    "        ax2.axhline(y=yd, color='lightgrey', linewidth=0.4, zorder=0)        \n",
    "        \n",
    "    for year in ver_lines:\n",
    "        ax1.axvline(x=year, color='wheat', linewidth=2, alpha=0.5, zorder=0)\n",
    "        ax2.axvline(x=year, color='wheat', linewidth=2, alpha=0.5, zorder=0)\n",
    "\n",
    "    for year in ver_lines_strong:\n",
    "        ax1.axvline(x=year, color='lightgrey', linewidth=2.5, zorder=0)\n",
    "        ax2.axvline(x=year, color='lightgrey', linewidth=2.5, zorder=0)\n",
    "            \n",
    "    if chart_params.ylim_2[0] < 0 and chart_params.ylim_2[1] > 0:\n",
    "        ax2.axhline(y=0, color='wheat', linewidth=2, alpha=0.5, zorder=0)\n",
    "  \n",
    "    # set title\n",
    "    ax1.set_title(label=f'Ожидаемая при рождении продолжительность жизни {title_ru}' if lang=='ru' else \\\n",
    "                        f'Life expectancy at birth {title_en}', fontsize=14)\n",
    "    \n",
    "    #———  setting for chart 1  ———\n",
    "    ax1.plot(ser_female.index, ser_female.values, color='hotpink', linestyle='-', linewidth=2.5, label='женщины' if lang=='ru' else 'female', zorder=12)\n",
    "    ax1.plot(ser_total.index, ser_total.values, color='forestgreen', linestyle='-', linewidth=5, label='всё население' if lang=='ru' else 'overall', zorder=11)\n",
    "    ax1.plot(ser_male.index, ser_male.values, color='royalblue', linestyle='-', linewidth=2.5, label='мужчины' if lang=='ru' else 'male', zorder=13)\n",
    "    \n",
    "    #———  setting for chart 2  ———\n",
    "    ax2.plot(gap_diff.index, gap_diff.values, color='rosybrown', linestyle='-', linewidth=2.5, label='межгендерная разница' if lang=='ru' else 'gender gap', zorder=12)\n",
    "    \n",
    "    if chart_params.two_legends:\n",
    "        ax1.legend(loc=chart_params.legend_loc_1, fontsize=12)\n",
    "        ax2.legend(loc=chart_params.legend_loc_2, fontsize=12)\n",
    "    else:\n",
    "        my_handles = [\n",
    "                  Line2D([0], [0], color='hotpink', lw=2.5, ls='-',  label='женщины' if lang=='ru' else 'female'),\n",
    "                  Line2D([0], [0], color='forestgreen', lw=5, ls='-',  label='всё население' if lang=='ru' else 'overall'),\n",
    "                  Line2D([0], [0], color='royalblue', lw=2.5, ls='-',  label='мужчины' if lang=='ru' else 'male'),\n",
    "                  Line2D([0], [0], color='rosybrown', lw=2.5, ls='-',  label='межгендерная\\nразница' if lang=='ru' else 'gender gap')\n",
    "                 ]\n",
    "\n",
    "        ax1.legend(handles=my_handles, loc=chart_params.legend_loc_1, fontsize=12)"
   ]
  },
  {
   "cell_type": "code",
   "execution_count": 12,
   "id": "e74a37f2-1422-44f0-b595-ba68d20ab1ec",
   "metadata": {},
   "outputs": [],
   "source": [
    "def create_chart_simple(ser_total=None, ser_male=None, ser_female=None, *, figure_size=(16, 10),\n",
    "                 title_en='', title_ru='', ver_lines=VER_LINES, ver_lines_strong=[], chart_complexity=CHART_COMPLEXITY, chart_params=ChartParams(),\n",
    "                 lang='ru', destination=DESTINATION_OUTPUT, file_name_full=None, file_name_partial=''):\n",
    "\n",
    "    # print(figure_size)\n",
    "    plt.rcParams['figure.figsize'] = (figure_size[0] * 1.25, (figure_size[1]-2) * 1.25)\n",
    "    \n",
    "    min_chart_1 = min(ser_total.min(), ser_male.min(), ser_female.min())\n",
    "    max_chart_1 = max(ser_total.max(), ser_male.max(), ser_female.max())\n",
    "    print(f\"min: {min_chart_1:.2f}, max: {max_chart_1:.2f}      Δ: {(max_chart_1 - min_chart_1):.2f}\")\n",
    "    \n",
    "    # determine limits on axis\n",
    "    if not chart_params.ylim_1:\n",
    "        chart_params = chart_params._replace(ylim_1=(rounding_down(min_chart_1),\n",
    "                                                     rounding_up(max_chart_1)\n",
    "                                                    ) )\n",
    "        \n",
    "    # print(f\"min_1: {min_chart_1:.2f}, max_1: {max_chart_1:.2f}\")\n",
    "    \n",
    "    # print(chart_params)\n",
    "    \n",
    "    min_for_labels = math.ceil(chart_params.ylim_1[0])\n",
    "    max_for_labels = math.floor(chart_params.ylim_1[1])\n",
    "    \n",
    "    year_min = ser_total.index[0]\n",
    "    year_max = ser_total.index[-1]\n",
    "    \n",
    "    # set chart areas, their locations, sizes and appearances\n",
    "    fig = plt.figure()\n",
    "    ax = fig.add_subplot(111)\n",
    "\n",
    "    \n",
    "    # set where ticks and labels will be shown around charts\n",
    "    ax.tick_params(axis='x', which='both', top=False, bottom=True, labeltop=False, labelbottom=True, pad=1.5)\n",
    "    ax.tick_params(axis='y', which='both', left=True, right=True, labelleft=True, labelright=True, pad=1.5)\n",
    "\n",
    "    # set limits of chart axes\n",
    "    ax.set_xlim(year_min, year_max)\n",
    "    ax.set_ylim(chart_params.ylim_1[0], chart_params.ylim_1[1])\n",
    "\n",
    "    \n",
    "    # set ticks and labels\n",
    "    labels_x = range(year_min, year_max+1)\n",
    "    ax.set_xticks(labels_x)\n",
    "    ax.set_xticklabels(labels_x, fontsize=13.5, rotation=chart_params.label_x_rotation)\n",
    "    \n",
    "    labels_y = tuple(range(min_for_labels, max_for_labels + 1))\n",
    "    ax.set_yticks(labels_y)\n",
    "    ax.set_yticklabels(('',) * chart_params.empty_labels_1_down + \n",
    "                        labels_y[chart_params.empty_labels_1_down:-chart_params.empty_labels_1_up if chart_params.empty_labels_1_up else None] +\n",
    "                        ('',) * chart_params.empty_labels_1_up, fontsize=11.5)\n",
    "\n",
    "    # settings grids\n",
    "    ax.grid(color='wheat', linewidth=0.25)\n",
    "    \n",
    "    for year in range(year_min - year_min % 10 + 10, year_max, 10):\n",
    "        ax.axvline(x=year, color='lightgrey', linewidth=0.4, zorder=0)\n",
    "\n",
    "    ax.axvline(x=2000, color='lightblue', linewidth=2, alpha=0.125, zorder=0)\n",
    "\n",
    "    for age in range(min_for_labels - min_for_labels % 5 + 5, max_for_labels, 5):\n",
    "        ax.axhline(y=age, color='lightgrey', linewidth=0.4, zorder=0)    \n",
    "        \n",
    "    for year in ver_lines:\n",
    "        ax.axvline(x=year, color='wheat', linewidth=2, alpha=0.5, zorder=0)\n",
    "\n",
    "    for year in ver_lines_strong:\n",
    "        ax.axvline(x=year, color='lightgrey', linewidth=2.5, zorder=0)\n",
    "  \n",
    "    # set title\n",
    "    ax.set_title(label=f'Ожидаемая при рождении продолжительность жизни {title_ru}' if lang=='ru' else \\\n",
    "                        f'Life expectancy at birth {title_en}', fontsize=14)\n",
    "    \n",
    "    #———  setting for chart 1  ———\n",
    "    ax.plot(ser_female.index, ser_female.values, color='hotpink', linestyle='-', linewidth=2.5, label='женщины' if lang=='ru' else 'female', zorder=12)\n",
    "    ax.plot(ser_total.index, ser_total.values, color='forestgreen', linestyle='-', linewidth=5, label='всё население' if lang=='ru' else 'overall', zorder=11)\n",
    "    ax.plot(ser_male.index, ser_male.values, color='royalblue', linestyle='-', linewidth=2.5, label='мужчины' if lang=='ru' else 'male', zorder=13)\n",
    "    \n",
    "    ax.legend(loc=chart_params.legend_loc_1, fontsize=12)"
   ]
  },
  {
   "cell_type": "code",
   "execution_count": 13,
   "id": "e1ac0e2f-087b-4354-8636-0539df1bf164",
   "metadata": {},
   "outputs": [],
   "source": [
    "def create_chart(ser_total=None, ser_male=None, ser_female=None, *, figure_size=(16, 10),\n",
    "                 title_en='', title_ru='', ver_lines=VER_LINES, ver_lines_strong=[], chart_complexity=CHART_COMPLEXITY, chart_params=ChartParams(),\n",
    "                 lang='ru', destination=DESTINATION_OUTPUT, file_name_full=None, file_name_partial=''):\n",
    "\n",
    "    if (ser_total.name in LS_IGNORE) or (destination == 'pass'):\n",
    "        return None\n",
    "    \n",
    "    if chart_complexity == 'all_to_files':\n",
    "        for lang in ['en', 'ru']:\n",
    "            create_chart_with_difference(ser_total=ser_total, ser_male=ser_male, ser_female=ser_female, figure_size=figure_size,\n",
    "                         title_en=title_en, title_ru=title_ru, ver_lines=ver_lines, ver_lines_strong=ver_lines_strong, chart_params=chart_params,\n",
    "                         lang=lang, destination=destination, file_name_full=file_name_full, file_name_partial=file_name_partial)\n",
    "            process_chart_result(plt, lang=lang, destination='file', chart_complexity='with_difference', file_name_full=file_name_full, file_name_partial=file_name_partial)\n",
    "            \n",
    "            create_chart_simple(ser_total=ser_total, ser_male=ser_male, ser_female=ser_female, figure_size=figure_size,\n",
    "                         title_en=title_en, title_ru=title_ru, ver_lines=ver_lines, ver_lines_strong=ver_lines_strong, chart_params=chart_params,\n",
    "                         lang=lang, destination=destination, file_name_full=file_name_full, file_name_partial=file_name_partial)\n",
    "            process_chart_result(plt, lang=lang, destination='file', chart_complexity='simple', file_name_full=file_name_full, file_name_partial=file_name_partial)\n",
    "\n",
    "    else:\n",
    "        if chart_complexity == 'with_difference':\n",
    "            create_chart_with_difference(ser_total=ser_total, ser_male=ser_male, ser_female=ser_female, figure_size=figure_size,\n",
    "                         title_en=title_en, title_ru=title_ru, ver_lines=ver_lines, ver_lines_strong=ver_lines_strong, chart_params=chart_params,\n",
    "                         lang=lang, destination=destination, file_name_full=file_name_full, file_name_partial=file_name_partial)\n",
    "        else:\n",
    "            create_chart_simple(ser_total=ser_total, ser_male=ser_male, ser_female=ser_female, figure_size=figure_size,\n",
    "                         title_en=title_en, title_ru=title_ru, ver_lines=ver_lines, ver_lines_strong=ver_lines_strong, chart_params=chart_params,\n",
    "                         lang=lang, destination=destination, file_name_full=file_name_full, file_name_partial=file_name_partial)\n",
    "\n",
    "        process_chart_result(plt, lang=lang, destination=destination, chart_complexity=chart_complexity, file_name_full=file_name_full, file_name_partial=file_name_partial)"
   ]
  },
  {
   "cell_type": "code",
   "execution_count": 14,
   "id": "3c78a508-5d78-403d-bf43-3b48662759af",
   "metadata": {},
   "outputs": [],
   "source": [
    "# Function that transform data in standard form (yyyy-mm-dd) in float number (yyyy.xx...)\n",
    "def data_to_ration(data_st):\n",
    "    year, month, day = (int(v) for v in data_st.split('-'))\n",
    "    if year % 4 == 0:\n",
    "        nmb_days_in_month = [31, 29, 31, 30, 31, 30, 31, 31, 30, 31, 30, 31]\n",
    "        no_day = sum(nmb_days_in_month[:month-1]) + day\n",
    "        # print(f\"no_day: {no_day}\")\n",
    "        ratio = year + (no_day - 1) / 366\n",
    "    else:\n",
    "        nmb_days_in_month = [31, 28, 31, 30, 31, 30, 31, 31, 30, 31, 30, 31]\n",
    "        no_day = sum(nmb_days_in_month[:month-1]) + day\n",
    "        # print(f\"no_day: {no_day}\")\n",
    "        ratio = year + (no_day - 1) / 365\n",
    "    return ratio"
   ]
  },
  {
   "cell_type": "code",
   "execution_count": 15,
   "id": "55fe4683-80b3-47a2-9717-9a14666de434",
   "metadata": {},
   "outputs": [],
   "source": [
    "AnnotationNote = namedtuple('AnnotationNote', ['date', 'height', 'text_en', 'text_ru', 'fs', 'color'],  # fs - font_size\n",
    "                            defaults=(2000, 80, 'name', 'имя', 15, 'dimgray'))"
   ]
  },
  {
   "cell_type": "code",
   "execution_count": 16,
   "id": "d2667c78-4953-43c7-927e-010359013fdb",
   "metadata": {},
   "outputs": [],
   "source": [
    "# Function that place a text fragment on chart\n",
    "def place_text(plt, date_st, height_age, s, fs=16, color='dimgray'):\n",
    "    plt.text(x=data_to_ration(date_st)-0.3, y=height_age-0.25, s=s, verticalalignment='top', fontsize=fs, color=color)"
   ]
  },
  {
   "cell_type": "code",
   "execution_count": 17,
   "id": "411e51aa-a48f-4a4b-bc5f-53bfe47165c9",
   "metadata": {},
   "outputs": [],
   "source": [
    "def create_chart_with_leader(\n",
    "            ser_total=None, ser_male=None, ser_female=None, *, figure_size=(18, 11.5),\n",
    "            title_en='', title_ru, ver_lines=VER_LINES, ver_lines_strong=[], annotations=[], chart_params=ChartParams(),\n",
    "            lang='ru', destination=DESTINATION_OUTPUT, file_name_full=None, file_name_partial=''):\n",
    "\n",
    "    if (ser_total.name in LS_IGNORE) or (destination == 'pass'):\n",
    "        return None\n",
    "\n",
    "    plt.rcParams['figure.figsize'] = figure_size\n",
    "    \n",
    "    gap_diff = ser_female - ser_male\n",
    "    \n",
    "    min_chart_1 = min(ser_total.min(), ser_male.min(), ser_female.min())\n",
    "    max_chart_1 = max(ser_total.max(), ser_male.max(), ser_female.max())\n",
    "    print(f\"min_1: {min_chart_1:5.2f}, max_1: {max_chart_1:5.2f}\")\n",
    "    min_chart_2 = gap_diff.min()\n",
    "    max_chart_2 = gap_diff.max()\n",
    "    print(f\"min_2: {min_chart_2:5.2f}, max_2: {max_chart_2:5.2f}\")\n",
    "    \n",
    "    \n",
    "    # print(min_chart_1, max_chart_1, min_chart_2, max_chart_2)\n",
    "    \n",
    "    # determine limits on axis\n",
    "    if not chart_params.ylim_1:\n",
    "        chart_params = chart_params._replace(ylim_1=(rounding_down(min_chart_1),\n",
    "                                                     rounding_up(max_chart_1)\n",
    "                                                    ) )\n",
    "    if not chart_params.ylim_2:\n",
    "        chart_params = chart_params._replace(ylim_2=(rounding_down(min_chart_2),\n",
    "                                                     rounding_up(max_chart_2))\n",
    "                                                    )\n",
    "        \n",
    "    # print(f\"min_1: {min_chart_1:.2f}, max_1: {max_chart_1:.2f}\")\n",
    "    # print(f\"min_2: {min_chart_2:5.2f}, max_2: {max_chart_2:5.2f}\")\n",
    "    \n",
    "    # print(chart_params)\n",
    "    \n",
    "    min_for_labels_1 = math.ceil(chart_params.ylim_1[0])\n",
    "    max_for_labels_1 = math.floor(chart_params.ylim_1[1])\n",
    "    min_for_labels_2 = math.ceil(chart_params.ylim_2[0])\n",
    "    max_for_labels_2 = math.floor(chart_params.ylim_2[1])\n",
    "    \n",
    "    year_min = ser_total.index[0]\n",
    "    year_max = ser_total.index[-1]\n",
    "    \n",
    "    # set chart areas, their locations, sizes and appearances\n",
    "    fig, (ax1, ax2) = plt.subplots(nrows=2,\n",
    "                                   gridspec_kw={'height_ratios': [chart_params.ylim_1[1] - chart_params.ylim_1[0],\n",
    "                                                                  chart_params.ylim_2[1] - chart_params.ylim_2[0]]},\n",
    "                                   constrained_layout=True)\n",
    "    \n",
    "    # set where ticks and labels will be shown around charts\n",
    "    ax1.tick_params(axis='x', which='both', top=False, bottom=True, labeltop=False, labelbottom=True, pad=1.5)\n",
    "    ax1.tick_params(axis='y', which='both', left=True, right=True, labelleft=True, labelright=True, pad=1.5)\n",
    "    ax2.tick_params(axis='x', which='both', top=True, bottom=False, labeltop=False, labelbottom=False, pad=1.5)\n",
    "    ax2.tick_params(axis='y', which='both', left=True, right=True, labelleft=True, labelright=True, pad=1.5)\n",
    "\n",
    "    # set limits of chart axes\n",
    "    ax1.set_xlim(year_min, year_max)\n",
    "    ax2.set_xlim(year_min, year_max)\n",
    "    ax1.set_ylim(chart_params.ylim_1[0], chart_params.ylim_1[1])\n",
    "    ax2.set_ylim(chart_params.ylim_2[0], chart_params.ylim_2[1])\n",
    "\n",
    "    # set ticks and labels\n",
    "    labels_x = range(year_min, year_max+1)\n",
    "    ax1.set_xticks(labels_x)\n",
    "    ax2.set_xticks(labels_x)\n",
    "    ax1.set_xticklabels(labels_x, fontsize=13.5, rotation=chart_params.label_x_rotation)\n",
    "    \n",
    "    labels_y_1 = tuple(range(min_for_labels_1, max_for_labels_1 + 1))\n",
    "    ax1.set_yticks(labels_y_1)\n",
    "    ax1.set_yticklabels(('',) * chart_params.empty_labels_1_down + \n",
    "                        labels_y_1[chart_params.empty_labels_1_down:-chart_params.empty_labels_1_up if chart_params.empty_labels_1_up else None] +\n",
    "                        ('',) * chart_params.empty_labels_1_up, fontsize=11.5)  # clear_bounds_of_labels(labels_y_1, min_chart_1, max_chart_1)\n",
    "    labels_y_2 = tuple(range(min_for_labels_2, max_for_labels_2 + 1))\n",
    "    ax2.set_yticks(labels_y_2)\n",
    "    ax2.set_yticklabels(('',) * chart_params.empty_labels_2_down + \n",
    "                        labels_y_2[chart_params.empty_labels_2_down:-chart_params.empty_labels_2_up if chart_params.empty_labels_2_up else None] +\n",
    "                        ('',) * chart_params.empty_labels_2_up, fontsize=11.5)\n",
    "\n",
    "    # settings grids\n",
    "    ax1.grid(color='wheat', linewidth=0.25)\n",
    "    ax2.grid(color='wheat', linewidth=0.25)\n",
    "    \n",
    "    for year in range(year_min - year_min % 10 + 10, year_max, 10):\n",
    "        # ax1.axvline(x=year, color='lightgrey', linewidth=0.4, alpha=0.5, zorder=0)  ########\n",
    "        ax1.axvline(x=year, color='wheat', linewidth=0.5, alpha=0.8, zorder=0)  ########\n",
    "        ax2.axvline(x=year, color='wheat', linewidth=0.5, alpha=0.8, zorder=0)\n",
    "\n",
    "    # ax1.axvline(x=2000, color='lightblue', linewidth=2, alpha=0.125, zorder=0)\n",
    "    # ax2.axvline(x=2000, color='lightblue', linewidth=2, alpha=0.125, zorder=0)\n",
    "\n",
    "    for age in range(min_for_labels_1 - min_for_labels_1 % 5 + 5, max_for_labels_1, 5):\n",
    "        ax1.axhline(y=age, color='wheat', linewidth=0.5, alpha=0.8, zorder=0)\n",
    "    \n",
    "    for yd in range(min_for_labels_2 - min_for_labels_2 % 5 + 5, max_for_labels_2, 5):\n",
    "        ax2.axhline(y=yd, color='wheat', linewidth=0.5, alpha=0.8, zorder=0)        \n",
    "            \n",
    "    if chart_params.ylim_2[0] < 0 and chart_params.ylim_2[1] > 0:\n",
    "        ax2.axhline(y=0, color='wheat', linewidth=2, alpha=0.5, zorder=0)\n",
    "\n",
    "    # place vertical lines and annotations for leaders\n",
    "    for data_st in ver_lines:\n",
    "        data_ratio = data_to_ration(data_st)\n",
    "        ax1.axvline(x=data_ratio - 0.5, color='lightgrey', linewidth=1.5, zorder=0)\n",
    "        ax2.axvline(x=data_ratio - 0.5, color='lightgrey', linewidth=1.5, zorder=0)\n",
    "\n",
    "    for data_st in ver_lines_strong:\n",
    "        data_ratio = data_to_ration(data_st)\n",
    "        ax1.axvline(x=data_ratio - 0.5, color='lightgrey', linewidth=2.5, zorder=0)\n",
    "        ax2.axvline(x=data_ratio - 0.5, color='lightgrey', linewidth=2.5, zorder=0)\n",
    "        \n",
    "    for annotation in annotations:\n",
    "        place_text(ax1, annotation.date, annotation.height, annotation.text_ru if lang=='ru' else annotation.text_en, annotation.fs, annotation.color)\n",
    "        \n",
    "  \n",
    "    # set title\n",
    "    ax1.set_title(label=f'Ожидаемая при рождении продолжительность жизни {title_ru}' if lang=='ru' else \\\n",
    "                        f'Life expectancy at birth {title_en}', fontsize=14)\n",
    "    \n",
    "    #———  setting for chart 1  ———\n",
    "    ax1.plot(ser_female.index, ser_female.values, color='hotpink', linestyle='-', linewidth=2.5, label='женщины' if lang=='ru' else 'female', zorder=12)\n",
    "    ax1.plot(ser_total.index, ser_total.values, color='forestgreen', linestyle='-', linewidth=5, label='всё население' if lang=='ru' else 'overall', zorder=11)\n",
    "    ax1.plot(ser_male.index, ser_male.values, color='royalblue', linestyle='-', linewidth=2.5, label='мужчины' if lang=='ru' else 'male', zorder=13)\n",
    "    \n",
    "    #———  setting for chart 2  ———\n",
    "    ax2.plot(gap_diff.index, gap_diff.values, color='rosybrown', linestyle='-', linewidth=2.5, label='межгендерная разница' if lang=='ru' else 'gender gap', zorder=12)\n",
    "\n",
    "    if chart_params.two_legends:\n",
    "        ax1.legend(loc=chart_params.legend_loc_1, fontsize=12)\n",
    "        ax2.legend(loc=chart_params.legend_loc_2, fontsize=12)\n",
    "    else:\n",
    "        my_handles = [\n",
    "                  Line2D([0], [0], color='hotpink', lw=2.5, ls='-',  label='женщины' if lang=='ru' else 'female'),\n",
    "                  Line2D([0], [0], color='forestgreen', lw=5, ls='-',  label='всё население' if lang=='ru' else 'overall'),\n",
    "                  Line2D([0], [0], color='royalblue', lw=2.5, ls='-',  label='мужчины' if lang=='ru' else 'male'),\n",
    "                  Line2D([0], [0], color='rosybrown', lw=2.5, ls='-',  label='межгендерная\\nразница' if lang=='ru' else 'gender gap')\n",
    "                 ]\n",
    "\n",
    "        ax1.legend(handles=my_handles, loc=chart_params.legend_loc_1, fontsize=12)\n",
    "\n",
    "    process_chart_result(plt, lang=lang, destination=destination+'-leader', file_name_full=file_name_full, file_name_partial=file_name_partial)\n",
    "    \n",
    "\n",
    "# region = 'Russia'\n",
    "# ver_lines_strong = ['1991-12-25']\n",
    "# ver_lines = []\n",
    "# annotations = [\n",
    "#     AnnotationNote(date='1960-08-01', height=75.12 if LANG=='ru' else 75.73, text_en='Khrushchev', text_ru='Хрущёв'), #75.15\n",
    "#     AnnotationNote(date='1969-01-01' if LANG=='ru' else '1967-11-01', height=79, text_en='Brezhnev', text_ru='Брежнев'),\n",
    "#     AnnotationNote(date='___', height=___, text_en='___', text_ru='___'),\n",
    "#     AnnotationNote(date='___', height=___, text_en='___', text_ru='___'),\n",
    "#     AnnotationNote(date='___', height=___, text_en='___', text_ru='___'),\n",
    "#     AnnotationNote(date='___', height=___, text_en='___', text_ru='___'),\n",
    "# ]\n",
    "# , ver_lines=ver_lines, annotations=annotations,"
   ]
  },
  {
   "cell_type": "markdown",
   "id": "ef21982b-3e34-45a7-8bac-094c91543c12",
   "metadata": {},
   "source": [
    "<br />\n",
    "<br />\n",
    "<br />\n"
   ]
  },
  {
   "cell_type": "markdown",
   "id": "27722ca0-6e1b-40c5-b503-45f9b78b8ce7",
   "metadata": {},
   "source": [
    "<br />\n",
    "\n",
    "[Список президентов Турции](https://ru.wikipedia.org/wiki/Список_президентов_Турции) / [List of presidents of Turkey](https://en.wikipedia.org/wiki/List_of_presidents_of_Turkey)"
   ]
  },
  {
   "cell_type": "code",
   "execution_count": 18,
   "id": "0d91520c-e9ec-4524-8c11-867785d802a0",
   "metadata": {},
   "outputs": [],
   "source": [
    "# DESTINATION_OUTPUT = 'show'"
   ]
  },
  {
   "cell_type": "code",
   "execution_count": 19,
   "id": "96a03303-7590-4b19-8555-fd08214b685b",
   "metadata": {},
   "outputs": [],
   "source": [
    "region = 'Turkey'\n",
    "\n",
    "ver_lines = ['1960-05-27', '1966-03-28', '1973-03-28', '1980-04-06', '1980-09-12',\n",
    "             '1989-11-09', '1993-04-17', '1993-05-16', '2000-05-16', '2007-08-28', '2014-08-28']\n",
    "annotations = [\n",
    "    AnnotationNote(date='1960-08-00', height=76.9 if LANG=='ru' else 77.6, text_en='Cemal\\nGürsel', text_ru='Джемаль\\nГюрсель'),\n",
    "    AnnotationNote(date='1966-03-28', height=76.9 if LANG=='ru' else 77.6, text_en='Cevdet\\nSunay', text_ru='Джевдет\\nСунай'),\n",
    "    AnnotationNote(date='1973-03-28', height=81.7, text_en='Fahri\\nKorutürk', text_ru='Фахри\\nКорутюрк'),\n",
    "    AnnotationNote(date='1980-09-12', height=81.7, text_en='Kenan\\nEvren', text_ru='Кенан\\nЭврен'),\n",
    "    AnnotationNote(date='1989-11-09', height=81.7, text_en='Turgut\\nÖzal', text_ru='Тургут\\nОзал'),\n",
    "    AnnotationNote(date='1993-05-16', height=81.7, text_en='Süleyman\\nDemirel', text_ru='Сюлейман\\nДемирель'),\n",
    "    AnnotationNote(date='2000-05-16', height=81.7, text_en='Necdet\\nSezer', text_ru='Недждет\\nСезер'),\n",
    "    AnnotationNote(date='2007-08-28', height=81.7, text_en='Abdullah\\nGül', text_ru='Абдуллах\\nГюль'),\n",
    "    AnnotationNote(date='2014-08-28', height=82.25, text_en='Recep Erdoğan', text_ru='Реджеп\\nЭрдоган'),\n",
    "]\n",
    "chart_params=ChartParams(legend_loc_1='upper left', ylim_1=(48, 82.25), empty_labels_1_up=1)\n",
    "create_chart_with_leader(df_total.loc[region], df_male.loc[region], df_female.loc[region],\n",
    "             title_en='in Turkey in comparison with presidents of the country', title_ru='в Турции в сопоставлении с президентами страны', ver_lines=ver_lines, annotations=annotations,\n",
    "             chart_params=chart_params, lang=LANG, destination=DESTINATION_OUTPUT, file_name_partial=region)"
   ]
  },
  {
   "cell_type": "markdown",
   "id": "1f492dd0-0190-436a-9a2a-182a3aae9ef0",
   "metadata": {},
   "source": [
    "<br />\n",
    "\n",
    "[Президент Объединённых Арабских Эмиратов](https://ru.wikipedia.org/wiki/Президент_Объединённых_Арабских_Эмиратов) / [President of the United Arab Emirates](https://en.wikipedia.org/wiki/President_of_the_United_Arab_Emirates#List_of_Presidents_of_the_United_Arab_Emirates)"
   ]
  },
  {
   "cell_type": "code",
   "execution_count": 20,
   "id": "96653e06-45fc-4dac-aa25-c8b2ff7bb198",
   "metadata": {},
   "outputs": [],
   "source": [
    "region = 'United Arab Emirates'\n",
    "ver_lines_strong = ['1971-12-02']\n",
    "ver_lines = ['1971-12-02', '2004-11-03']\n",
    "annotations = [\n",
    "    AnnotationNote(date='1972-01-00', height=82.35, text_en='Zayed bin Sultan Al Nahyan', text_ru='Заид ибн Султан Аль Нахайян'),\n",
    "    AnnotationNote(date='2004-11-03', height=82.5 if LANG=='ru' else 82.35, text_en='Khalifa bin Zayed Al Nahyan', text_ru='Халифа ибн Заид Аль Нахайян')\n",
    "]\n",
    "chart_params=ChartParams(legend_loc_1='upper left', ylim_1=(46.5, 82.5))\n",
    "create_chart_with_leader(df_total.loc[region], df_male.loc[region], df_female.loc[region],\n",
    "             title_en='in the United Arab Emirates in comparison with heads of the state', title_ru='в Объединённых Арабских Эмиратах в сопоставлении с главой страны',\n",
    "             ver_lines_strong=ver_lines_strong, ver_lines=ver_lines, annotations=annotations, chart_params=chart_params,\n",
    "             lang=LANG, destination=DESTINATION_OUTPUT, file_name_partial=region)"
   ]
  },
  {
   "cell_type": "markdown",
   "id": "adb42ae7-3500-4138-b10d-a7fdce00c288",
   "metadata": {},
   "source": [
    "<br />\n",
    "\n",
    "[Список королей Саудовской Аравии](https://ru.wikipedia.org/wiki/Список_королей_Саудовской_Аравии) / [King of Saudi Arabia](https://en.wikipedia.org/wiki/King_of_Saudi_Arabia#Kings_of_Saudi_Arabia_(1932%E2%80%93present))"
   ]
  },
  {
   "cell_type": "code",
   "execution_count": 21,
   "id": "4fa8f96e-2739-434f-909b-da32b5f60b09",
   "metadata": {},
   "outputs": [],
   "source": [
    "region = 'Saudi Arabia'\n",
    "ver_lines = ['1964-10-02', '1975-03-25', '1982-06-13', '2005-08-01', '2015-01-23']\n",
    "annotations = [\n",
    "    AnnotationNote(date='1960-08-01', height=75.25 if LANG=='ru' else 75.95, text_en='Saud', text_ru='Сауд'),\n",
    "    AnnotationNote(date='1964-10-02', height=75.25 if LANG=='ru' else 75.95, text_en='Faisal', text_ru='Фейсал'),\n",
    "    AnnotationNote(date='1975-03-25', height=80.25, text_en='Khalid', text_ru='Халид'),\n",
    "    AnnotationNote(date='1982-06-13', height=80.25, text_en='Fahd', text_ru='Фахд'),\n",
    "    AnnotationNote(date='2005-08-01', height=80.25, text_en='Abdullah', text_ru='Абдалла'),\n",
    "    AnnotationNote(date='2015-01-23', height=80.25, text_en='Salman', text_ru='Салман'),\n",
    "]\n",
    "chart_params=ChartParams(legend_loc_1='upper left', ylim_1=(44.5, 80.5), empty_labels_1_up=1)\n",
    "create_chart_with_leader(df_total.loc[region], df_male.loc[region], df_female.loc[region],\n",
    "             title_en='in Saudi Arabia in comparison with kings of the state', title_ru='в Саудовской Аравии в сопоставлении с королями государства',\n",
    "             ver_lines=ver_lines, annotations=annotations, chart_params=chart_params, lang=LANG, destination=DESTINATION_OUTPUT, file_name_partial=region)"
   ]
  },
  {
   "cell_type": "markdown",
   "id": "5cc8f269-b659-431d-ad28-8807a79ab332",
   "metadata": {},
   "source": [
    "<br />\n",
    "\n",
    "[Председатель Китайской Народной Республики](https://ru.wikipedia.org/wiki/Председатель_Китайской_Народной_Республики) / [List of presidents of the People's Republic of China](https://en.wikipedia.org/wiki/List_of_presidents_of_the_People's_Republic_of_China)"
   ]
  },
  {
   "cell_type": "code",
   "execution_count": 22,
   "id": "75473819-5444-4195-89e2-921dc234cea2",
   "metadata": {},
   "outputs": [],
   "source": [
    "ver_lines = ['1968-10-31', '1983-06-18', '1988-04-08', '1993-03-27', '2003-03-15', '2013-03-14']\n",
    "annotations = [\n",
    "    AnnotationNote(date='1960-11-01', height=74.7 if LANG=='ru' else 75.75, text_en='Liu Shaoqi', text_ru='Лю Шаоци'),\n",
    "    AnnotationNote(date='1983-06-18', height=81.75, text_en='Li\\nXiannian', text_ru='Ли\\nСяньнянь'),\n",
    "    AnnotationNote(date='1988-04-08', height=81.75, text_en='Yang\\nShangkun', text_ru='Ян\\nШанкунь'),\n",
    "    AnnotationNote(date='1993-03-27', height=81.75, text_en='Jiang Zemin', text_ru='Цзян Цзэминь'),\n",
    "    AnnotationNote(date='2003-03-15', height=81.75, text_en='Hu Jintao', text_ru='Ху Цзиньтао'),\n",
    "    AnnotationNote(date='2013-02-01' if LANG=='ru' else '2013-03-14', height=82.05 if LANG=='ru' else 81.75, text_en='Xi Jinping', text_ru='Си Цзиньпин')\n",
    "]\n",
    "region = 'China'\n",
    "figure_size=(16, 12)\n",
    "chart_params=ChartParams(legend_loc_1='upper left', ylim_1=(32.5, 82), ylim_2=(2, 6.5), empty_labels_1_up=1)\n",
    "create_chart_with_leader(df_total.loc[region], df_male.loc[region], df_female.loc[region], figure_size=figure_size,\n",
    "             title_en='in China in comparison with presidents of the country', title_ru='в Китае в сопоставлении с председателями страны',\n",
    "             ver_lines=ver_lines, annotations=annotations, chart_params=chart_params,\n",
    "             lang=LANG, destination=DESTINATION_OUTPUT, file_name_partial=region)"
   ]
  },
  {
   "cell_type": "markdown",
   "id": "c912f1a4-3514-4f5b-ae8b-ceeb54ca5753",
   "metadata": {},
   "source": [
    "<br />\n",
    "\n",
    "[Список президентов Франции](https://ru.wikipedia.org/wiki/Список_президентов_Франции) / [List of presidents of France](https://en.wikipedia.org/wiki/List_of_presidents_of_France)"
   ]
  },
  {
   "cell_type": "code",
   "execution_count": 23,
   "id": "9ba71188-452b-4a6d-b40c-2a1885c1025e",
   "metadata": {},
   "outputs": [],
   "source": [
    "region = 'France'\n",
    "ver_lines=['1969-06-20', '1974-05-27', '1981-05-21', '1995-05-17', '2007-05-16', '2012-05-15', '2017-05-14']\n",
    "annotations = [\n",
    "    AnnotationNote(date='1960-08-01', height=83.71 if LANG=='ru' else 84.25, text_en='de Gaulle', text_ru='де Голль'),\n",
    "    AnnotationNote(date='1969-06-20', height=87, text_en='Pompidou', text_ru='Помпиду'),\n",
    "    AnnotationNote(date='1974-05-27', height=87, text_en=\"d'Estaing\", text_ru=\"д’Эстен\"),\n",
    "    AnnotationNote(date='1981-05-21', height=87, text_en='Mitterrand', text_ru='Миттеран'),\n",
    "    AnnotationNote(date='1995-05-17', height=87, text_en='Chirac', text_ru='Ширак'),\n",
    "    AnnotationNote(date='2007-05-16', height=87, text_en='Sarkozy', text_ru='Саркози'),\n",
    "    AnnotationNote(date='2012-05-15', height=87, text_en='Hollande', text_ru='Олланд'),\n",
    "    AnnotationNote(date='2017-05-14', height=87, text_en='Macron', text_ru='Макрон'),\n",
    "]\n",
    "chart_params=ChartParams(legend_loc_1='upper left', ylim_1=(66.5, 87), empty_labels_1_up=1, empty_labels_1_down=1)\n",
    "create_chart_with_leader(df_total.loc[region], df_male.loc[region], df_female.loc[region], \n",
    "             title_en='in France in comparison with presidents of the country', title_ru='во Франции в сопоставлении с президентами страны', ver_lines=ver_lines, annotations=annotations, chart_params=chart_params,\n",
    "             lang=LANG, destination=DESTINATION_OUTPUT, file_name_partial=region)"
   ]
  },
  {
   "cell_type": "markdown",
   "id": "ce2d607b-e75a-4ca8-b92f-308cf64ff69b",
   "metadata": {},
   "source": [
    "<br />\n",
    "\n",
    "[Список премьер-министров Великобритании](https://ru.wikipedia.org/wiki/Список_премьер-министров_Великобритании) / [List of prime ministers of the United Kingdom](https://en.wikipedia.org/wiki/List_of_prime_ministers_of_the_United_Kingdom)"
   ]
  },
  {
   "cell_type": "code",
   "execution_count": 24,
   "id": "8e8c2a1d-ed34-45eb-b614-9c5233306ecc",
   "metadata": {},
   "outputs": [],
   "source": [
    "region = 'United Kingdom'\n",
    "ver_lines=['1963-10-19', '1964-10-16', '1970-06-19', '1974-03-04', '1976-05-05', '1979-05-04', '1990-10-28', '1997-05-02', '2007-06-27', '2010-05-11', '2016-07-13', '2019-07-24']\n",
    "annotations = [\n",
    "    AnnotationNote(date='1960-06-15', height=80.25 if LANG=='ru' else 80.6, text_en='Macmillan', text_ru='Макмиллан'),\n",
    "    AnnotationNote(date='1963-10-19', height=80.85 if LANG=='ru' else 81.15, text_en='Douglas-Home', text_ru='Дуглас-Хьюм'),\n",
    "    AnnotationNote(date='1965-01-01', height=81.5 if LANG=='ru' else 81.8, text_en='Wilson', text_ru='Вильсон'),\n",
    "    AnnotationNote(date='1970-06-19', height=81.2 if LANG=='ru' else 81.61, text_en='Heath', text_ru='Хит'),\n",
    "    AnnotationNote(date='1974-03-04', height=81.5 if LANG=='ru' else 81.8, text_en='Wilson', text_ru='Вильсон'),\n",
    "    AnnotationNote(date='1976-05-05', height=82.25 if LANG=='ru' else 82.4, text_en='Callaghan', text_ru='Каллагэн'),\n",
    "    AnnotationNote(date='1979-05-04', height=83.0, text_en='Thatcher', text_ru='Тэтчер'),\n",
    "    AnnotationNote(date='1990-10-28', height=83.4, text_en='Major', text_ru='Мейджор'),\n",
    "    AnnotationNote(date='1997-05-02', height=83.75, text_en='Blair', text_ru='Блэр'),\n",
    "    AnnotationNote(date='2007-06-27', height=83.95, text_en='Brown', text_ru='Браун'),\n",
    "    AnnotationNote(date='2010-05-11', height=84.1, text_en='Cameron', text_ru='Кэмерон'),\n",
    "    AnnotationNote(date='2016-07-13', height=84.1, text_en='May', text_ru='Мэй'),\n",
    "    # AnnotationNote(date='2019-07-24', height=84, text_en='Johnson', text_ru='Джонсон')\n",
    "]\n",
    "chart_params=ChartParams(legend_loc_1='upper left', ylim_1=(67.75, 84), empty_labels_1_up=1, ylim_2=(3.5, 6.5))\n",
    "create_chart_with_leader(df_total.loc[region], df_male.loc[region], df_female.loc[region],\n",
    "             title_en='in the United Kingdom in comparison with prime ministers of the country', title_ru='в Великобритании в сопоставлении с премьер-министрами страны', ver_lines=ver_lines, annotations=annotations, chart_params=chart_params,\n",
    "             lang=LANG, destination=DESTINATION_OUTPUT, file_name_partial=region)"
   ]
  },
  {
   "cell_type": "markdown",
   "id": "da4e88b8-f597-44c7-a354-ae308aec6676",
   "metadata": {},
   "source": [
    "<br />\n",
    "\n",
    "[Список президентов США](https://ru.wikipedia.org/wiki/Список_президентов_США) / [List of presidents of the United States](https://en.wikipedia.org/wiki/List_of_presidents_of_the_United_States)"
   ]
  },
  {
   "cell_type": "code",
   "execution_count": 25,
   "id": "e4b86ce9-b140-4a16-a6f2-6abacdf18e7e",
   "metadata": {},
   "outputs": [],
   "source": [
    "region = 'USA'\n",
    "ver_lines=['1961-01-20', '1963-10-22', '1969-01-20', '1974-08-09', '1977-01-20', '1981-01-20', '1989-01-20', '1993-01-20', '2001-01-20', '2009-01-20', '2017-01-20', '2021-01-20']\n",
    "annotations = [\n",
    "    AnnotationNote(date='1961-01-01', height=79.25 if LANG=='ru' else 79.45, text_en='Kennedy', text_ru='Кеннеди'),\n",
    "    AnnotationNote(date='1965-02-01', height=79.55 if LANG=='ru' else 79.92, text_en='Johnson', text_ru='Джонсон'),\n",
    "    AnnotationNote(date='1969-01-20', height=82.25, text_en='Nixon', text_ru='Никсон'),\n",
    "    AnnotationNote(date='1974-08-09', height=82.25, text_en='Ford', text_ru='Форд'),\n",
    "    AnnotationNote(date='1977-01-20', height=82.25, text_en='Carter', text_ru='Картер'),\n",
    "    AnnotationNote(date='1981-01-20', height=82.25, text_en='Reagan', text_ru='Рейган'),\n",
    "    AnnotationNote(date='1989-01-20', height=82.25, text_en='Bush', text_ru='Буш'),\n",
    "    AnnotationNote(date='1989-01-20', height=81.7, text_en='(George H. W.)', text_ru=' (старший)', fs=12),\n",
    "    AnnotationNote(date='1993-01-20', height=82.25, text_en='Clinton', text_ru='Клинтон'),\n",
    "    AnnotationNote(date='2001-01-20', height=82.25, text_en='Bush', text_ru='Буш'),\n",
    "    AnnotationNote(date='2001-01-20', height=81.7, text_en='(George W.)', text_ru=' (младший)', fs=12),\n",
    "    AnnotationNote(date='2009-01-20', height=82.25, text_en='Obama', text_ru='Обама'),\n",
    "    AnnotationNote(date='2017-01-20', height=82.25, text_en='Trump', text_ru='Трамп'),\n",
    "    # AnnotationNote(date='2021-01-20', height=82.25, text_en='Biden', text_ru='Байден')\n",
    "]\n",
    "chart_params=ChartParams(legend_loc_1='upper left', ylim_1=(66, 82.25), empty_labels_1_up=1)\n",
    "create_chart_with_leader(df_total.loc[region], df_male.loc[region], df_female.loc[region], \n",
    "             title_en='in the USA in comparison with presidents of the country', title_ru='в США в сопоставлении с президентами страны',\n",
    "             ver_lines=ver_lines, annotations=annotations, chart_params=chart_params, lang=LANG, destination=DESTINATION_OUTPUT, file_name_partial=region)"
   ]
  },
  {
   "cell_type": "markdown",
   "id": "2a2201ce-70de-493e-af48-4556fd03685c",
   "metadata": {},
   "source": [
    "<br />\n",
    "\n",
    "[Список президентов Индии](https://ru.wikipedia.org/wiki/Список_президентов_Индии) / [List of presidents of India](https://en.wikipedia.org/wiki/List_of_presidents_of_India)"
   ]
  },
  {
   "cell_type": "code",
   "execution_count": 26,
   "id": "81e6a75a-f242-4e5e-bdb0-d423fcfde6a6",
   "metadata": {},
   "outputs": [],
   "source": [
    "region = 'India'\n",
    "ver_lines=['1962-05-13', '1967-05-13', '1969-05-03', '1974-08-24', '1977-02-11', '1977-07-25',\n",
    "           '1982-07-25', '1987-07-25', '1992-07-25', '1997-07-25', '2002-07-25', '2007-07-25', '2012-07-25', '2017-07-25']\n",
    "annotations = [\n",
    "    AnnotationNote(date='1962-05-13', height=67 if LANG=='ru' else 68, text_en='Sarvepalli\\nRadhakrishnan', text_ru='Сарвепалли\\nРадхакришнан'),\n",
    "    AnnotationNote(date='1967-05-00', height=69.05 if LANG=='ru' else 69.55, text_en='Zakir\\nHusain', text_ru='Закир\\nХусейн'),\n",
    "    AnnotationNote(date='1969-07-24', height=72, text_en='Varahagiri\\nVenkata\\nGiri', text_ru='Варахагири\\nВенката\\nГири'),\n",
    "    AnnotationNote(date='1974-08-24', height=73.8, text_en='Fakhruddin\\nAli\\nAhmed', text_ru='Фахруддин\\nАли\\nАхмед'),\n",
    "    AnnotationNote(date='1978-01-00' if LANG=='ru' else '1978-04-00', height=72.1, text_en='Neelam\\nSanjiva\\nReddy', text_ru='Нилам\\nСанджива\\nРедди'),\n",
    "    AnnotationNote(date='1983-01-00', height=73.8, text_en='Giani Zail\\nSingh', text_ru='Заил\\nСингх'),\n",
    "    AnnotationNote(date='1987-07-25', height=73.8, text_en='Ramaswamy\\nVenkataraman', text_ru='Рамасвами\\nВенкатараман'),\n",
    "    AnnotationNote(date='1993-07-00', height=73.8, text_en='Shanker\\nDayal\\nSharma', text_ru='Шанкар\\nДаял\\nШарма'),\n",
    "    AnnotationNote(date='1998-01-00', height=73.8, text_en='Kocheril\\nRaman\\nNarayanan', text_ru='Кочерил\\nРаман\\nНараянан'),\n",
    "    AnnotationNote(date='2003-07-00', height=73.8, text_en='A. P. J.\\nAbdul\\nKalam', text_ru='А. П. Д.\\nАбдул\\nКалам'),\n",
    "    AnnotationNote(date='2007-10-00' if LANG=='ru' else '2008-01-00', height=73.8, text_en='Pratibha\\nDevisingh\\nPatil', text_ru='Пратибха\\nДевисингх\\nПатил'),\n",
    "    AnnotationNote(date='2012-07-25', height=73.8, text_en='Pranab\\nMukherjee', text_ru='Пранаб\\nМукерджи'),\n",
    "    AnnotationNote(date='2017-07-00', height=74.1, text_en='R. N.\\nKovind', text_ru='Р. Н.\\nКовинд')\n",
    "]\n",
    "# Ram\\nNath\\nKovind\n",
    "chart_params=ChartParams(legend_loc_1='upper left', ylim_1=(44, 74), ylim_2=(-1.667, 3.667), empty_labels_1_up=2)\n",
    "create_chart_with_leader(df_total.loc[region], df_male.loc[region], df_female.loc[region], \n",
    "             title_en='in India in comparison with presidents of the country', title_ru='в Индии в сопоставлении с президентами страны',\n",
    "             ver_lines=ver_lines, annotations=annotations, chart_params=chart_params, lang=LANG, destination=DESTINATION_OUTPUT, file_name_partial=region)"
   ]
  },
  {
   "cell_type": "markdown",
   "id": "9bc0d7db-d68a-4137-a3fe-fb2854538d8b",
   "metadata": {},
   "source": [
    "<br />\n",
    "\n",
    "[Список премьер-министров Индии](https://ru.wikipedia.org/wiki/Список_премьер-министров_Индии) / [List of prime ministers of India](https://en.wikipedia.org/wiki/List_of_prime_ministers_of_India)"
   ]
  },
  {
   "cell_type": "code",
   "execution_count": 27,
   "id": "06effe8c-3cca-4392-a10a-5c7fa3f84a46",
   "metadata": {},
   "outputs": [],
   "source": [
    "region = 'India'\n",
    "ver_lines=['1964-06-09', '1966-01-24', '1977-03-24', '1979-07-28', '1980-01-14', '1984-10-31', '1989-12-02', '1990-10-10',\n",
    "           '1991-06-21', '1996-05-16', '1996-06-01', '1997-05-21', '1998-03-19', '2004-05-22', '2014-05-26']\n",
    "annotations = [\n",
    "    AnnotationNote(date='1960-07-15', height=65.8 if LANG=='ru' else 66.8, text_en='Jawaharlal\\nNehru', text_ru='Джавахарлал\\nНеру'),\n",
    "    AnnotationNote(date='1964-06-00', height=68.8 if LANG=='ru' else 69.65, text_en='Lal\\nBahadur\\nShastri', text_ru='Лал\\nБахадур\\nШастри'),\n",
    "    AnnotationNote(date='1968-06-00', height=73.8, text_en='Indira Gandhi', text_ru='Индира Ганди'),\n",
    "    AnnotationNote(date='1977-03-24', height=72.65, text_en='Morarji\\nDesai', text_ru='Морарджи\\nДесаи'),\n",
    "    AnnotationNote(date='1980-01-00', height=73.8, text_en='Indira Gandhi', text_ru='Индира Ганди'),\n",
    "    AnnotationNote(date='1984-10-31', height=72.65, text_en='Rajiv Gandhi', text_ru='Раджив Ганди'),\n",
    "    AnnotationNote(date='1991-08-00' if LANG=='ru' else '1991-09-00', height=73.8, text_en='P. V.\\nNarasimha\\nRao', text_ru='П. В.\\nНарасимха\\nРао'),\n",
    "    AnnotationNote(date='1998-09-00', height=73.8, text_en='Atal Bihari\\nVajpayee', text_ru='Атал Бихари\\nВаджпаи'),\n",
    "    AnnotationNote(date='2005-09-00', height=73.8, text_en='Manmohan Singh', text_ru='Манмохан Сингх'),\n",
    "    AnnotationNote(date='2014-05-26', height=73.8, text_en='Narendra Modi', text_ru='Нарендра Моди')\n",
    "]\n",
    "# Ram\\nNath\\nKovind\n",
    "chart_params=ChartParams(legend_loc_1='upper left', ylim_1=(44, 74), ylim_2=(-1.667, 3.667), empty_labels_1_up=2)\n",
    "create_chart_with_leader(df_total.loc[region], df_male.loc[region], df_female.loc[region], \n",
    "             title_en='in India in comparison with prime ministers of the country', title_ru='в Индии в сопоставлении с премьер-министрами страны',\n",
    "             ver_lines=ver_lines, annotations=annotations, chart_params=chart_params, lang=LANG, destination=DESTINATION_OUTPUT, file_name_partial=region+' (2)')"
   ]
  },
  {
   "cell_type": "markdown",
   "id": "ba01df14-c62c-4996-83df-33fceda727b9",
   "metadata": {},
   "source": [
    "[Список премьер-министров Японии](https://ru.wikipedia.org/wiki/Список_премьер-министров_Японии) / [List of prime ministers of Japan](https://en.wikipedia.org/wiki/List_of_prime_ministers_of_Japan)"
   ]
  },
  {
   "cell_type": "markdown",
   "id": "57e37073-844b-41dd-9578-b6f3723f9c17",
   "metadata": {},
   "source": [
    "<br />\n",
    "\n",
    "[Президент Казахстана](https://ru.wikipedia.org/wiki/Президент_Казахстана#Президент_Казахской_ССР_и_Республики_Казахстан) / [President of Kazakhstan](https://en.wikipedia.org/wiki/President_of_Kazakhstan#List_of_presidents_of_Kazakhstan)"
   ]
  },
  {
   "cell_type": "code",
   "execution_count": 28,
   "id": "30a095b0-7a0e-4a88-b432-18bc6023bf30",
   "metadata": {},
   "outputs": [],
   "source": [
    "region = 'Kazakhstan'\n",
    "ver_lines_strong = ['1991-12-25']\n",
    "ver_lines = ['1964-10-14', '1982-11-12', '1984-02-13', '1985-03-11', '1991-12-25', '2019-03-20']\n",
    "annotations = [\n",
    "    AnnotationNote(date='1960-08-01', height=74.03 if LANG=='ru' else 74.58, text_en='Khrushchev', text_ru='Хрущёв'), #75.15\n",
    "    AnnotationNote(date='1969-01-01' if LANG=='ru' else '1967-11-01', height=78, text_en='Brezhnev', text_ru='Брежнев'),\n",
    "    AnnotationNote(date='1982-11-12', height=78, text_en='Andropov', text_ru='Андропов'),\n",
    "    AnnotationNote(date='1984-02-13', height=77.1, text_en='Chernenko', text_ru='Черненко'),\n",
    "    AnnotationNote(date='1985-03-11', height=76.2, text_en='Gorbachev', text_ru='Горбачёв'),\n",
    "    AnnotationNote(date='1992-04-01', height=78, text_en='Nazarbayev', text_ru='Назарбаев'),\n",
    "    # AnnotationNote(date='2019-03-20', height=78, text_en='Tokayev', text_ru='Токаев')\n",
    "]\n",
    "chart_params=ChartParams(legend_loc_1='upper left', ylim_1=(53.5, 78), empty_labels_1_up=1)\n",
    "create_chart_with_leader(df_total.loc[region], df_male.loc[region], df_female.loc[region], #figure_size=figure_size,\n",
    "             title_en='in the Kazakh SSR (part of USSR) / Kazakhstan in comparison with heads of the state', title_ru='в Казахской ССР  /  Казахстане в сопоставлении с главами государства',\n",
    "             ver_lines_strong=ver_lines_strong, ver_lines=ver_lines, annotations=annotations,\n",
    "             chart_params=chart_params, lang=LANG, destination=DESTINATION_OUTPUT, file_name_partial=region)"
   ]
  },
  {
   "cell_type": "markdown",
   "id": "728b8944-0465-4473-98f8-831e2a13dbae",
   "metadata": {},
   "source": [
    "<br />\n",
    "\n",
    "[Лидеры Узбекистана](https://ru.wikipedia.org/wiki/Лидеры_Узбекистана#Президенты_Республики_Узбекистан) / [List of leaders of Uzbekistan](https://en.wikipedia.org/wiki/List_of_leaders_of_Uzbekistan#Presidents_of_the_Republic_of_Uzbekistan_(1991%E2%80%93present))"
   ]
  },
  {
   "cell_type": "code",
   "execution_count": 29,
   "id": "704d5125-46f4-4687-a807-6db8212602a1",
   "metadata": {},
   "outputs": [],
   "source": [
    "region = 'Uzbekistan'\n",
    "ver_lines_strong = ['1991-12-25']\n",
    "ver_lines = ['1964-10-14', '1982-11-12', '1984-02-13', '1985-03-11', '1991-12-25', '2016-09-08']\n",
    "annotations = [\n",
    "    AnnotationNote(date='1960-08-01', height=71.8 if LANG=='ru' else 72.2, text_en='Khrushchev', text_ru='Хрущёв'), #75.15\n",
    "    AnnotationNote(date='1968-01-00' if LANG=='ru' else '1966-10-00', height=75, text_en='Brezhnev', text_ru='Брежнев'),\n",
    "    AnnotationNote(date='1982-11-12', height=75, text_en='Andropov', text_ru='Андропов'),\n",
    "    AnnotationNote(date='1984-02-13', height=74.25, text_en='Chernenko', text_ru='Черненко'),\n",
    "    AnnotationNote(date='1985-03-11', height=73.5, text_en='Gorbachev', text_ru='Горбачёв'),\n",
    "    AnnotationNote(date='1991-12-25', height=75, text_en='Karimov', text_ru='Каримов'),\n",
    "    AnnotationNote(date='2016-08-10', height=75, text_en='Mirziyoyev', text_ru='Мирзиёев')\n",
    "]\n",
    "chart_params=ChartParams(legend_loc_1='upper left', ylim_1=(54.6, 75), empty_labels_1_up=1)\n",
    "create_chart_with_leader(df_total.loc[region], df_male.loc[region], df_female.loc[region], #figure_size=figure_size,\n",
    "             title_en='in the Uzbek SSR (part of USSR)  /  Uzbekistan in comparison with heads of the state', title_ru='в Узбекской ССР  /  Узбекистане в сопоставлении с главами государства',\n",
    "             ver_lines_strong=ver_lines_strong, ver_lines=ver_lines, annotations=annotations,\n",
    "             chart_params=chart_params, lang=LANG, destination=DESTINATION_OUTPUT, file_name_partial=region)"
   ]
  },
  {
   "cell_type": "markdown",
   "id": "d54fc6d9-19e8-47c2-8380-6b3bf48fa18f",
   "metadata": {},
   "source": [
    "<br />\n",
    "\n",
    "[Президент Грузии](https://ru.wikipedia.org/wiki/Президент_Грузии#Список_президентов_Грузии) / [President of Georgia](https://en.wikipedia.org/wiki/President_of_Georgia#List_of_presidents_of_Georgia), [List of leaders of Georgia (country)](https://en.wikipedia.org/wiki/List_of_leaders_of_Georgia_(country)#Georgia_(since_1991))"
   ]
  },
  {
   "cell_type": "code",
   "execution_count": 30,
   "id": "5966edf6-c873-4dc6-976c-95aa207ec46d",
   "metadata": {},
   "outputs": [],
   "source": [
    "region = 'Georgia'\n",
    "ver_lines_strong = ['1991-12-25']\n",
    "ver_lines = ['1964-10-14', '1982-11-12', '1984-02-13', '1985-03-11', '1991-12-25', '1992-03-10',\n",
    "             '2003-11-23', '2004-01-25', '2007-10-25', '2008-01-20', '2013-10-17', '2018-12-16']\n",
    "chart_params=ChartParams(legend_loc_1='upper left', ylim_1=(57, 79.5), empty_labels_1_up=1)\n",
    "annotations = [\n",
    "    AnnotationNote(date='1960-08-01', height=75.93 if LANG=='ru' else 76.41, text_en='Khrushchev', text_ru='Хрущёв'),\n",
    "    AnnotationNote(date='1969-01-01' if LANG=='ru' else '1967-11-01', height=79.4, text_en='Brezhnev', text_ru='Брежнев'),\n",
    "    AnnotationNote(date='1982-11-12', height=79.4, text_en='Andropov', text_ru='Андропов'),\n",
    "    AnnotationNote(date='1984-02-13', height=78.5, text_en='Chernenko', text_ru='Черненко'),\n",
    "    AnnotationNote(date='1985-03-11', height=77.6, text_en='Gorbachev', text_ru='Горбачёв'),\n",
    "    AnnotationNote(date='1991-12-25', height=78.5, text_en='Gamsakhurdia\\n (deposed)', text_ru='Гамсахурдиа\\n (отстранён)', fs=12),\n",
    "    AnnotationNote(date='1992-05-01', height=79.4, text_en='Shevardnadze', text_ru='Шеварднадзе'),   \n",
    "    AnnotationNote(date='2003-11-23', height=78.5 if LANG=='ru' else 78.7, text_en='Burjanadze\\n (acting)', text_ru='Бурджанадзе\\n (и.о.)', fs=12),\n",
    "    AnnotationNote(date='2004-01-25', height=79.45, text_en='Saakashvili', text_ru='Саакашвили'),\n",
    "    AnnotationNote(date='2007-10-25', height=78 if LANG=='ru' else 78.2, text_en='Burjanadze\\n (acting)', text_ru='Бурджанадзе\\n (и.о.)', fs=12),\n",
    "    AnnotationNote(date='2008-01-20', height=78.9, text_en='Saakashvili', text_ru='Саакашвили'),\n",
    "    AnnotationNote(date='2013-10-17', height=79.4, text_en='Margvelashvili', text_ru='Маргвелашвили'),\n",
    "    # AnnotationNote(date='2018-12-16', height=79, text_en='Zourabichvili', text_ru='Зурабишвили')\n",
    "]\n",
    "create_chart_with_leader(df_total.loc[region], df_male.loc[region], df_female.loc[region], \n",
    "             title_en='in the Georgian SSR (part of USSR) / Georgia in comparison with heads of the states', title_ru='в Грузинской ССР  /  Грузии в сопоставлении с главами государств',\n",
    "             ver_lines_strong=ver_lines_strong, ver_lines=ver_lines, annotations=annotations,\n",
    "             chart_params=chart_params, lang=LANG, destination=DESTINATION_OUTPUT, file_name_partial=region)"
   ]
  },
  {
   "cell_type": "markdown",
   "id": "bb548938-8e1e-4384-8862-c13ad1a1d37a",
   "metadata": {},
   "source": [
    "<br />\n",
    "\n",
    "[Президент Азербайджана](https://ru.wikipedia.org/wiki/Президент_Азербайджана#История_президентства) / [President of Azerbaijan](https://en.wikipedia.org/wiki/President_of_Azerbaijan#Presidents_of_the_Republic_of_Azerbaijan_(1990–present)), [List of leaders of Azerbaijan](https://en.wikipedia.org/wiki/List_of_heads_of_state_of_Azerbaijan#Republic_of_Azerbaijan_(1990–present))"
   ]
  },
  {
   "cell_type": "code",
   "execution_count": 31,
   "id": "31fdbf31-3581-4da0-a696-da7de60e1c8e",
   "metadata": {},
   "outputs": [],
   "source": [
    "region = 'Azerbaijan'\n",
    "ver_lines_strong = ['1991-12-25']\n",
    "ver_lines = ['1964-10-14', '1982-11-12', '1984-02-13', '1985-03-11', '1991-12-25', '1992-06-17', '1993-06-24', '2003-10-31']\n",
    "chart_params=ChartParams(legend_loc_1='upper left', ylim_1=(51.333, 76.5),)\n",
    "annotations = [\n",
    "    AnnotationNote(date='1960-08-01', height=72.4 if LANG=='ru' else 72.95, text_en='Khrushchev', text_ru='Хрущёв'),\n",
    "    AnnotationNote(date='1969-01-01' if LANG=='ru' else '1967-11-01', height=76.3, text_en='Brezhnev', text_ru='Брежнев'),\n",
    "    AnnotationNote(date='1982-11-12', height=76.3, text_en='Andropov', text_ru='Андропов'),\n",
    "    AnnotationNote(date='1984-02-13', height=75.45, text_en='Chernenko', text_ru='Черненко'),\n",
    "    AnnotationNote(date='1985-03-11', height=74.65, text_en='Gorbachev', text_ru='Горбачёв'),\n",
    "    # AnnotationNote(date='1991-12-25', height=76.3, text_en='Ayaz Mutallibov', text_ru='Аяз Муталибов'),\n",
    "    # AnnotationNote(date='1992-06-17', height=76, text_en='Abulfaz Elchibey', text_ru='Абульфаз Эльчибей'),\n",
    "    AnnotationNote(date='1993-06-24', height=76.3, text_en='Heydar Aliyev', text_ru='Гейдар Алиев'),\n",
    "    AnnotationNote(date='2003-10-31', height=76.3, text_en='Ilham Aliyev', text_ru='Ильхам Алиев')\n",
    "]\n",
    "create_chart_with_leader(df_total.loc[region], df_male.loc[region], df_female.loc[region], \n",
    "             title_en='in the Azerbaijan SSR (part of USSR) / Azerbaijan in comparison with heads of the states', title_ru='в Азербайджанской ССР  /  Азербайджане в сопоставлении с главами государств',\n",
    "             ver_lines_strong=ver_lines_strong, ver_lines=ver_lines, annotations=annotations,\n",
    "             chart_params=chart_params, lang=LANG, destination=DESTINATION_OUTPUT, file_name_partial=region)"
   ]
  },
  {
   "cell_type": "markdown",
   "id": "f24f132b-316e-4263-89e1-61b6ca78acbe",
   "metadata": {},
   "source": [
    "<br />\n",
    "\n",
    "[Президент Армении](https://ru.wikipedia.org/wiki/Президент_Армении#Президенты_Армении) / [President of Armenia](https://en.wikipedia.org/wiki/President_of_Armenia#List_of_presidents_of_Armenia), [List of leaders of Armenia](https://en.wikipedia.org/wiki/List_of_leaders_of_Armenia#Armenia_(1991–present))"
   ]
  },
  {
   "cell_type": "code",
   "execution_count": 32,
   "id": "cd69382d-2c87-41ca-8d58-45df7bbcd63e",
   "metadata": {},
   "outputs": [],
   "source": [
    "region = 'Armenia'\n",
    "ver_lines_strong = ['1991-12-25']\n",
    "ver_lines = ['1964-10-14', '1982-11-12', '1984-02-13', '1985-03-11', '1991-12-25', '1998-02-03', '1998-02-03', '2008-04-09', '2018-04-09']\n",
    "chart_params=ChartParams(legend_loc_1='upper left', ylim_1=(53, 80.5), ylim_2=(1.5, 11))\n",
    "annotations = [\n",
    "    AnnotationNote(date='1960-08-01', height=75.35 if LANG=='ru' else 76.05, text_en='Khrushchev', text_ru='Хрущёв'),\n",
    "    AnnotationNote(date='1969-01-01' if LANG=='ru' else '1967-11-01', height=80.3, text_en='Brezhnev', text_ru='Брежнев'),\n",
    "    AnnotationNote(date='1982-11-12', height=80.3, text_en='Andropov', text_ru='Андропов'),\n",
    "    AnnotationNote(date='1984-02-13', height=79.2, text_en='Chernenko', text_ru='Черненко'),\n",
    "    AnnotationNote(date='1985-03-11', height=78.1, text_en='Gorbachev', text_ru='Горбачёв'),\n",
    "    AnnotationNote(date='1991-12-25', height=80.3, text_en='Levon\\nTer-Petrosyan', text_ru='Левон\\nТер-Петросян'),\n",
    "    AnnotationNote(date='1998-02-03', height=80.3, text_en='Robert\\nKocharyan', text_ru='Роберт\\nКочарян'),\n",
    "    AnnotationNote(date='2008-04-09', height=80.3, text_en='Serzh\\nSargsyan', text_ru='Серж\\nСаргсян'),\n",
    "    # AnnotationNote(date='2018-04-09', height=79, text_en='Armen Sarkissian', text_ru='Армен Саркисян')\n",
    "]\n",
    "create_chart_with_leader(df_total.loc[region], df_male.loc[region], df_female.loc[region], \n",
    "             title_en='in the Armenian SSR (part of USSR) / Armenia in comparison with heads of the states', title_ru='в Армянской ССР  /  Армении в сопоставлении с главами государств',\n",
    "             ver_lines_strong=ver_lines_strong, ver_lines=ver_lines, annotations=annotations,\n",
    "             chart_params=chart_params, lang=LANG, destination=DESTINATION_OUTPUT, file_name_partial=region)"
   ]
  },
  {
   "cell_type": "markdown",
   "id": "facf486b-5757-40a5-b1ce-ab75c0869ed5",
   "metadata": {},
   "source": [
    "<br />\n",
    "\n",
    "[Президент Республики Беларусь](https://ru.wikipedia.org/wiki/Президент_Республики_Беларусь) / [List of presidents of Belarus](https://en.wikipedia.org/wiki/List_of_presidents_of_Belarus)"
   ]
  },
  {
   "cell_type": "code",
   "execution_count": 33,
   "id": "35caf33c-895e-4cc4-b099-9235e1b79b34",
   "metadata": {},
   "outputs": [],
   "source": [
    "region = 'Belarus'\n",
    "ver_lines_strong = ['1991-12-25']\n",
    "ver_lines = ['1964-10-14', '1982-11-12', '1984-02-13', '1985-03-11', '1991-12-25', '1994-07-20']\n",
    "annotations = [\n",
    "    AnnotationNote(date='1960-08-01', height=76.65 if LANG=='ru' else 77.1, text_en='Khrushchev', text_ru='Хрущёв'),\n",
    "    AnnotationNote(date='1969-01-01' if LANG=='ru' else '1967-11-01', height=79.9, text_en='Brezhnev', text_ru='Брежнев'),\n",
    "    AnnotationNote(date='1982-11-12', height=79.9, text_en='Andropov', text_ru='Андропов'),\n",
    "    AnnotationNote(date='1984-02-13', height=79.1, text_en='Chernenko', text_ru='Черненко'),\n",
    "    AnnotationNote(date='1985-03-11', height=78.3, text_en='Gorbachev', text_ru='Горбачёв'),\n",
    "    AnnotationNote(date='1991-12-25', height=79.1, text_en='Parliamentary\\nrepublic', text_ru='Парламентская\\nреспублика', fs=12),\n",
    "    AnnotationNote(date='1994-10-01', height=79.9, text_en='Lukashenko', text_ru='Лукашенко'),\n",
    "]\n",
    "\n",
    "chart_params=ChartParams(legend_loc_1='upper left', empty_labels_1_up=1)\n",
    "create_chart_with_leader(\n",
    "            df_total.loc[region], df_male.loc[region], df_female.loc[region], \n",
    "            title_en='in the Byelorussian SSR (part of USSR) / Belarus in comparison with heads of the states', title_ru='в Белорусской ССР / Белоруссии в сопоставлении с главами государств',\n",
    "            ver_lines_strong=ver_lines_strong, ver_lines=ver_lines, annotations=annotations, chart_params=chart_params,\n",
    "            lang=LANG, destination=DESTINATION_OUTPUT, file_name_partial=region)"
   ]
  },
  {
   "cell_type": "markdown",
   "id": "1ca8e41b-80f5-4d19-9627-7683564d7ea8",
   "metadata": {},
   "source": [
    "<br />\n",
    "\n",
    "[Список президентов Украины](https://ru.wikipedia.org/wiki/Список_президентов_Украины) / [List of presidents of Ukraine](https://en.wikipedia.org/wiki/List_of_presidents_of_Ukraine)"
   ]
  },
  {
   "cell_type": "code",
   "execution_count": 34,
   "id": "cec8f5d5-6559-4cd7-9edb-4aa1c7769941",
   "metadata": {},
   "outputs": [],
   "source": [
    "region = 'Ukraine'\n",
    "ver_lines_strong = ['1991-12-25']\n",
    "ver_lines = ['1964-10-14', '1982-11-12', '1984-02-13', '1985-03-11', '1991-12-25', '1994-07-19', '2005-01-23', '2010-02-25', '2014-02-23', '2014-06-07', '2019-05-20']\n",
    "annotations = [  \n",
    "    AnnotationNote(date='1960-08-01', height=75.2 if LANG=='ru' else 75.65, text_en='Khrushchev', text_ru='Хрущёв'), #75.15\n",
    "    AnnotationNote(date='1969-01-01' if LANG=='ru' else '1967-11-01', height=78.4, text_en='Brezhnev', text_ru='Брежнев'),\n",
    "    AnnotationNote(date='1982-11-12', height=78.4, text_en='Andropov', text_ru='Андропов'),\n",
    "    AnnotationNote(date='1984-02-13', height=77.6, text_en='Chernenko', text_ru='Черненко'),\n",
    "    AnnotationNote(date='1985-03-11', height=76.8, text_en='Gorbachev', text_ru='Горбачёв'),\n",
    "    AnnotationNote(date='1991-12-25', height=77.9, text_en='Kravchuk', text_ru='Кравчук'),\n",
    "    AnnotationNote(date='1996-01-01', height=78.4, text_en='Kuchma', text_ru='Кучма'),\n",
    "    AnnotationNote(date='2005-01-23', height=78.4, text_en='Yushchenko', text_ru='Ющенко'),\n",
    "    AnnotationNote(date='2010-02-01', height=78.4, text_en='Yanukovych', text_ru='Янукович'),\n",
    "    AnnotationNote(date='2014-02-23', height=77.9, text_en='Turchynov\\n (acting)', text_ru='Турчинов\\n (и.о.)', fs=12),\n",
    "    AnnotationNote(date='2014-08-00', height=78.6, text_en='Poroshenko', text_ru='Порошенко')\n",
    "    # AnnotationNote(date='2019-05-20', height=78.6, text_en='Zelenskyy', text_ru='Зеленский')\n",
    "]\n",
    "chart_params=ChartParams(legend_loc_1='upper left', ylim_1=(61, 78.5), empty_labels_1_up=1)\n",
    "create_chart_with_leader(\n",
    "            df_total.loc[region], df_male.loc[region], df_female.loc[region], \n",
    "            title_en='in the Ukrainian SSR (part of USSR) / Ukraine in comparison with heads of the states', title_ru='в Украинской ССР / Украине в сопоставлении с главами государств',\n",
    "            ver_lines_strong=ver_lines_strong, ver_lines=ver_lines, annotations=annotations, chart_params=chart_params,\n",
    "            lang=LANG, destination=DESTINATION_OUTPUT, file_name_partial=region)"
   ]
  },
  {
   "cell_type": "markdown",
   "id": "d2b53bc5-6d83-4845-ae2e-3dbfbe1b866c",
   "metadata": {},
   "source": [
    "<br />\n",
    "\n",
    "[Список руководителей СССР](https://ru.wikipedia.org/wiki/Список_руководителей_СССР) / [List of leaders of the Soviet Union](https://en.wikipedia.org/wiki/List_of_leaders_of_the_Soviet_Union)<br />\n",
    "[Список президентов России](https://ru.wikipedia.org/wiki/Список_президентов_России) / [List of presidents of Russia](https://en.wikipedia.org/wiki/List_of_presidents_of_Russia)"
   ]
  },
  {
   "cell_type": "code",
   "execution_count": 35,
   "id": "1733ca0a-f6af-45cb-980d-b89c108a4be6",
   "metadata": {},
   "outputs": [],
   "source": [
    "region = 'Russia'\n",
    "ver_lines_strong = ['1991-12-25']\n",
    "ver_lines = ['1964-10-14', '1982-11-12', '1984-02-13', '1985-03-11', '1991-12-25', '2000-01-01', '2008-05-07', '2012-05-07']\n",
    "annotations = [\n",
    "    AnnotationNote(date='1960-08-01', height=75.12 if LANG=='ru' else 75.73, text_en='Khrushchev', text_ru='Хрущёв'), #75.15\n",
    "    AnnotationNote(date='1969-01-01' if LANG=='ru' else '1967-11-01', height=79, text_en='Brezhnev', text_ru='Брежнев'),\n",
    "    AnnotationNote(date='1982-11-12', height=79, text_en='Andropov', text_ru='Андропов'),\n",
    "    AnnotationNote(date='1984-02-13', height=78.1, text_en='Chernenko', text_ru='Черненко'),\n",
    "    AnnotationNote(date='1985-03-11', height=77.2, text_en='Gorbachev', text_ru='Горбачёв'),\n",
    "    AnnotationNote(date='1991-12-25' if LANG=='ru' else '1992-01-01', height=79, text_en='Yeltsin', text_ru='Ельцин'),\n",
    "    AnnotationNote(date='2000-01-01', height=79, text_en='Putin', text_ru='Путин'),\n",
    "    AnnotationNote(date='2008-05-07', height=79, text_en='Medvedev', text_ru='Медведев'),\n",
    "    AnnotationNote(date='2008-06-00', height=78.2, text_en='(Putin as\\nprime minister)', text_ru='(Путин как\\nпремьер-министр)', fs=12),\n",
    "    AnnotationNote(date='2013-09-01', height=79, text_en='Putin', text_ru='Путин')\n",
    "]\n",
    "chart_params=ChartParams(legend_loc_1='upper left', ylim_1=(57.5, 79), empty_labels_1_down=0, empty_labels_1_up=1)\n",
    "create_chart_with_leader(\n",
    "            df_total.loc[region], df_male.loc[region], df_female.loc[region], \n",
    "            title_en='in the Russian SFSR (part of USSR) / Russia in comparison with heads of the states', title_ru='в Российской СФСР / России в сопоставлении с главами государств',\n",
    "            ver_lines_strong=ver_lines_strong, ver_lines=ver_lines, annotations=annotations, chart_params=chart_params,\n",
    "            lang=LANG, destination=DESTINATION_OUTPUT, file_name_partial=region)"
   ]
  },
  {
   "cell_type": "code",
   "execution_count": 36,
   "id": "de3cdd5a-43a3-4d16-9c66-5d60a992b93e",
   "metadata": {},
   "outputs": [],
   "source": [
    "# assert False\n",
    "\n",
    "# # play beep to denote completion of the program\n",
    "# import IPython.display as ipd\n",
    "# import numpy as np\n",
    "\n",
    "# # manually generated sound\n",
    "# t = 1  # time is seconds\n",
    "# beep = np.sin(2*np.pi*400*np.arange(10000*t)/10000)\n",
    "# ipd.Audio(beep, rate=10000, autoplay=True)\n",
    "\n",
    "# DESTINATION_OUTPUT = 'show'"
   ]
  },
  {
   "cell_type": "markdown",
   "id": "29f928d8-6f50-484e-b553-273f5c0c55b4",
   "metadata": {},
   "source": [
    "<br />\n",
    "<br />\n",
    "\n",
    "### post-USSR-countries\n",
    "\n",
    "[Список союзных республик СССР](https://ru.wikipedia.org/wiki/Список_союзных_республик_СССР#Конституционный_порядок) /\n",
    "[Republics of the Soviet Union](https://en.wikipedia.org/wiki/Republics_of_the_Soviet_Union#Union_Republics_of_the_Soviet_Union)"
   ]
  },
  {
   "cell_type": "code",
   "execution_count": 37,
   "id": "c61b226f-f4b5-4662-9e1f-05f335a56c02",
   "metadata": {},
   "outputs": [],
   "source": [
    "region = 'Russia'\n",
    "ver_lines_strong = [1991]\n",
    "ver_lines = [1979, 1998, 2000, 2019]  # 1985, 1987, \n",
    "chart_params=ChartParams(legend_loc_1='upper left', ylim_1=(57.5, 78.5), empty_labels_1_down=0)\n",
    "create_chart(df_total.loc[region], df_male.loc[region], df_female.loc[region], \n",
    "             title_en='in the Russian SFSR (part of USSR)  /  Russia', title_ru='в Российской СФСР  /  России',\n",
    "             ver_lines_strong=ver_lines_strong, ver_lines=ver_lines, chart_params=chart_params,\n",
    "             lang=LANG, destination=DESTINATION_OUTPUT, file_name_partial=region)"
   ]
  },
  {
   "cell_type": "code",
   "execution_count": 38,
   "id": "3110ad64-f802-4087-b499-eb94f138a24c",
   "metadata": {},
   "outputs": [],
   "source": [
    "region = 'Belarus'\n",
    "ver_lines_strong = [1991]\n",
    "ver_lines = [1979, 2019]  # 1985, 1987, \n",
    "\n",
    "chart_params=ChartParams(legend_loc_1='upper left', empty_labels_1_up=0)\n",
    "create_chart(df_total.loc[region], df_male.loc[region], df_female.loc[region], \n",
    "             title_en='in the Byelorussian SSR (part of USSR)  /  Belarus', title_ru='в Белорусской ССР  /  Белоруссии',\n",
    "             ver_lines_strong=ver_lines_strong, ver_lines=ver_lines, chart_params=chart_params,\n",
    "             lang=LANG, destination=DESTINATION_OUTPUT, file_name_partial=region)"
   ]
  },
  {
   "cell_type": "code",
   "execution_count": 39,
   "id": "2b778a16-ee1e-4e6b-88e3-3a690e1a29f3",
   "metadata": {},
   "outputs": [],
   "source": [
    "region = 'Ukraine'\n",
    "ver_lines_strong = [1991]\n",
    "ver_lines = [1979, 1986, 2004, 2013, 2014, 2019]   # 1985, 1987\n",
    "chart_params=ChartParams(legend_loc_1='upper left', ylim_1=(61, 77.25), empty_labels_2_down=0, two_legends=(LANG=='ru'))\n",
    "create_chart(df_total.loc[region], df_male.loc[region], df_female.loc[region], \n",
    "             title_en='in the Ukrainian SSR (part of USSR)  /  Ukraine', title_ru='в Украинской ССР  /  Украине',\n",
    "             ver_lines_strong=ver_lines_strong, ver_lines=ver_lines, chart_params=chart_params,\n",
    "             lang=LANG, destination=DESTINATION_OUTPUT, file_name_partial=region)"
   ]
  },
  {
   "cell_type": "code",
   "execution_count": 40,
   "id": "7ff634f4-0f0e-4813-963a-d0f5dcc92f01",
   "metadata": {},
   "outputs": [],
   "source": [
    "region = 'Moldova'\n",
    "ver_lines_strong = [1991]\n",
    "ver_lines = [1979, 2019]  # 1985, 1987, \n",
    "chart_params=ChartParams(legend_loc_1='upper left', ylim_1=(56.75, 76))\n",
    "create_chart(df_total.loc[region], df_male.loc[region], df_female.loc[region],         \n",
    "             title_en='in the Moldavian SSR (part of USSR)  /  Moldova', title_ru='в Молдавской ССР  /  Молдавии',\n",
    "             ver_lines_strong=ver_lines_strong, ver_lines=ver_lines, chart_params=chart_params,\n",
    "             lang=LANG, destination=DESTINATION_OUTPUT, file_name_partial=region)"
   ]
  },
  {
   "cell_type": "code",
   "execution_count": 41,
   "id": "7e131298-37d8-423b-8daf-8662db42f418",
   "metadata": {},
   "outputs": [],
   "source": [
    "region = 'Lithuania'\n",
    "figure_size=(16, 10)\n",
    "ver_lines_strong = [1991]\n",
    "ver_lines=[2019]\n",
    "chart_params=ChartParams(ylim_1=(62.5, 81.5), ylim_2=(6, 12.5))\n",
    "create_chart(df_total.loc[region], df_male.loc[region], df_female.loc[region],\n",
    "             title_en='in Lithuania', title_ru='в Литве', figure_size=figure_size, ver_lines_strong=ver_lines_strong, ver_lines=ver_lines,\n",
    "             chart_params=chart_params, lang=LANG, destination=DESTINATION_OUTPUT, file_name_partial=region)"
   ]
  },
  {
   "cell_type": "code",
   "execution_count": 42,
   "id": "b6842e6c-c8db-4ec6-8c20-c3db4ca69877",
   "metadata": {},
   "outputs": [],
   "source": [
    "region = 'Georgia'\n",
    "ver_lines_strong = [1991]\n",
    "ver_lines = [1979, 1992, 1993, 2003, 2008, 2019]\n",
    "chart_params=ChartParams(legend_loc_1='upper left',)\n",
    "create_chart(df_total.loc[region], df_male.loc[region], df_female.loc[region], \n",
    "             title_en='in the Georgian SSR (part of USSR)  /  Georgia', title_ru='в Грузинской ССР  /  Грузии',\n",
    "             ver_lines_strong=ver_lines_strong, ver_lines=ver_lines,\n",
    "             chart_params=chart_params, lang=LANG, destination=DESTINATION_OUTPUT, file_name_partial=region)"
   ]
  },
  {
   "cell_type": "code",
   "execution_count": 43,
   "id": "a6123ff2-d87d-4ecf-9741-839f377779bc",
   "metadata": {},
   "outputs": [],
   "source": [
    "region = 'Azerbaijan'\n",
    "figure_size=(16, 11)\n",
    "ver_lines_strong = [1991]\n",
    "ver_lines = [1979, 2019]\n",
    "chart_params=ChartParams(legend_loc_1='upper left', ylim_1=(51.333, 76.5), ylim_2=(5.333, 9.667), empty_labels_1_up=0)\n",
    "create_chart(df_total.loc[region], df_male.loc[region], df_female.loc[region], \n",
    "             title_en='in the Azerbaijan SSR (part of USSR)  /  Azerbaijan', title_ru='в Азербайджанской ССР  /  Азербайджане',\n",
    "             figure_size=figure_size, ver_lines_strong=ver_lines_strong, ver_lines=ver_lines,\n",
    "             chart_params=chart_params, lang=LANG, destination=DESTINATION_OUTPUT, file_name_partial=region)"
   ]
  },
  {
   "cell_type": "code",
   "execution_count": 44,
   "id": "eaf31b18-e19d-49e0-b9c7-14a5d8b35881",
   "metadata": {},
   "outputs": [],
   "source": [
    "region = 'Armenia'\n",
    "figure_size=(16, 12)\n",
    "ver_lines_strong = [1991]\n",
    "ver_lines = [1979, 1988, 2019]\n",
    "chart_params=ChartParams(legend_loc_1='upper left', ylim_1=(53, 80.5), ylim_2=(1.5, 11))\n",
    "create_chart(df_total.loc[region], df_male.loc[region], df_female.loc[region], \n",
    "             title_en='in the Armenian SSR (part of USSR)  /  Armenia', title_ru='в Армянской ССР  /  Армении',\n",
    "             figure_size=figure_size, ver_lines_strong=ver_lines_strong, ver_lines=ver_lines,\n",
    "             chart_params=chart_params, lang=LANG, destination=DESTINATION_OUTPUT, file_name_partial=region)"
   ]
  },
  {
   "cell_type": "code",
   "execution_count": 45,
   "id": "0efd9656-5d8d-481c-b373-8d7c4cb3340b",
   "metadata": {},
   "outputs": [],
   "source": [
    "region = 'Kazakhstan'\n",
    "ver_lines_strong = [1991]\n",
    "ver_lines = [1979, 2019]\n",
    "figure_size = (16, 11)\n",
    "chart_params=ChartParams(legend_loc_1='upper left', ylim_1=(53.5, 78), empty_labels_1_up=1)\n",
    "create_chart(df_total.loc[region], df_male.loc[region], df_female.loc[region], figure_size=figure_size,\n",
    "             title_en='in the Kazakh SSR (part of USSR)  /  Kazakhstan', title_ru='в Казахской ССР  /  Казахстане',\n",
    "             ver_lines_strong=ver_lines_strong, ver_lines=ver_lines,\n",
    "             chart_params=chart_params, lang=LANG, destination=DESTINATION_OUTPUT, file_name_partial=region)"
   ]
  },
  {
   "cell_type": "code",
   "execution_count": 46,
   "id": "c4cf57e5-42d4-4f6d-afbe-856dca86d78b",
   "metadata": {},
   "outputs": [],
   "source": [
    "region = 'Turkmenistan'\n",
    "ver_lines_strong = [1991]\n",
    "ver_lines = [1979, 2019]\n",
    "chart_params=ChartParams(legend_loc_1='upper left', ylim_1=(49.75, 73))\n",
    "create_chart(df_total.loc[region], df_male.loc[region], df_female.loc[region], \n",
    "             title_en='in the Turkmen SSR (part of USSR)  /  Turkmenistan', title_ru='в Туркменской ССР  /  Туркменистане',\n",
    "             ver_lines_strong=ver_lines_strong, ver_lines=ver_lines,\n",
    "             chart_params=chart_params, lang=LANG, destination=DESTINATION_OUTPUT, file_name_partial=region)"
   ]
  },
  {
   "cell_type": "code",
   "execution_count": 47,
   "id": "aebd6d7f-7ea7-406f-a73f-d1522139c1d0",
   "metadata": {},
   "outputs": [],
   "source": [
    "region = 'Uzbekistan'\n",
    "ver_lines_strong = [1991]\n",
    "ver_lines = [1979, 2019]\n",
    "chart_params=ChartParams(legend_loc_1='upper left', ylim_1=(54.667, 74.5))\n",
    "create_chart(df_total.loc[region], df_male.loc[region], df_female.loc[region], \n",
    "             title_en='in the Uzbek SSR (part of USSR)  /  Uzbekistan', title_ru='в Узбекской ССР  /  Узбекистане',\n",
    "             ver_lines_strong=ver_lines_strong, ver_lines=ver_lines,\n",
    "             chart_params=chart_params, lang=LANG, destination=DESTINATION_OUTPUT, file_name_partial=region)"
   ]
  },
  {
   "cell_type": "code",
   "execution_count": 48,
   "id": "5aa243bd-6a4f-41bd-9e60-549c655cd698",
   "metadata": {},
   "outputs": [],
   "source": [
    "region = 'Kyrgyzstan'\n",
    "ver_lines_strong = [1991]\n",
    "ver_lines = [1979, 2019]\n",
    "chart_params=ChartParams(legend_loc_1='upper left', ylim_1=(51.333, 76.25), ylim_2=(6.333, 9.5))\n",
    "create_chart(df_total.loc[region], df_male.loc[region], df_female.loc[region], \n",
    "             title_en='in the Kirghiz SSR (part of USSR)  /  Kyrgyzstan', title_ru='в Киргизской ССР  /  Киргизии',\n",
    "             ver_lines_strong=ver_lines_strong, ver_lines=ver_lines,\n",
    "             chart_params=chart_params, lang=LANG, destination=DESTINATION_OUTPUT, file_name_partial=region)"
   ]
  },
  {
   "cell_type": "code",
   "execution_count": 49,
   "id": "23e9faa7-1612-493d-a57a-16481c52e3fc",
   "metadata": {},
   "outputs": [],
   "source": [
    "region = 'Tajikistan'\n",
    "ver_lines_strong = [1991]\n",
    "ver_lines = [1979, 2019]\n",
    "chart_params=ChartParams(legend_loc_1='upper left', ylim_1=(45.75, 74))\n",
    "create_chart(df_total.loc[region], df_male.loc[region], df_female.loc[region], \n",
    "             title_en='in the Tajik SSR (part of USSR)  /  Tajikistan', title_ru='в Таджикской ССР  /  Таджикистане',\n",
    "             ver_lines_strong=ver_lines_strong, ver_lines=ver_lines,\n",
    "             chart_params=chart_params, lang=LANG, destination=DESTINATION_OUTPUT, file_name_partial=region)"
   ]
  },
  {
   "cell_type": "markdown",
   "id": "f4123b72-ac91-4370-a755-357c312b3833",
   "metadata": {},
   "source": [
    "<br />\n",
    "<br />\n",
    "<br />\n",
    "\n",
    "---\n",
    "\n",
    "[Югославия](https://ru.wikipedia.org/wiki/Югославия#Состав) /\n",
    "[Yugoslavia](https://en.wikipedia.org/wiki/Yugoslavia#FPR_Yugoslavia), [Yugoslavia > new states](https://en.wikipedia.org/wiki/Yugoslavia#New_states)<br />\n",
    "[Распад Югославии](https://ru.wikipedia.org/wiki/Распад_Югославии) / [Breakup of Yugoslavia](https://en.wikipedia.org/wiki/Breakup_of_Yugoslavia)<br />\n",
    "[Союзная Республика Югославия](https://ru.wikipedia.org/wiki/Союзная_Республика_Югославия) / [Federal Republic of Yugoslavia](https://en.wikipedia.org/wiki/Federal_Republic_of_Yugoslavia)"
   ]
  },
  {
   "cell_type": "code",
   "execution_count": 50,
   "id": "2f3ffa44-fba5-4ec4-92b9-c4d3ec491b8a",
   "metadata": {},
   "outputs": [],
   "source": [
    "region = 'Slovenia'\n",
    "ver_lines_strong = [1991]\n",
    "ver_lines = [2019]\n",
    "chart_params=ChartParams(legend_loc_1='upper left', ylim_2=(5.5, 9))\n",
    "create_chart(df_total.loc[region], df_male.loc[region], df_female.loc[region],\n",
    "             title_en='in the Socialist Republic of Slovenia (part of Yugoslavia)  /  Slovenia', title_ru='в Социалистической Республике Словения (часть Югославии)  /  Словении',\n",
    "             ver_lines_strong=ver_lines_strong, ver_lines=ver_lines, chart_params=chart_params, lang=LANG, destination=DESTINATION_OUTPUT, file_name_partial=region)"
   ]
  },
  {
   "cell_type": "code",
   "execution_count": 51,
   "id": "917c5997-3068-471d-9288-d2767c7617d9",
   "metadata": {},
   "outputs": [],
   "source": [
    "region = 'Croatia'\n",
    "ver_lines_strong = [1991]\n",
    "ver_lines = [2019]\n",
    "chart_params=ChartParams(legend_loc_1='upper left', ylim_1=(62.75, 82), ylim_2=(5.5, 9))\n",
    "create_chart(df_total.loc[region], df_male.loc[region], df_female.loc[region], \n",
    "             title_en='in the Socialist Republic of Croatia (part of Yugoslavia) and Croatia', title_ru='в Социалистической Республике Хорватия (часть Югославии) и Хорватии',\n",
    "             ver_lines=ver_lines, ver_lines_strong=ver_lines_strong, chart_params=chart_params, lang=LANG, destination=DESTINATION_OUTPUT, file_name_partial=region)"
   ]
  },
  {
   "cell_type": "code",
   "execution_count": 52,
   "id": "c84e82fb-ce97-4590-86da-b277cc00d43f",
   "metadata": {},
   "outputs": [],
   "source": [
    "region = 'Bosnia and Herzegovina'\n",
    "figure_size=(16, 12)\n",
    "ver_lines_strong = [1991]\n",
    "ver_lines = [2019]\n",
    "chart_params=ChartParams(legend_loc_1='upper left', ylim_1=(43, 80.66), ylim_2=(3.5, 21.5))\n",
    "create_chart(df_total.loc[region], df_male.loc[region], df_female.loc[region],\n",
    "             title_en='in the Socialist Republic of Bosnia and Herzegovina (part of Yugoslavia)  /  Bosnia and Herzegovina',\n",
    "             title_ru='в Соц. Республике Босния и Герцеговина (часть Югославии)  /  Боснии и Герцеговине',\n",
    "             figure_size=figure_size, ver_lines_strong=ver_lines_strong, ver_lines=ver_lines,\n",
    "             chart_params=chart_params, lang=LANG, destination=DESTINATION_OUTPUT, file_name_partial=region)"
   ]
  },
  {
   "cell_type": "code",
   "execution_count": 53,
   "id": "ca42f173-799c-4034-adc8-ade84c35996b",
   "metadata": {},
   "outputs": [],
   "source": [
    "region = 'Montenegro'\n",
    "ver_lines_strong = [1991, 1999, 2006]\n",
    "ver_lines=[2003, 2019]\n",
    "chart_params=ChartParams(legend_loc_1='upper left', ylim_1=(62.75, 82))\n",
    "create_chart(df_total.loc[region], df_male.loc[region], df_female.loc[region], \n",
    "             title_en='in the Socialist Republic of Montenegro (part of Yugoslavia)  /  Montenegro', title_ru='в Социалистической Республике Черногория (часть Югославии)  /  Черногории',\n",
    "             ver_lines_strong=ver_lines_strong, ver_lines=ver_lines,\n",
    "             chart_params=chart_params, lang=LANG, destination=DESTINATION_OUTPUT, file_name_partial=region)"
   ]
  },
  {
   "cell_type": "code",
   "execution_count": 54,
   "id": "2ad8e144-7c94-46f3-b4a5-7f0d333264b8",
   "metadata": {},
   "outputs": [],
   "source": [
    "region = 'Serbia'\n",
    "ver_lines=[2003, 2019]\n",
    "ver_lines_strong = [2006]\n",
    "figure_size=(12, 9)\n",
    "chart_params=ChartParams(legend_loc_1='upper left', ylim_1=(68.75, 79), ylim_2=(4.75, 6), label_x_rotation=45)\n",
    "create_chart(df_total.loc[region].loc[2000:], df_male.loc[region].loc[2000:], df_female.loc[region].loc[2000:], figure_size=figure_size,\n",
    "             title_en='in Serbia', title_ru='в Сербии', ver_lines=ver_lines, ver_lines_strong=ver_lines_strong,\n",
    "             chart_params=chart_params, lang=LANG, destination=DESTINATION_OUTPUT, file_name_partial=region)"
   ]
  },
  {
   "cell_type": "code",
   "execution_count": 55,
   "id": "bf27ea0a-1dec-4ae6-b14a-256c3b2f1a1a",
   "metadata": {},
   "outputs": [
    {
     "data": {
      "text/html": [
       "<div>\n",
       "<style scoped>\n",
       "    .dataframe tbody tr th:only-of-type {\n",
       "        vertical-align: middle;\n",
       "    }\n",
       "\n",
       "    .dataframe tbody tr th {\n",
       "        vertical-align: top;\n",
       "    }\n",
       "\n",
       "    .dataframe thead th {\n",
       "        text-align: right;\n",
       "    }\n",
       "</style>\n",
       "<table border=\"1\" class=\"dataframe\">\n",
       "  <thead>\n",
       "    <tr style=\"text-align: right;\">\n",
       "      <th></th>\n",
       "      <th>1991</th>\n",
       "      <th>1992</th>\n",
       "      <th>1993</th>\n",
       "      <th>1994</th>\n",
       "      <th>1995</th>\n",
       "      <th>1996</th>\n",
       "      <th>1997</th>\n",
       "      <th>1998</th>\n",
       "      <th>1999</th>\n",
       "      <th>2000</th>\n",
       "      <th>2001</th>\n",
       "      <th>2002</th>\n",
       "      <th>2003</th>\n",
       "      <th>2004</th>\n",
       "      <th>2005</th>\n",
       "      <th>2006</th>\n",
       "      <th>2007</th>\n",
       "      <th>2008</th>\n",
       "      <th>2009</th>\n",
       "      <th>2010</th>\n",
       "      <th>2011</th>\n",
       "      <th>2012</th>\n",
       "      <th>2013</th>\n",
       "      <th>2014</th>\n",
       "      <th>2015</th>\n",
       "      <th>2016</th>\n",
       "      <th>2017</th>\n",
       "      <th>2018</th>\n",
       "      <th>2019</th>\n",
       "      <th>2020</th>\n",
       "      <th>2021</th>\n",
       "    </tr>\n",
       "  </thead>\n",
       "  <tbody>\n",
       "    <tr>\n",
       "      <th>Serbia</th>\n",
       "      <td>67.51</td>\n",
       "      <td>67.66</td>\n",
       "      <td>67.89</td>\n",
       "      <td>68.20</td>\n",
       "      <td>68.67</td>\n",
       "      <td>68.47</td>\n",
       "      <td>68.60</td>\n",
       "      <td>68.14</td>\n",
       "      <td>66.61</td>\n",
       "      <td>68.90</td>\n",
       "      <td>69.60</td>\n",
       "      <td>69.70</td>\n",
       "      <td>69.90</td>\n",
       "      <td>70.00</td>\n",
       "      <td>70.20</td>\n",
       "      <td>70.80</td>\n",
       "      <td>70.90</td>\n",
       "      <td>71.30</td>\n",
       "      <td>71.40</td>\n",
       "      <td>71.80</td>\n",
       "      <td>72.00</td>\n",
       "      <td>72.30</td>\n",
       "      <td>72.60</td>\n",
       "      <td>72.80</td>\n",
       "      <td>72.80</td>\n",
       "      <td>73.20</td>\n",
       "      <td>73.10</td>\n",
       "      <td>73.50</td>\n",
       "      <td>73.40</td>\n",
       "      <td>71.60</td>\n",
       "      <td>69.96</td>\n",
       "    </tr>\n",
       "    <tr>\n",
       "      <th>Serbia</th>\n",
       "      <td>70.62</td>\n",
       "      <td>70.80</td>\n",
       "      <td>70.97</td>\n",
       "      <td>71.25</td>\n",
       "      <td>71.69</td>\n",
       "      <td>71.49</td>\n",
       "      <td>71.58</td>\n",
       "      <td>71.19</td>\n",
       "      <td>69.72</td>\n",
       "      <td>71.58</td>\n",
       "      <td>72.23</td>\n",
       "      <td>72.29</td>\n",
       "      <td>72.44</td>\n",
       "      <td>72.68</td>\n",
       "      <td>72.83</td>\n",
       "      <td>73.39</td>\n",
       "      <td>73.63</td>\n",
       "      <td>73.89</td>\n",
       "      <td>73.99</td>\n",
       "      <td>74.34</td>\n",
       "      <td>74.54</td>\n",
       "      <td>74.84</td>\n",
       "      <td>75.19</td>\n",
       "      <td>75.34</td>\n",
       "      <td>75.29</td>\n",
       "      <td>75.69</td>\n",
       "      <td>75.54</td>\n",
       "      <td>75.89</td>\n",
       "      <td>75.94</td>\n",
       "      <td>74.48</td>\n",
       "      <td>72.73</td>\n",
       "    </tr>\n",
       "    <tr>\n",
       "      <th>Serbia</th>\n",
       "      <td>73.89</td>\n",
       "      <td>74.10</td>\n",
       "      <td>74.20</td>\n",
       "      <td>74.46</td>\n",
       "      <td>74.86</td>\n",
       "      <td>74.65</td>\n",
       "      <td>74.72</td>\n",
       "      <td>74.39</td>\n",
       "      <td>72.97</td>\n",
       "      <td>74.40</td>\n",
       "      <td>75.00</td>\n",
       "      <td>75.00</td>\n",
       "      <td>75.10</td>\n",
       "      <td>75.50</td>\n",
       "      <td>75.60</td>\n",
       "      <td>76.10</td>\n",
       "      <td>76.50</td>\n",
       "      <td>76.60</td>\n",
       "      <td>76.70</td>\n",
       "      <td>77.00</td>\n",
       "      <td>77.20</td>\n",
       "      <td>77.50</td>\n",
       "      <td>77.90</td>\n",
       "      <td>78.00</td>\n",
       "      <td>77.90</td>\n",
       "      <td>78.30</td>\n",
       "      <td>78.10</td>\n",
       "      <td>78.40</td>\n",
       "      <td>78.60</td>\n",
       "      <td>77.50</td>\n",
       "      <td>75.64</td>\n",
       "    </tr>\n",
       "  </tbody>\n",
       "</table>\n",
       "</div>"
      ],
      "text/plain": [
       "         1991   1992   1993   1994   1995   1996   1997   1998   1999   2000  \\\n",
       "Serbia  67.51  67.66  67.89  68.20  68.67  68.47  68.60  68.14  66.61  68.90   \n",
       "Serbia  70.62  70.80  70.97  71.25  71.69  71.49  71.58  71.19  69.72  71.58   \n",
       "Serbia  73.89  74.10  74.20  74.46  74.86  74.65  74.72  74.39  72.97  74.40   \n",
       "\n",
       "         2001   2002   2003   2004   2005   2006   2007   2008   2009   2010  \\\n",
       "Serbia  69.60  69.70  69.90  70.00  70.20  70.80  70.90  71.30  71.40  71.80   \n",
       "Serbia  72.23  72.29  72.44  72.68  72.83  73.39  73.63  73.89  73.99  74.34   \n",
       "Serbia  75.00  75.00  75.10  75.50  75.60  76.10  76.50  76.60  76.70  77.00   \n",
       "\n",
       "         2011   2012   2013   2014   2015   2016   2017   2018   2019   2020  \\\n",
       "Serbia  72.00  72.30  72.60  72.80  72.80  73.20  73.10  73.50  73.40  71.60   \n",
       "Serbia  74.54  74.84  75.19  75.34  75.29  75.69  75.54  75.89  75.94  74.48   \n",
       "Serbia  77.20  77.50  77.90  78.00  77.90  78.30  78.10  78.40  78.60  77.50   \n",
       "\n",
       "         2021  \n",
       "Serbia  69.96  \n",
       "Serbia  72.73  \n",
       "Serbia  75.64  "
      ]
     },
     "execution_count": 55,
     "metadata": {},
     "output_type": "execute_result"
    }
   ],
   "source": [
    "# detailed data about Serbia\n",
    "region = 'Serbia'\n",
    "pd.concat([df_male.loc[region], df_total.loc[region], df_female.loc[region]], axis='columns').T.round(2).fillna('').loc[:, 1991:]"
   ]
  },
  {
   "cell_type": "code",
   "execution_count": 56,
   "id": "df859948-8eaa-4c08-9095-a812c21d650f",
   "metadata": {},
   "outputs": [],
   "source": [
    "region = 'North Macedonia'\n",
    "ver_lines_strong = [1991]\n",
    "ver_lines = [2019]\n",
    "chart_params=ChartParams(legend_loc_1='upper left', ylim_1=(55, 79.25), ylim_2=(1.75, 5.5),)\n",
    "create_chart(df_total.loc[region], df_male.loc[region], df_female.loc[region],\n",
    "             title_en='in the Socialist Republic of Macedonia (part of Yugoslavia)  /  North Macedonia',\n",
    "             title_ru='в Социалистической Республике Македония (часть Югославии)  /  Северной Македонии',\n",
    "             ver_lines_strong=ver_lines_strong, ver_lines=ver_lines, chart_params=chart_params, lang=LANG, destination=DESTINATION_OUTPUT, file_name_partial=region)"
   ]
  },
  {
   "cell_type": "code",
   "execution_count": 57,
   "id": "92d879ed-f80f-42c9-8353-feccaaceb09c",
   "metadata": {},
   "outputs": [],
   "source": [
    "# region = 'Kosovo'\n",
    "# ver_lines=[2019]\n",
    "# chart_params=ChartParams(legend_loc_1='upper left', ylim_1=(64.75, 82), ylim_2=(2.75, 10.5))\n",
    "# create_chart(df_total.loc[region].loc[1981:], df_male.loc[region].loc[1981:], df_female.loc[region].loc[1981:], \n",
    "#             title_en='in Kosovo', title_ru='в Косово', ver_lines=ver_lines, chart_params=chart_params, lang=LANG, destination=DESTINATION_OUTPUT, file_name_partial=region)"
   ]
  },
  {
   "cell_type": "markdown",
   "id": "fa57778d-7814-4f1f-aec8-f386da3cc7e8",
   "metadata": {},
   "source": [
    "<br />\n",
    "<br />\n",
    "<br />\n",
    "\n",
    "---\n",
    "\n",
    "[Чехословакия](https://ru.wikipedia.org/wiki/Чехословакия) / [Czechoslovakia](https://en.wikipedia.org/wiki/Czechoslovakia)<br />\n",
    "[Чешская и Словацкая Федеративная Республика](https://ru.wikipedia.org/wiki/Чешская_и_Словацкая_Федеративная_Республика) / [Czech and Slovak Federative Republic](https://en.wikipedia.org/wiki/Czech_and_Slovak_Federative_Republic)<br />\n",
    "[Бархатный развод](https://ru.wikipedia.org/wiki/) / [Dissolution of Czechoslovakia](https://en.wikipedia.org/wiki/Dissolution_of_Czechoslovakia)"
   ]
  },
  {
   "cell_type": "code",
   "execution_count": 58,
   "id": "589b98ee-f0f8-4f9e-88ad-cc6683e39755",
   "metadata": {},
   "outputs": [],
   "source": [
    "region = 'Czechia'\n",
    "ver_lines_strong = [1993]\n",
    "ver_lines = [1990, 2019]\n",
    "chart_params=ChartParams(legend_loc_1='upper left',)\n",
    "create_chart(df_total.loc[region], df_male.loc[region], df_female.loc[region],\n",
    "             title_en='in the Czech Socialist Republic (part of Czechoslovakia)  / Czechia', title_ru='в Чешской социалистической республике (часть Чехословакии)  /  Чехии',\n",
    "             ver_lines_strong=ver_lines_strong, ver_lines=ver_lines, chart_params=chart_params, lang=LANG, destination=DESTINATION_OUTPUT, file_name_partial=region)"
   ]
  },
  {
   "cell_type": "code",
   "execution_count": 59,
   "id": "80e68e5b-575b-4279-aaf8-c326cc0cbc72",
   "metadata": {},
   "outputs": [],
   "source": [
    "region = 'Slovakia'\n",
    "ver_lines_strong = [1993]\n",
    "ver_lines=[1990, 2019]\n",
    "chart_params=ChartParams(legend_loc_1='upper left', ylim_1=(66.333, 81.5),)\n",
    "create_chart(df_total.loc[region], df_male.loc[region], df_female.loc[region],\n",
    "             title_en='in the Slovak Socialist Republic (part of Czechoslovakia)  / Slovakia', title_ru='в Словацкой социалистической республике (часть Чехословакии)  /  Словакии',\n",
    "             ver_lines_strong=ver_lines_strong, ver_lines=ver_lines, chart_params=chart_params, lang=LANG, destination=DESTINATION_OUTPUT, file_name_partial=region)"
   ]
  },
  {
   "cell_type": "markdown",
   "id": "17cb663c-3eab-4128-ade7-0209c9a772e6",
   "metadata": {},
   "source": [
    "<br />\n",
    "<br />\n",
    "<br />\n",
    "\n",
    "---\n",
    "### Europe"
   ]
  },
  {
   "cell_type": "code",
   "execution_count": 60,
   "id": "47943a02-4b64-4b8e-94df-5cbdfea9f28f",
   "metadata": {},
   "outputs": [],
   "source": [
    "region = 'Iceland'\n",
    "ver_lines=[2019]\n",
    "chart_params=ChartParams(legend_loc_1='upper left', ylim_2=(2.5, 7.5))\n",
    "create_chart(df_total.loc[region], df_male.loc[region], df_female.loc[region], \n",
    "             title_en='in Iceland', title_ru='в Исландии', ver_lines=ver_lines, chart_params=chart_params,\n",
    "             lang=LANG, destination=DESTINATION_OUTPUT, file_name_partial=region)"
   ]
  },
  {
   "cell_type": "code",
   "execution_count": 61,
   "id": "dbb4eb40-4d9e-4075-a904-c3f92ec5b054",
   "metadata": {},
   "outputs": [],
   "source": [
    "region = 'Ireland'\n",
    "ver_lines=[2019]\n",
    "chart_params=ChartParams(legend_loc_1='upper left', ylim_1=(67.667, 85), ylim_2=(3.333, 6.25))\n",
    "create_chart(df_total.loc[region], df_male.loc[region], df_female.loc[region], \n",
    "             title_en='in Ireland', title_ru='в Ирландии', ver_lines=ver_lines, chart_params=chart_params,\n",
    "             lang=LANG, destination=DESTINATION_OUTPUT, file_name_partial=region)"
   ]
  },
  {
   "cell_type": "code",
   "execution_count": 62,
   "id": "4e78243b-c76b-44e8-ae10-b7dda457d7a7",
   "metadata": {},
   "outputs": [],
   "source": [
    "region = 'United Kingdom'\n",
    "ver_lines=[2019]\n",
    "chart_params=ChartParams(legend_loc_1='upper left', ylim_1=(67.75, 83.5), ylim_2=(3.333, 6.667))\n",
    "create_chart(df_total.loc[region], df_male.loc[region], df_female.loc[region], \n",
    "             title_en='in the United Kingdom', title_ru='в Великобритании', ver_lines=ver_lines, chart_params=chart_params,\n",
    "             lang=LANG, destination=DESTINATION_OUTPUT, file_name_partial=region)"
   ]
  },
  {
   "cell_type": "code",
   "execution_count": 63,
   "id": "7595db4a-bd44-498c-8f19-e3af00df5b33",
   "metadata": {},
   "outputs": [],
   "source": [
    "region = 'Portugal'\n",
    "ver_lines=[2019]\n",
    "chart_params=ChartParams(legend_loc_1='upper left', ylim_1=(60, 85.25), ylim_2=(5.333, 7.667))\n",
    "create_chart(df_total.loc[region], df_male.loc[region], df_female.loc[region], \n",
    "             title_en='in Portugal', title_ru='в Португалии', ver_lines=ver_lines, chart_params=chart_params,\n",
    "             lang=LANG, destination=DESTINATION_OUTPUT, file_name_partial=region)"
   ]
  },
  {
   "cell_type": "code",
   "execution_count": 64,
   "id": "c46d2bf1-ee61-4822-8a51-fbffde791c54",
   "metadata": {},
   "outputs": [],
   "source": [
    "region = 'Spain'\n",
    "ver_lines=[2019]\n",
    "chart_params=ChartParams(legend_loc_1='upper left', ylim_1=(66.667, 87), ylim_2=(4.667, 7.667))\n",
    "create_chart(df_total.loc[region], df_male.loc[region], df_female.loc[region], \n",
    "             title_en='in Spain', title_ru='в Испании', ver_lines=ver_lines, chart_params=chart_params,\n",
    "             lang=LANG, destination=DESTINATION_OUTPUT, file_name_partial=region)"
   ]
  },
  {
   "cell_type": "code",
   "execution_count": 65,
   "id": "40d80c51-03c6-4d50-99ae-793ca0babdde",
   "metadata": {},
   "outputs": [],
   "source": [
    "region = 'Italy'\n",
    "ver_lines=[2019]\n",
    "chart_params=ChartParams(legend_loc_1='upper left', ylim_1=(66.333, 86))\n",
    "create_chart(df_total.loc[region], df_male.loc[region], df_female.loc[region], \n",
    "             title_en='in Italy', title_ru='в Италии', ver_lines=ver_lines, chart_params=chart_params,\n",
    "             lang=LANG, destination=DESTINATION_OUTPUT, file_name_partial=region)"
   ]
  },
  {
   "cell_type": "code",
   "execution_count": 66,
   "id": "01465e4e-86c8-4c90-a945-ab725be58c24",
   "metadata": {},
   "outputs": [],
   "source": [
    "region = 'Greece'\n",
    "ver_lines=[2019]\n",
    "chart_params=ChartParams(legend_loc_1='upper left', ylim_1=(67, 85), empty_labels_1_up=1)\n",
    "create_chart(df_total.loc[region], df_male.loc[region], df_female.loc[region], \n",
    "             title_en='in Greece', title_ru='в Греции', ver_lines=ver_lines, chart_params=chart_params,\n",
    "             lang=LANG, destination=DESTINATION_OUTPUT, file_name_partial=region)"
   ]
  },
  {
   "cell_type": "code",
   "execution_count": 67,
   "id": "65956768-4893-4ac4-b7e6-4496504e6887",
   "metadata": {},
   "outputs": [],
   "source": [
    "region = 'France'\n",
    "ver_lines=[2019]\n",
    "chart_params=ChartParams(legend_loc_1='upper left', ylim_1=(66.5, 86.5), empty_labels_1_down=0, ylim_2=(5.75, 8.667))\n",
    "create_chart(df_total.loc[region], df_male.loc[region], df_female.loc[region], \n",
    "             title_en='in France', title_ru='во Франции', ver_lines=ver_lines, chart_params=chart_params,\n",
    "             lang=LANG, destination=DESTINATION_OUTPUT, file_name_partial=region)"
   ]
  },
  {
   "cell_type": "code",
   "execution_count": 68,
   "id": "d933e013-e273-4dfa-802d-b7d79ec14bdd",
   "metadata": {},
   "outputs": [],
   "source": [
    "region = 'Belgium'\n",
    "ver_lines=[2019]\n",
    "chart_params=ChartParams(legend_loc_1='upper left', ylim_1=(66.75, 84.667), empty_labels_1_up=0, ylim_2=(4.333, 7.25), empty_labels_2_down=0)\n",
    "create_chart(df_total.loc[region], df_male.loc[region], df_female.loc[region], \n",
    "             title_en='in Belgium', title_ru='в Бельгии', ver_lines=ver_lines, chart_params=chart_params,\n",
    "             lang=LANG, destination=DESTINATION_OUTPUT, file_name_partial=region)"
   ]
  },
  {
   "cell_type": "code",
   "execution_count": 69,
   "id": "6b6fba39-f605-475f-b493-8aaffeba970d",
   "metadata": {},
   "outputs": [],
   "source": [
    "region = 'Netherlands'\n",
    "ver_lines=[2019]\n",
    "chart_params=ChartParams(legend_loc_1='upper left',)\n",
    "create_chart(df_total.loc[region], df_male.loc[region], df_female.loc[region], \n",
    "             title_en='in the Netherlands', title_ru='в Нидерландах', ver_lines=ver_lines, chart_params=chart_params,\n",
    "             lang=LANG, destination=DESTINATION_OUTPUT, file_name_partial=region)"
   ]
  },
  {
   "cell_type": "code",
   "execution_count": 70,
   "id": "7e79f26a-5f45-438c-82f9-305cf7f04f72",
   "metadata": {},
   "outputs": [],
   "source": [
    "region = 'Germany'\n",
    "ver_lines_strong = [1990]\n",
    "ver_lines=[2019]\n",
    "chart_params=ChartParams(legend_loc_1='upper left', ylim_1=(66.5, 84))\n",
    "create_chart(df_total.loc[region], df_male.loc[region], df_female.loc[region], \n",
    "             title_en='in Germany', title_ru='в Германии', ver_lines_strong=ver_lines_strong, ver_lines=ver_lines,\n",
    "             chart_params=chart_params, lang=LANG, destination=DESTINATION_OUTPUT, file_name_partial=region)"
   ]
  },
  {
   "cell_type": "code",
   "execution_count": 71,
   "id": "8eb60cec-7f13-45d9-bbb9-c0854e9289de",
   "metadata": {},
   "outputs": [],
   "source": [
    "region = 'Switzerland'\n",
    "ver_lines=[2019]\n",
    "chart_params=ChartParams(legend_loc_1='upper left', ylim_1=(68, 86.25))\n",
    "create_chart(df_total.loc[region], df_male.loc[region], df_female.loc[region], \n",
    "             title_en='in Switzerland', title_ru='в Швейцарии', ver_lines=ver_lines, chart_params=chart_params,\n",
    "             lang=LANG, destination=DESTINATION_OUTPUT, file_name_partial=region)"
   ]
  },
  {
   "cell_type": "code",
   "execution_count": 72,
   "id": "1d2291b3-0890-4840-9f0a-be62d67bcfe2",
   "metadata": {},
   "outputs": [],
   "source": [
    "region = 'Austria'\n",
    "ver_lines=[2019]\n",
    "chart_params=ChartParams(legend_loc_1='upper left', ylim_1=(65.5, 84.5), ylim_2=(4.333, 7.5), empty_labels_2_down=0)\n",
    "create_chart(df_total.loc[region], df_male.loc[region], df_female.loc[region], \n",
    "             title_en='in Austria', title_ru='в Австрии', ver_lines=ver_lines, chart_params=chart_params,\n",
    "             lang=LANG, destination=DESTINATION_OUTPUT, file_name_partial=region)"
   ]
  },
  {
   "cell_type": "code",
   "execution_count": 73,
   "id": "abf4ea4e-adf6-4588-b7f7-e3f366581b79",
   "metadata": {},
   "outputs": [],
   "source": [
    "region = 'Denmark'\n",
    "ver_lines=[2019]\n",
    "chart_params=ChartParams(legend_loc_1='upper left', ylim_2=(3.5, 6.333))\n",
    "create_chart(df_total.loc[region], df_male.loc[region], df_female.loc[region], \n",
    "             title_en='in Denmark', title_ru='в Дании', ver_lines=ver_lines, chart_params=chart_params,\n",
    "             lang=LANG, destination=DESTINATION_OUTPUT, file_name_partial=region)"
   ]
  },
  {
   "cell_type": "code",
   "execution_count": 74,
   "id": "f4930df5-02d1-4691-b415-344078e4f3d2",
   "metadata": {},
   "outputs": [],
   "source": [
    "region = 'Norway'\n",
    "ver_lines=[2019]\n",
    "chart_params=ChartParams(legend_loc_1='upper left', ylim_1=(70.5, 85.25), ylim_2=(3, 7.25))\n",
    "create_chart(df_total.loc[region], df_male.loc[region], df_female.loc[region], \n",
    "             title_en='in Norway', title_ru='в Норвегии', ver_lines=ver_lines, chart_params=chart_params,\n",
    "             lang=LANG, destination=DESTINATION_OUTPUT, file_name_partial=region)"
   ]
  },
  {
   "cell_type": "code",
   "execution_count": 75,
   "id": "1e1bb4f2-830b-4034-852e-da841dec878d",
   "metadata": {},
   "outputs": [],
   "source": [
    "region = 'Sweden'\n",
    "ver_lines=[2019]\n",
    "chart_params=ChartParams(legend_loc_1='upper left', ylim_1=(71, 85))\n",
    "create_chart(df_total.loc[region], df_male.loc[region], df_female.loc[region], \n",
    "             title_en='in Sweden', title_ru='в Швеции', ver_lines=ver_lines, chart_params=chart_params,\n",
    "             lang=LANG, destination=DESTINATION_OUTPUT, file_name_partial=region)"
   ]
  },
  {
   "cell_type": "code",
   "execution_count": 76,
   "id": "c8407c27-f261-4262-b21f-95da1504f80c",
   "metadata": {},
   "outputs": [],
   "source": [
    "region = 'Finland'\n",
    "ver_lines=[2019]\n",
    "chart_params=ChartParams(legend_loc_1='upper left', ylim_1=(65, 85.25))\n",
    "create_chart(df_total.loc[region], df_male.loc[region], df_female.loc[region], \n",
    "             title_en='in Finland', title_ru='в Финляндии', ver_lines=ver_lines, chart_params=chart_params,\n",
    "             lang=LANG, destination=DESTINATION_OUTPUT, file_name_partial=region)"
   ]
  },
  {
   "cell_type": "code",
   "execution_count": 77,
   "id": "5d05d3ee-63a8-4209-857b-74533b85d210",
   "metadata": {},
   "outputs": [],
   "source": [
    "region = 'Poland'\n",
    "ver_lines=[2019]\n",
    "chart_params=ChartParams(legend_loc_1='upper left', ylim_1=(64.5, 82.5))\n",
    "create_chart(df_total.loc[region], df_male.loc[region], df_female.loc[region], \n",
    "             title_en='in Poland', title_ru='в Польше', ver_lines=ver_lines, chart_params=chart_params,\n",
    "             lang=LANG, destination=DESTINATION_OUTPUT, file_name_partial=region)"
   ]
  },
  {
   "cell_type": "code",
   "execution_count": 78,
   "id": "b48e5736-1173-48d2-ae58-fb753300c943",
   "metadata": {},
   "outputs": [],
   "source": [
    "region = 'Romania'\n",
    "ver_lines=[2019]\n",
    "chart_params=ChartParams(legend_loc_1='upper left', ylim_1=(63.5, 80), ylim_2=(3, 8.25))\n",
    "create_chart(df_total.loc[region], df_male.loc[region], df_female.loc[region], \n",
    "             title_en='in Romania', title_ru='в Румынии', ver_lines=ver_lines, chart_params=chart_params,\n",
    "             lang=LANG, destination=DESTINATION_OUTPUT, file_name_partial=region)"
   ]
  },
  {
   "cell_type": "code",
   "execution_count": 79,
   "id": "f294bb62-120c-4777-94ba-7658ae0986f3",
   "metadata": {},
   "outputs": [],
   "source": [
    "region = 'Hungary'\n",
    "ver_lines = [2019]\n",
    "chart_params=ChartParams(legend_loc_1='upper left', ylim_1=(64.333, 80.25), ylim_2=(4, 9.667))\n",
    "create_chart(df_total.loc[region], df_male.loc[region], df_female.loc[region], \n",
    "             title_en='in Hungary', title_ru='в Венгрии', ver_lines=ver_lines, chart_params=chart_params,\n",
    "             lang=LANG, destination=DESTINATION_OUTPUT, file_name_partial=region)"
   ]
  },
  {
   "cell_type": "code",
   "execution_count": 80,
   "id": "257fcf7f-9101-4978-8a7f-04abacf3716d",
   "metadata": {},
   "outputs": [],
   "source": [
    "region = 'Bulgaria'\n",
    "ver_lines=[2019]\n",
    "chart_params=ChartParams(legend_loc_1='upper left', ylim_1=(67, 79))\n",
    "create_chart(df_total.loc[region], df_male.loc[region], df_female.loc[region], \n",
    "             title_en='in Bulgaria', title_ru='в Болгария', ver_lines=ver_lines, chart_params=chart_params,\n",
    "             lang=LANG, destination=DESTINATION_OUTPUT, file_name_partial=region)"
   ]
  },
  {
   "cell_type": "code",
   "execution_count": 81,
   "id": "8166349e-4e75-4018-8c15-e27676b1eecf",
   "metadata": {},
   "outputs": [],
   "source": [
    "region = 'Malta'\n",
    "ver_lines=[2019]\n",
    "chart_params=ChartParams(legend_loc_1='upper left',)\n",
    "create_chart(df_total.loc[region], df_male.loc[region], df_female.loc[region], \n",
    "             title_en='in Malta', title_ru='на Мальте', ver_lines=ver_lines, chart_params=chart_params,\n",
    "             lang=LANG, destination=DESTINATION_OUTPUT, file_name_partial=region)"
   ]
  },
  {
   "cell_type": "code",
   "execution_count": 82,
   "id": "553ed097-55f5-40bb-94d1-16f443f30db7",
   "metadata": {},
   "outputs": [],
   "source": [
    "region = 'Liechtenstein'\n",
    "figure_size=(12, 9)\n",
    "ver_lines=[2019]\n",
    "chart_params=ChartParams(legend_loc_1='upper left', ylim_1=(71.75, 86.5), two_legends=(LANG=='ru'))\n",
    "create_chart(df_total.loc[region].loc[1994:], df_male.loc[region].loc[1994:], df_female.loc[region].loc[1994:], figure_size=figure_size,\n",
    "             title_en='in Liechtenstein', title_ru='в Лихтенштейне', ver_lines=ver_lines, chart_params=chart_params,\n",
    "             lang=LANG, destination=DESTINATION_OUTPUT, file_name_partial=region)"
   ]
  },
  {
   "cell_type": "code",
   "execution_count": 83,
   "id": "b99ccee9-d020-49ff-8a94-684fe0c52583",
   "metadata": {
    "tags": []
   },
   "outputs": [],
   "source": [
    "region = 'Luxembourg'\n",
    "ver_lines=[2019]\n",
    "chart_params=ChartParams(legend_loc_1='upper left', ylim_1=(64.75, 85.66))\n",
    "create_chart(df_total.loc[region], df_male.loc[region], df_female.loc[region], \n",
    "             title_en='in Luxembourg', title_ru='в Люксембурге', ver_lines=ver_lines, chart_params=chart_params,\n",
    "             lang=LANG, destination=DESTINATION_OUTPUT, file_name_partial=region)"
   ]
  },
  {
   "cell_type": "markdown",
   "id": "c192907f-41e4-4841-aad7-92fae1a9dd2e",
   "metadata": {},
   "source": [
    "<br />\n",
    "<br />\n",
    "<br />\n",
    "\n",
    "---\n",
    "### Asia"
   ]
  },
  {
   "cell_type": "code",
   "execution_count": 84,
   "id": "911282cb-63a5-4f2d-8336-d7ef35e0f412",
   "metadata": {},
   "outputs": [],
   "source": [
    "region = 'Turkey'\n",
    "figure_size=(16, 12)\n",
    "ver_lines=[2019]\n",
    "chart_params=ChartParams(legend_loc_1='upper left', ylim_1=(48, 81.5), ylim_2=(5.33, 7.66))\n",
    "create_chart(df_total.loc[region], df_male.loc[region], df_female.loc[region],\n",
    "             figure_size=figure_size, ver_lines=ver_lines,\n",
    "             title_en='in Turkey', title_ru='в Турции', chart_params=chart_params, lang=LANG, destination=DESTINATION_OUTPUT, file_name_partial=region)"
   ]
  },
  {
   "cell_type": "code",
   "execution_count": 85,
   "id": "98058342-217d-4d60-867e-c22a12321e5f",
   "metadata": {},
   "outputs": [],
   "source": [
    "region = 'Cyprus'\n",
    "figure_size=(16, 12)\n",
    "ver_lines=[1974, 2019]\n",
    "chart_params=ChartParams(legend_loc_1='upper left', ylim_1=(44.75, 84), empty_labels_1_up=1, ylim_2=(3, 27),)\n",
    "create_chart(df_total.loc[region], df_male.loc[region], df_female.loc[region],\n",
    "             title_en='in Cyprus', title_ru='на Кипре', chart_params=chart_params, figure_size=figure_size, ver_lines=ver_lines,\n",
    "             lang=LANG, destination=DESTINATION_OUTPUT, file_name_partial=region)"
   ]
  },
  {
   "cell_type": "markdown",
   "id": "57035a18-98ec-49bd-8d72-805b45976286",
   "metadata": {},
   "source": [
    "<br />\n",
    "\n",
    "[Иран](https://ru.wikipedia.org/wiki/Иран) / [Iran](https://en.wikipedia.org/wiki/Iran)"
   ]
  },
  {
   "cell_type": "code",
   "execution_count": 86,
   "id": "2be34fa3-4f0d-4997-8ec1-37485faf31b0",
   "metadata": {},
   "outputs": [],
   "source": [
    "region = 'Iran'\n",
    "figure_size=(16, 12)\n",
    "ver_lines_strong=[]\n",
    "ver_lines=[1979, 1980, 1988, 2019]\n",
    "chart_params=ChartParams(legend_loc_1='upper left', ylim_1=(43, 79.667),)\n",
    "create_chart(df_total.loc[region], df_male.loc[region], df_female.loc[region], figure_size=figure_size,\n",
    "             title_en='in Iran', title_ru='в Иране', ver_lines_strong=ver_lines_strong, ver_lines=ver_lines,\n",
    "             chart_params=chart_params, lang=LANG, destination=DESTINATION_OUTPUT, file_name_partial=region)"
   ]
  },
  {
   "cell_type": "markdown",
   "id": "6a97e253-05b4-43b9-94c9-ea9131300cf6",
   "metadata": {},
   "source": [
    "<br />\n",
    "\n",
    "[Афганистан](https://ru.wikipedia.org/wiki/Афганистан) / [Afghanistan](https://en.wikipedia.org/wiki/Afghanistan)"
   ]
  },
  {
   "cell_type": "code",
   "execution_count": 87,
   "id": "ffc1deee-88c2-48a6-9fe3-b6693c259bb8",
   "metadata": {},
   "outputs": [],
   "source": [
    "region = 'Afghanistan'\n",
    "figure_size=(16, 12)\n",
    "ver_lines_strong=[] # [1979, 2001]\n",
    "ver_lines=[1973, 1978, 1979, 1989, 1992, 2001, 2004, 2019]\n",
    "chart_params=ChartParams(legend_loc_1='upper left', ylim_1=(29.5, 67.25),)\n",
    "create_chart(df_total.loc[region], df_male.loc[region], df_female.loc[region], figure_size=figure_size,\n",
    "             title_en='in Afghanistan', title_ru='в Афганистане', ver_lines_strong=ver_lines_strong, ver_lines=ver_lines,\n",
    "             chart_params=chart_params, lang=LANG, destination=DESTINATION_OUTPUT, file_name_partial=region)"
   ]
  },
  {
   "cell_type": "code",
   "execution_count": 88,
   "id": "c62ed2df-22d0-4e7a-97a7-23a356f70088",
   "metadata": {},
   "outputs": [],
   "source": [
    "region = 'Pakistan'\n",
    "figure_size=(16, 11)\n",
    "ver_lines=[1971, 2019]\n",
    "chart_params=ChartParams(legend_loc_1='upper left', ylim_1=(43.333, 69.5), ylim_2=(-3.25, 5.25),)\n",
    "create_chart(df_total.loc[region], df_male.loc[region], df_female.loc[region],\n",
    "             title_en='in Pakistan', title_ru='в Пакистане',\n",
    "             figure_size=figure_size, ver_lines=ver_lines, chart_params=chart_params, lang=LANG, destination=DESTINATION_OUTPUT, file_name_partial=region)"
   ]
  },
  {
   "cell_type": "code",
   "execution_count": 89,
   "id": "7df771db-b7d3-48e1-ab00-0136d78c7c8c",
   "metadata": {},
   "outputs": [],
   "source": [
    "region = 'Nepal'\n",
    "figure_size=(16, 12)\n",
    "ver_lines=[2019]\n",
    "chart_params=ChartParams(ylim_1=(38.333, 72), empty_labels_1_up=1)\n",
    "create_chart(df_total.loc[region], df_male.loc[region], df_female.loc[region], figure_size=figure_size, ver_lines=ver_lines,\n",
    "             title_en='in Nepal', title_ru='в Непале', chart_params=chart_params, lang=LANG, destination=DESTINATION_OUTPUT, file_name_partial=region)"
   ]
  },
  {
   "cell_type": "code",
   "execution_count": 90,
   "id": "d91373e6-0295-4bed-9682-4ef9e08d6747",
   "metadata": {},
   "outputs": [],
   "source": [
    "region = 'Bhutan'\n",
    "figure_size=(16, 10)\n",
    "ver_lines=[2019]\n",
    "chart_params=ChartParams(ylim_1=(32.5, 74))\n",
    "create_chart(df_total.loc[region], df_male.loc[region], df_female.loc[region], figure_size=figure_size, ver_lines=ver_lines,\n",
    "             title_en='in Bhutan', title_ru='в Бутане', chart_params=chart_params, lang=LANG, destination=DESTINATION_OUTPUT, file_name_partial=region)"
   ]
  },
  {
   "cell_type": "code",
   "execution_count": 91,
   "id": "0646af99-c086-4b50-b562-29c2642c6b1c",
   "metadata": {},
   "outputs": [],
   "source": [
    "region = 'India'\n",
    "figure_size=(16, 12)\n",
    "ver_lines=[2019]\n",
    "chart_params=ChartParams(legend_loc_1='upper left', ylim_1=(44.333, 73), ylim_2=(-1.667, 3.667), empty_labels_1_up=1)\n",
    "create_chart(df_total.loc[region], df_male.loc[region], df_female.loc[region], figure_size=figure_size, ver_lines=ver_lines,\n",
    "             title_en='in India', title_ru='в Индии', chart_params=chart_params, lang=LANG, destination=DESTINATION_OUTPUT, file_name_partial=region)"
   ]
  },
  {
   "cell_type": "code",
   "execution_count": 92,
   "id": "9976a8d2-5089-4278-a7ab-5a82178ed442",
   "metadata": {},
   "outputs": [],
   "source": [
    "region = 'Sri Lanka'\n",
    "figure_size=(16, 11)\n",
    "chart_params=ChartParams(legend_loc_1='upper left', ylim_1=(59, 80.5), empty_labels_1_up=0, empty_labels_2_down=0)\n",
    "create_chart(df_total.loc[region], df_male.loc[region], df_female.loc[region],\n",
    "             title_en='in Sri Lanka', title_ru='в Шри-Ланке',\n",
    "             ver_lines=ver_lines, chart_params=chart_params, lang=LANG, destination=DESTINATION_OUTPUT, file_name_partial=region)"
   ]
  },
  {
   "cell_type": "code",
   "execution_count": 93,
   "id": "64f7878a-4405-4e6f-9665-7b85722df871",
   "metadata": {},
   "outputs": [],
   "source": [
    "region = 'Maldives'\n",
    "figure_size=(16, 12)\n",
    "ver_lines=[2019]\n",
    "chart_params=ChartParams(legend_loc_1='upper left', ylim_1=(38, 81.667), ylim_2=(0, 3.25),)\n",
    "create_chart(df_total.loc[region], df_male.loc[region], df_female.loc[region],\n",
    "             title_en='in the Maldives', title_ru='на Мальдивах',\n",
    "             figure_size=figure_size, ver_lines=ver_lines, chart_params=chart_params, lang=LANG, destination=DESTINATION_OUTPUT, file_name_partial=region)"
   ]
  },
  {
   "cell_type": "code",
   "execution_count": 94,
   "id": "3ca91693-a2bc-432b-a500-946232b65f13",
   "metadata": {},
   "outputs": [],
   "source": [
    "region = 'Bangladesh'\n",
    "figure_size=(16, 12)\n",
    "ver_lines_strong=[1971, 2019]\n",
    "chart_params=ChartParams(legend_loc_1='upper left', ylim_1=(22.25, 75.5), ylim_2=(-4, 10),)\n",
    "create_chart(df_total.loc[region], df_male.loc[region], df_female.loc[region], figure_size=figure_size,\n",
    "             title_en='in Bangladesh', title_ru='в Бангладеше', chart_params=chart_params, ver_lines_strong=ver_lines_strong,\n",
    "             lang=LANG, destination=DESTINATION_OUTPUT, file_name_partial=region)"
   ]
  },
  {
   "cell_type": "code",
   "execution_count": 95,
   "id": "e8a724f3-cd40-4a67-a841-56768fff92ad",
   "metadata": {},
   "outputs": [],
   "source": [
    "region = 'Thailand'\n",
    "figure_size=(16, 11)\n",
    "chart_params=ChartParams(legend_loc_1='upper left', ylim_1=(48.5, 84), ylim_2=(4.667, 9.667))\n",
    "create_chart(df_total.loc[region], df_male.loc[region], df_female.loc[region],\n",
    "             title_en='in Thailand', title_ru='в Тайланде',\n",
    "             figure_size=figure_size, chart_params=chart_params, lang=LANG, destination=DESTINATION_OUTPUT, file_name_partial=region)"
   ]
  },
  {
   "cell_type": "markdown",
   "id": "0993cbd9-645a-4ddb-9ec6-2a0fa96f125e",
   "metadata": {},
   "source": [
    "<br />\n",
    "\n",
    "[Вьетнам](https://ru.wikipedia.org/wiki/Вьетнам) / [Vietnam](https://en.wikipedia.org/wiki/Vietnam)"
   ]
  },
  {
   "cell_type": "code",
   "execution_count": 96,
   "id": "e4c93099-553a-41ed-a3ca-9d574113b8c4",
   "metadata": {},
   "outputs": [],
   "source": [
    "region = 'Vietnam'\n",
    "figure_size=(16, 12)\n",
    "ver_lines_strong = []\n",
    "ver_lines = [1965, 1973, 1975, 1979]\n",
    "chart_params=ChartParams(legend_loc_1='upper left', ylim_1=(47, 80.25), ylim_2=(7.5, 13.5))\n",
    "create_chart(df_total.loc[region], df_male.loc[region], df_female.loc[region], figure_size=figure_size,\n",
    "             title_en='in Vietnam', title_ru='во Вьетнаме', ver_lines_strong=ver_lines_strong, ver_lines=ver_lines,\n",
    "             chart_params=chart_params, lang=LANG, destination=DESTINATION_OUTPUT, file_name_partial=region)"
   ]
  },
  {
   "cell_type": "code",
   "execution_count": 97,
   "id": "bd85f9fe-2926-4ad3-9e1a-9c349d3c0740",
   "metadata": {},
   "outputs": [],
   "source": [
    "region = 'Malaysia'\n",
    "chart_params=ChartParams(legend_loc_1='upper left', ylim_1=(55.25, 78.667), ylim_2=(2.333, 5.333), empty_labels_2_down=0)\n",
    "create_chart(df_total.loc[region], df_male.loc[region], df_female.loc[region],\n",
    "             title_en='in Malaysia', title_ru='в Малайзии', chart_params=chart_params, lang=LANG, destination=DESTINATION_OUTPUT, file_name_partial=region)"
   ]
  },
  {
   "cell_type": "code",
   "execution_count": 98,
   "id": "09d2e19d-348d-4367-8772-34c654224266",
   "metadata": {},
   "outputs": [],
   "source": [
    "region = 'Indonesia'\n",
    "figure_size=(16, 12)\n",
    "ver_lines=[2019]\n",
    "chart_params=ChartParams(legend_loc_1='upper left', ylim_1=(39, 73), ylim_2=(2.5, 7.5))\n",
    "create_chart(df_total.loc[region], df_male.loc[region], df_female.loc[region], figure_size=figure_size, ver_lines=ver_lines,\n",
    "             title_en='in Indonesia', title_ru='в Индонезии', chart_params=chart_params, lang=LANG, destination=DESTINATION_OUTPUT, file_name_partial=region)"
   ]
  },
  {
   "cell_type": "code",
   "execution_count": 99,
   "id": "b8d39dde-8732-4906-8128-38cec2c72fca",
   "metadata": {},
   "outputs": [],
   "source": [
    "region = 'Philippines'\n",
    "chart_params=ChartParams(legend_loc_1='upper left', ylim_1=(57.75, 74.25))\n",
    "create_chart(df_total.loc[region], df_male.loc[region], df_female.loc[region],\n",
    "             title_en='in the Philippines', title_ru='на Филиппинах', chart_params=chart_params, lang=LANG, destination=DESTINATION_OUTPUT, file_name_partial=region)"
   ]
  },
  {
   "cell_type": "code",
   "execution_count": 100,
   "id": "9b07c405-28be-49c4-a167-13b80d1cbd13",
   "metadata": {},
   "outputs": [],
   "source": [
    "region = 'Singapore'\n",
    "chart_params=ChartParams(legend_loc_1='upper left', ylim_1=(62, 86.25))\n",
    "create_chart(df_total.loc[region], df_male.loc[region], df_female.loc[region],\n",
    "             title_en='in Singapore', title_ru='в Сингапуре', chart_params=chart_params, lang=LANG, destination=DESTINATION_OUTPUT, file_name_partial=region)"
   ]
  },
  {
   "cell_type": "markdown",
   "id": "ed6e6b09-35a6-4ef2-a782-2d99a95462a4",
   "metadata": {},
   "source": [
    "<br />\n",
    "\n",
    "[Китай](https://ru.wikipedia.org/wiki/Китай) / [China](https://en.wikipedia.org/wiki/China)<br />\n",
    "[Председатель Китайской Народной Республики](https://ru.wikipedia.org/wiki/Председатель_Китайской_Народной_Республики) / [President of the People's Republic of China](https://en.wikipedia.org/wiki/President_of_the_People's_Republic_of_China)"
   ]
  },
  {
   "cell_type": "code",
   "execution_count": 101,
   "id": "591635d4-cdb9-4f7d-b8c3-a0cde577ba3a",
   "metadata": {
    "tags": []
   },
   "outputs": [],
   "source": [
    "region = 'China'\n",
    "figure_size=(16, 12)\n",
    "# ver_lines=[1968, 1983, 1988, 1993, 2003, 2013]\n",
    "chart_params=ChartParams(legend_loc_1='upper left', ylim_1=(32, 81.5), ylim_2=(2.5, 6.5),)\n",
    "create_chart(df_total.loc[region], df_male.loc[region], df_female.loc[region],\n",
    "             title_en='in China', title_ru='в Китае',\n",
    "              figure_size=figure_size, chart_params=chart_params, lang=LANG, destination=DESTINATION_OUTPUT, file_name_partial=region)"
   ]
  },
  {
   "cell_type": "code",
   "execution_count": 102,
   "id": "110ed94d-2a01-4679-a735-711506a937b0",
   "metadata": {},
   "outputs": [],
   "source": [
    "region = 'Mongolia'\n",
    "figure_size=(16, 11)\n",
    "chart_params=ChartParams(legend_loc_1='upper left', ylim_1=(43, 77.5), ylim_2=(3.5, 10))\n",
    "create_chart(df_total.loc[region], df_male.loc[region], df_female.loc[region], figure_size=figure_size, \n",
    "             title_en='in Mongolia', title_ru='в Монголии', chart_params=chart_params, lang=LANG, destination=DESTINATION_OUTPUT, file_name_partial=region)"
   ]
  },
  {
   "cell_type": "code",
   "execution_count": 103,
   "id": "7dff476b-482d-4c72-8002-845d10f723d1",
   "metadata": {},
   "outputs": [],
   "source": [
    "region = 'North Korea'\n",
    "chart_params=ChartParams(legend_loc_1='upper left', ylim_1=(52, 76.667), ylim_2=(3.5, 10.5),)\n",
    "create_chart(df_total.loc[region], df_male.loc[region], df_female.loc[region],\n",
    "             title_en='in North Korea', title_ru='в Северной Корее', chart_params=chart_params, lang=LANG, destination=DESTINATION_OUTPUT, file_name_partial=region)"
   ]
  },
  {
   "cell_type": "code",
   "execution_count": 104,
   "id": "01755489-cfbd-4ac3-9124-a38693ae2439",
   "metadata": {},
   "outputs": [],
   "source": [
    "region = 'South Korea'\n",
    "figure_size=(16, 12)\n",
    "ver_lines=[1961, 1963, 1972, 1979, 1981, 1987, 2019]\n",
    "chart_params=ChartParams(legend_loc_1='upper left', ylim_1=(52, 87), ylim_2=(4.5, 9))\n",
    "create_chart(df_total.loc[region], df_male.loc[region], df_female.loc[region], figure_size=figure_size,\n",
    "             title_en='in South Korea', title_ru='в Южной Корее', ver_lines=ver_lines,\n",
    "             chart_params=chart_params, lang=LANG, destination=DESTINATION_OUTPUT, file_name_partial=region)"
   ]
  },
  {
   "cell_type": "code",
   "execution_count": 105,
   "id": "4ac77ecb-23b0-46a8-aee0-9986aafc9d0b",
   "metadata": {},
   "outputs": [],
   "source": [
    "region = 'Japan'\n",
    "figure_size=(16, 11)\n",
    "ver_lines=[2011, 2019]\n",
    "chart_params=ChartParams(legend_loc_1='upper left', ylim_1=(65.333, 88), ylim_2=(3.333, 7.333))\n",
    "create_chart(df_total.loc[region], df_male.loc[region], df_female.loc[region], figure_size=figure_size,\n",
    "             title_en='in Japan', title_ru='в Японии', ver_lines=ver_lines,\n",
    "             chart_params=chart_params, lang=LANG, destination=DESTINATION_OUTPUT, file_name_partial=region)"
   ]
  },
  {
   "cell_type": "code",
   "execution_count": 106,
   "id": "669ee9fd-91ed-4d74-aedb-f0c26c639d25",
   "metadata": {},
   "outputs": [],
   "source": [
    "region = 'Australia'\n",
    "chart_params=ChartParams(legend_loc_1='upper left', ylim_1=(67.333, 85.667), ylim_2=(3.667, 7.333))\n",
    "create_chart(df_total.loc[region], df_male.loc[region], df_female.loc[region],\n",
    "             title_en='in Australia', title_ru='в Австралии', chart_params=chart_params, lang=LANG, destination=DESTINATION_OUTPUT, file_name_partial=region)"
   ]
  },
  {
   "cell_type": "code",
   "execution_count": 107,
   "id": "518e8f23-7339-47fa-a7a1-7485892c2e7b",
   "metadata": {},
   "outputs": [],
   "source": [
    "# region = 'Nauru'  - No data for Nauru in the database"
   ]
  },
  {
   "cell_type": "code",
   "execution_count": 108,
   "id": "1d990e7f-e03e-4de8-85ac-0ad6344009da",
   "metadata": {},
   "outputs": [],
   "source": [
    "region = 'New Zealand'\n",
    "chart_params=ChartParams(legend_loc_1='upper left',)\n",
    "create_chart(df_total.loc[region], df_male.loc[region], df_female.loc[region],\n",
    "             title_en='in New Zealand', title_ru='в Новой Зеландии', chart_params=chart_params, lang=LANG, destination=DESTINATION_OUTPUT, file_name_partial=region)"
   ]
  },
  {
   "cell_type": "markdown",
   "id": "1d62db28-2afa-4381-9d9c-ec1f5a1bfec0",
   "metadata": {},
   "source": [
    "<br />\n",
    "\n",
    "[Израиль](https://ru.wikipedia.org/wiki/Израиль) / [Israel](https://en.wikipedia.org/wiki/Israel)"
   ]
  },
  {
   "cell_type": "code",
   "execution_count": 109,
   "id": "3a799e13-a9ed-48fc-807a-ba2203f5976c",
   "metadata": {},
   "outputs": [],
   "source": [
    "region = 'Israel'\n",
    "figure_size=(16, 9)\n",
    "ver_lines = [2019]\n",
    "chart_params=ChartParams(legend_loc_1='upper left', ylim_1=(69, 85.25), ylim_2=(1, 4.667))\n",
    "create_chart(df_total.loc[region].loc[1961:], df_male.loc[region].loc[1961:], df_female.loc[region].loc[1961:], figure_size=figure_size,\n",
    "             title_en='in Israel', title_ru='в Израиле', ver_lines=ver_lines, chart_params=chart_params, lang=LANG, destination=DESTINATION_OUTPUT, file_name_partial=region)"
   ]
  },
  {
   "cell_type": "code",
   "execution_count": 110,
   "id": "74719b93-cf71-4986-9b17-dbb258c3d78d",
   "metadata": {},
   "outputs": [],
   "source": [
    "region = 'West Bank and Gaza'\n",
    "figure_size=(14, 7.5)\n",
    "ver_lines=[2019]\n",
    "chart_params=ChartParams(legend_loc_1='upper left', ylim_1=(66.25, 77.667))\n",
    "create_chart(df_total.loc[region].loc[1990:], df_male.loc[region].loc[1990:], df_female.loc[region].loc[1990:], figure_size=figure_size, ver_lines=ver_lines,\n",
    "             title_en='in the West Bank and the Gaza Strip', title_ru='на Западном берегу реки Иордан и в Секторе Газа', chart_params=chart_params,\n",
    "             lang=LANG, destination=DESTINATION_OUTPUT, file_name_partial=region)"
   ]
  },
  {
   "cell_type": "code",
   "execution_count": 111,
   "id": "b9dfec65-e39f-4197-b946-4a996ad6288c",
   "metadata": {},
   "outputs": [],
   "source": [
    "region = 'Lebanon'\n",
    "figure_size=(16, 12)\n",
    "ver_lines=[1975, 1976, 1982, 2019]\n",
    "chart_params=ChartParams(legend_loc_1='upper left', ylim_1=(28, 82), empty_labels_1_up=1, ylim_2=(2, 17))\n",
    "create_chart(df_total.loc[region], df_male.loc[region], df_female.loc[region],\n",
    "             title_en='in Lebanon', title_ru='в Ливане',\n",
    "             figure_size=figure_size, ver_lines=ver_lines, chart_params=chart_params, lang=LANG, destination=DESTINATION_OUTPUT, file_name_partial=region)"
   ]
  },
  {
   "cell_type": "code",
   "execution_count": 112,
   "id": "289c7d31-24db-44b1-bd81-bc35e0d2ca59",
   "metadata": {},
   "outputs": [],
   "source": [
    "region = 'United Arab Emirates'\n",
    "figure_size=(16, 12)\n",
    "ver_lines_strong = [1971]\n",
    "ver_lines=[2019]\n",
    "chart_params=ChartParams(legend_loc_1='upper left', ylim_1=(46.5, 82.5), ylim_2=(3, 5.5),)\n",
    "create_chart(df_total.loc[region], df_male.loc[region], df_female.loc[region], figure_size=figure_size, ver_lines=ver_lines, ver_lines_strong=ver_lines_strong, \n",
    "             title_en='in the United Arab Emirates', title_ru='в Объединённых Арабских Эмиратах',\n",
    "             chart_params=chart_params, lang=LANG, destination=DESTINATION_OUTPUT, file_name_partial=region)"
   ]
  },
  {
   "cell_type": "code",
   "execution_count": 113,
   "id": "7bda0f7c-1e02-4f35-a120-6ec0ff9ca785",
   "metadata": {},
   "outputs": [],
   "source": [
    "region = 'Saudi Arabia'\n",
    "figure_size=(16, 12)\n",
    "ver_lines=[2019]\n",
    "chart_params=ChartParams(legend_loc_1='upper left', ylim_1=(44.5, 79.5),)\n",
    "create_chart(df_total.loc[region], df_male.loc[region], df_female.loc[region], figure_size=figure_size, ver_lines=ver_lines,\n",
    "             title_en='in Saudi Arabia', title_ru='в Саудовской Аравии', chart_params=chart_params, lang=LANG, destination=DESTINATION_OUTPUT, file_name_partial=region)"
   ]
  },
  {
   "cell_type": "code",
   "execution_count": 114,
   "id": "ae2783fe-64ce-46a4-8161-2dae5f53d0f9",
   "metadata": {},
   "outputs": [],
   "source": [
    "region = 'Jordan'\n",
    "ver_lines=[2019]\n",
    "chart_params=ChartParams(legend_loc_1='upper left', ylim_1=(52.25, 79), ylim_2=(0.75, 5))\n",
    "create_chart(df_total.loc[region], df_male.loc[region], df_female.loc[region], ver_lines=ver_lines,\n",
    "             title_en='in Jordan', title_ru='в Иордании', chart_params=chart_params, lang=LANG, destination=DESTINATION_OUTPUT, file_name_partial=region)"
   ]
  },
  {
   "cell_type": "markdown",
   "id": "856467f9-f8e2-4fa9-9f61-5b97d48a3367",
   "metadata": {},
   "source": [
    "<br />\n",
    "\n",
    "[Сирия](https://ru.wikipedia.org/wiki/Сирия) / [Syria](https://en.wikipedia.org/wiki/Syria)"
   ]
  },
  {
   "cell_type": "code",
   "execution_count": 115,
   "id": "d38aa687-4dbf-41b7-8cd2-ddf8e617636d",
   "metadata": {},
   "outputs": [],
   "source": [
    "region = 'Syria'\n",
    "ver_lines=[2011]\n",
    "figure_size=(16, 12)\n",
    "chart_params=ChartParams(legend_loc_1='upper left', ylim_1=(52.75, 77.5), ylim_2=(1, 12),)\n",
    "create_chart(df_total.loc[region], df_male.loc[region], df_female.loc[region], figure_size=figure_size,\n",
    "             title_en='in Syria', title_ru='в Сирии', ver_lines=ver_lines, chart_params=chart_params, lang=LANG, destination=DESTINATION_OUTPUT, file_name_partial=region)"
   ]
  },
  {
   "cell_type": "markdown",
   "id": "abb59e2c-f57b-4478-b07f-40f8a92b1a67",
   "metadata": {},
   "source": [
    "<br />\n",
    "\n",
    "[Ирак](https://ru.wikipedia.org/wiki/Ирак) / [Iraq](https://en.wikipedia.org/wiki/Iraq)"
   ]
  },
  {
   "cell_type": "code",
   "execution_count": 116,
   "id": "bd2d17c2-7097-4a2f-8e86-c0343179a31b",
   "metadata": {},
   "outputs": [],
   "source": [
    "region = 'Iraq'\n",
    "figure_size=(16, 12)\n",
    "ver_lines_strong=[]\n",
    "ver_lines=[1963, 1979, 1980, 1988, 1990, 1991, 1998, 2003, 2011, 2017, 2019]\n",
    "\n",
    "chart_params=ChartParams(legend_loc_1='upper left', ylim_1=(49.5, 74))\n",
    "create_chart(df_total.loc[region], df_male.loc[region], df_female.loc[region], figure_size=figure_size,\n",
    "             title_en='in Iraq', title_ru='в Ираке', ver_lines=ver_lines, ver_lines_strong=ver_lines_strong,\n",
    "             chart_params=chart_params, lang=LANG, destination=DESTINATION_OUTPUT, file_name_partial=region)"
   ]
  },
  {
   "cell_type": "markdown",
   "id": "abc64a8b-5e8d-4995-a591-b71199511de6",
   "metadata": {},
   "source": [
    "<br />\n",
    "\n",
    "[Кувейт](https://ru.wikipedia.org/wiki/Кувейт) / [Kuwait](https://en.wikipedia.org/wiki/Kuwait)"
   ]
  },
  {
   "cell_type": "code",
   "execution_count": 117,
   "id": "b9e66e0d-316c-4dba-8655-04a12e5dd5c9",
   "metadata": {},
   "outputs": [],
   "source": [
    "region = 'Kuwait'\n",
    "figure_size=(16, 11)\n",
    "ver_lines_strong=[1961]\n",
    "ver_lines=[1990, 1991, 2019]\n",
    "chart_params=ChartParams(legend_loc_1='upper left', ylim_1=(55.5, 83), empty_labels_1_up=1,)\n",
    "create_chart(df_total.loc[region], df_male.loc[region], df_female.loc[region],\n",
    "             title_en='in Kuwait', title_ru='в Кувейте',\n",
    "             figure_size=figure_size, ver_lines_strong=ver_lines_strong, ver_lines=ver_lines, chart_params=chart_params,\n",
    "             lang=LANG, destination=DESTINATION_OUTPUT, file_name_partial=region)"
   ]
  },
  {
   "cell_type": "code",
   "execution_count": 118,
   "id": "2157d8a5-656b-4c58-bfa8-06a8cedfb362",
   "metadata": {},
   "outputs": [],
   "source": [
    "region = 'Qatar'\n",
    "figure_size=(16, 12)\n",
    "ver_lines=[2019]\n",
    "chart_params=ChartParams(legend_loc_1='upper left', ylim_1=(57.333, 83.333), ylim_2=(1.333, 4.333),)\n",
    "create_chart(df_total.loc[region], df_male.loc[region], df_female.loc[region], ver_lines=ver_lines,\n",
    "             title_en='in Qatar', title_ru='в Катаре', chart_params=chart_params, lang=LANG, destination=DESTINATION_OUTPUT, file_name_partial=region) \n",
    "\n",
    "# figure_size=(16, 12) , figure_size=figure_size\n",
    "# , ylim_1=(, ), ylim_2=(, ), empty_labels_1_down=1, empty_labels_1_up=1"
   ]
  },
  {
   "cell_type": "code",
   "execution_count": 119,
   "id": "33a30575-9ee2-4687-8b92-ab7f23985218",
   "metadata": {},
   "outputs": [],
   "source": [
    "region = 'Oman'\n",
    "figure_size=(16, 12)\n",
    "ver_lines=[2019]\n",
    "chart_params=ChartParams(legend_loc_1='upper left', ylim_1=(33.667, 80.667), ylim_2=(2.667, 5.667),)\n",
    "create_chart(df_total.loc[region], df_male.loc[region], df_female.loc[region],\n",
    "             title_en='in Oman', title_ru='в Омане',\n",
    "             figure_size=figure_size, ver_lines=ver_lines, chart_params=chart_params,\n",
    "             lang=LANG, destination=DESTINATION_OUTPUT, file_name_partial=region) "
   ]
  },
  {
   "cell_type": "markdown",
   "id": "7352bec1-01d6-4eb5-866e-858130a570ea",
   "metadata": {},
   "source": [
    "<br />\n",
    "<br />\n",
    "<br />\n",
    "\n",
    "---"
   ]
  },
  {
   "cell_type": "code",
   "execution_count": 120,
   "id": "7b1536a9-32a1-459d-aee1-8e66177e7e34",
   "metadata": {},
   "outputs": [],
   "source": [
    "region = 'Egypt'\n",
    "figure_size=(16, 11)\n",
    "ver_lines=[2019]\n",
    "chart_params=ChartParams(legend_loc_1='upper left', ylim_1=(43.5, 74.5))\n",
    "create_chart(df_total.loc[region], df_male.loc[region], df_female.loc[region],\n",
    "             title_en='in Egypt', title_ru='в Египте', chart_params=chart_params,\n",
    "             figure_size=figure_size, ver_lines=ver_lines,\n",
    "             lang=LANG, destination=DESTINATION_OUTPUT, file_name_partial=region)"
   ]
  },
  {
   "cell_type": "code",
   "execution_count": 121,
   "id": "c93b41d1-542b-41ac-98f4-71f7fb5ecace",
   "metadata": {},
   "outputs": [],
   "source": [
    "region = 'Seychelles'\n",
    "figure_size=(13, 9)\n",
    "chart_params=ChartParams(legend_loc_1='upper left',)\n",
    "create_chart(df_total.loc[region].loc[1980:], df_male.loc[region].loc[1980:], df_female.loc[region].loc[1980:], figure_size=figure_size,\n",
    "             title_en='in Seychelles', title_ru='на Сейшельских Островах', chart_params=chart_params, lang=LANG, destination=DESTINATION_OUTPUT, file_name_partial=region)"
   ]
  },
  {
   "cell_type": "code",
   "execution_count": 122,
   "id": "cb0197ac-090d-420c-9930-795a39a5b6ea",
   "metadata": {},
   "outputs": [],
   "source": [
    "region = 'Algeria'\n",
    "figure_size=(16, 12)\n",
    "ver_lines=[2019]\n",
    "chart_params=ChartParams(legend_loc_1='upper left', ylim_1=(36.5, 78.5), ylim_2=(0.5, 6.5))\n",
    "create_chart(df_total.loc[region], df_male.loc[region], df_female.loc[region],\n",
    "             title_en='in Algeria', title_ru='в Алжире',\n",
    "             figure_size=figure_size, ver_lines=ver_lines, chart_params=chart_params,\n",
    "             lang=LANG, destination=DESTINATION_OUTPUT, file_name_partial=region)"
   ]
  },
  {
   "cell_type": "code",
   "execution_count": 123,
   "id": "aeb0d809-a385-421f-8c0c-d2f1ab739f97",
   "metadata": {},
   "outputs": [],
   "source": [
    "region = 'Morocco'\n",
    "figure_size=(16, 12)\n",
    "ver_lines=[2019]\n",
    "chart_params=ChartParams(legend_loc_1='upper left', ylim_1=(41.25, 77), empty_labels_1_up=1,)\n",
    "create_chart(df_total.loc[region], df_male.loc[region], df_female.loc[region], figure_size=figure_size, ver_lines=ver_lines,\n",
    "             title_en='in Morocco', title_ru='в Марокко', chart_params=chart_params, lang=LANG, destination=DESTINATION_OUTPUT, file_name_partial=region)"
   ]
  },
  {
   "cell_type": "code",
   "execution_count": 124,
   "id": "72c619d5-cf41-447a-9725-480f8b710079",
   "metadata": {},
   "outputs": [],
   "source": [
    "region = 'Tunisia'\n",
    "figure_size=(16, 12)\n",
    "ver_lines=[2019]\n",
    "chart_params=ChartParams(legend_loc_1='upper left', ylim_1=(42.5, 80), empty_labels_1_up=1, ylim_2=(1.75, 7.5),)\n",
    "create_chart(df_total.loc[region], df_male.loc[region], df_female.loc[region],\n",
    "             title_en='in Tunisia', title_ru='в Тунисе',\n",
    "             figure_size=figure_size, ver_lines=ver_lines, chart_params=chart_params, lang=LANG, destination=DESTINATION_OUTPUT, file_name_partial=region)"
   ]
  },
  {
   "cell_type": "code",
   "execution_count": 125,
   "id": "89d879d5-e30a-457b-91cc-cbf2046d16c7",
   "metadata": {},
   "outputs": [],
   "source": [
    "region = 'Libya'\n",
    "figure_size=(16, 12)\n",
    "ver_lines=[1969, 2011, 2019]\n",
    "chart_params=ChartParams(legend_loc_1='upper left', ylim_1=(39, 76.5), ylim_2=(2, 7.5))\n",
    "create_chart(df_total.loc[region], df_male.loc[region], df_female.loc[region],\n",
    "             title_en='in Libya', title_ru='в Ливии',\n",
    "             figure_size=figure_size, ver_lines=ver_lines, chart_params=chart_params,\n",
    "             lang=LANG, destination=DESTINATION_OUTPUT, file_name_partial=region)"
   ]
  },
  {
   "cell_type": "code",
   "execution_count": 126,
   "id": "b2c66bb5-9877-40b9-8d41-d6a7f5cc5faf",
   "metadata": {},
   "outputs": [],
   "source": [
    "region = 'South Africa'\n",
    "ver_lines=[2019]\n",
    "chart_params=ChartParams(legend_loc_1='upper left', ylim_1=(50.75, 69.75))\n",
    "create_chart(df_total.loc[region], df_male.loc[region], df_female.loc[region],\n",
    "             title_en='in South Africa', title_ru='в Южно-Африканской Республике',\n",
    "             ver_lines=ver_lines, chart_params=chart_params, lang=LANG, destination=DESTINATION_OUTPUT, file_name_partial=region)"
   ]
  },
  {
   "cell_type": "code",
   "execution_count": 127,
   "id": "32b93893-65c4-48c8-946a-a79a1b1fbfb6",
   "metadata": {},
   "outputs": [],
   "source": [
    "region = 'Nigeria'\n",
    "ver_lines=[2019]\n",
    "chart_params=ChartParams(legend_loc_1='upper left', ylim_1=(35.5, 53.5))\n",
    "create_chart(df_total.loc[region], df_male.loc[region], df_female.loc[region],\n",
    "             title_en='in Nigeria', title_ru='в Нигерии',\n",
    "             ver_lines=ver_lines, chart_params=chart_params, lang=LANG, destination=DESTINATION_OUTPUT, file_name_partial=region)"
   ]
  },
  {
   "cell_type": "code",
   "execution_count": 128,
   "id": "a205d055-a46e-4189-a48e-2cb5e8000311",
   "metadata": {},
   "outputs": [],
   "source": [
    "region = 'Ethiopia'\n",
    "figure_size=(16, 12)\n",
    "ver_lines=[2019]\n",
    "chart_params=ChartParams(legend_loc_1='upper left', ylim_1=(34, 69.5), ylim_2=(1, 6.5))\n",
    "create_chart(df_total.loc[region], df_male.loc[region], df_female.loc[region],\n",
    "             title_en='in Ethiopia', title_ru='в Эфиопии',\n",
    "             figure_size=figure_size, ver_lines=ver_lines, chart_params=chart_params, lang=LANG, destination=DESTINATION_OUTPUT, file_name_partial=region) "
   ]
  },
  {
   "cell_type": "code",
   "execution_count": 129,
   "id": "5b2f07a5-c162-47bc-84f0-4b0be7d152ca",
   "metadata": {},
   "outputs": [],
   "source": [
    "region = 'Kenya'\n",
    "ver_lines=[2019]\n",
    "chart_params=ChartParams(legend_loc_1='upper left', ylim_1=(47, 65.667), ylim_2=(2, 5.333))\n",
    "create_chart(df_total.loc[region], df_male.loc[region], df_female.loc[region],\n",
    "             title_en='in Kenya', title_ru='в Кении',\n",
    "             ver_lines=ver_lines, chart_params=chart_params,\n",
    "             lang=LANG, destination=DESTINATION_OUTPUT, file_name_partial=region)"
   ]
  },
  {
   "cell_type": "code",
   "execution_count": 130,
   "id": "8d156184-0cdf-4753-8494-bcb5a9d9104f",
   "metadata": {},
   "outputs": [],
   "source": [
    "region = 'Tanzania'\n",
    "figure_size=(16, 11)\n",
    "ver_lines=[2019]\n",
    "chart_params=ChartParams(legend_loc_1='upper left', ylim_1=(41.667, 69.667), ylim_2=(1.75, 5.25))\n",
    "create_chart(df_total.loc[region], df_male.loc[region], df_female.loc[region],\n",
    "             title_en='in Tanzania', title_ru='в Танзании',\n",
    "             figure_size=figure_size, ver_lines=ver_lines, chart_params=chart_params,\n",
    "             lang=LANG, destination=DESTINATION_OUTPUT, file_name_partial=region)"
   ]
  },
  {
   "cell_type": "code",
   "execution_count": 131,
   "id": "17cfd23a-b24c-4610-9532-632a9ccb1d6b",
   "metadata": {},
   "outputs": [],
   "source": [
    "region = 'Congo, DR'\n",
    "figure_size=(16, 11)\n",
    "ver_lines=[2019]\n",
    "chart_params=ChartParams(legend_loc_1='upper left', ylim_1=(38, 62.5), ylim_2=(1.333, 7))\n",
    "create_chart(df_total.loc[region], df_male.loc[region], df_female.loc[region],\n",
    "             title_en='in the Democratic Republic of the Congo', title_ru='в Демократической Республике Конго',\n",
    "             figure_size=figure_size, ver_lines=ver_lines, chart_params=chart_params,\n",
    "             lang=LANG, destination=DESTINATION_OUTPUT, file_name_partial=region)"
   ]
  },
  {
   "cell_type": "code",
   "execution_count": 132,
   "id": "40e61b80-30be-4d40-97be-576da439787e",
   "metadata": {},
   "outputs": [],
   "source": [
    "region = 'Somalia'\n",
    "figure_size=(16, 12)\n",
    "ver_lines=[2019]\n",
    "chart_params=ChartParams(legend_loc_1='upper left', ylim_1=(25, 59.5), ylim_2=(2, 9), empty_labels_1_up=0)\n",
    "create_chart(df_total.loc[region], df_male.loc[region], df_female.loc[region],\n",
    "             title_en='in Somalia', title_ru='в Сомали',\n",
    "             figure_size=figure_size, ver_lines=ver_lines, chart_params=chart_params,\n",
    "             lang=LANG, destination=DESTINATION_OUTPUT, file_name_partial=region) "
   ]
  },
  {
   "cell_type": "code",
   "execution_count": 133,
   "id": "5af40ae3-92ad-4166-b84a-16fd7922754b",
   "metadata": {},
   "outputs": [],
   "source": [
    "region = 'Zimbabwe'\n",
    "figure_size=(16, 11)\n",
    "ver_lines=[2019]\n",
    "chart_params=ChartParams(ylim_1=(41.5, 65.5), ylim_2=(1, 10))\n",
    "create_chart(df_total.loc[region], df_male.loc[region], df_female.loc[region], figure_size=figure_size, ver_lines=ver_lines,\n",
    "             title_en='in Zimbabwe', title_ru='в Зимбабве', chart_params=chart_params, lang=LANG, destination=DESTINATION_OUTPUT, file_name_partial=region)"
   ]
  },
  {
   "cell_type": "code",
   "execution_count": 134,
   "id": "6c22f884-93d3-4d57-86a6-5b9b6946478d",
   "metadata": {},
   "outputs": [],
   "source": [
    "region = 'Uganda'\n",
    "figure_size=(16, 11)\n",
    "ver_lines=[2019]\n",
    "chart_params=ChartParams(ylim_1=(38.5, 65.5))\n",
    "create_chart(df_total.loc[region], df_male.loc[region], df_female.loc[region], figure_size=figure_size, ver_lines=ver_lines,\n",
    "             title_en='in Uganda', title_ru='в Уганде', chart_params=chart_params, lang=LANG, destination=DESTINATION_OUTPUT, file_name_partial=region)"
   ]
  },
  {
   "cell_type": "code",
   "execution_count": 135,
   "id": "371675b9-caf2-4fb2-9e23-4b0d7a6a9967",
   "metadata": {},
   "outputs": [],
   "source": [
    "region = 'Botswana'\n",
    "figure_size=(16, 10)\n",
    "ver_lines=[2019]\n",
    "chart_params=ChartParams(ylim_1=(47.75, 70), empty_labels_1_up=1)\n",
    "create_chart(df_total.loc[region], df_male.loc[region], df_female.loc[region], figure_size=figure_size, ver_lines=ver_lines,\n",
    "             title_en='in Botswana', title_ru='в Ботсване', chart_params=chart_params, lang=LANG, destination=DESTINATION_OUTPUT, file_name_partial=region)"
   ]
  },
  {
   "cell_type": "code",
   "execution_count": 136,
   "id": "eebb7dab-0f4e-4c01-8ad4-66050572941a",
   "metadata": {},
   "outputs": [],
   "source": [
    "region = 'Angola'\n",
    "figure_size=(16, 12)\n",
    "ver_lines=[2019]\n",
    "chart_params=ChartParams(ylim_1=(34.5, 65.5))\n",
    "create_chart(df_total.loc[region], df_male.loc[region], df_female.loc[region], figure_size=figure_size, ver_lines=ver_lines,\n",
    "             title_en='in Angola', title_ru='в Анголе', chart_params=chart_params, lang=LANG, destination=DESTINATION_OUTPUT, file_name_partial=region)"
   ]
  },
  {
   "cell_type": "code",
   "execution_count": 137,
   "id": "a2711164-deee-4e7e-a0ce-00e5ca33bc22",
   "metadata": {},
   "outputs": [],
   "source": [
    "region = 'Niger'\n",
    "figure_size=(16, 12)\n",
    "ver_lines=[2019]\n",
    "chart_params=ChartParams(ylim_1=(34.667, 64.333), ylim_2=(-0.333, 2.333))   # , ylim_1=(, ), ylim_2=(, )\n",
    "create_chart(df_total.loc[region], df_male.loc[region], df_female.loc[region], figure_size=figure_size, ver_lines=ver_lines,\n",
    "             title_en='in Niger', title_ru='в Нигере', chart_params=chart_params, lang=LANG, destination=DESTINATION_OUTPUT, file_name_partial=region)"
   ]
  },
  {
   "cell_type": "code",
   "execution_count": 138,
   "id": "ba5d967f-9a5f-43b5-9aaf-6aad6acef60c",
   "metadata": {},
   "outputs": [],
   "source": [
    "region = 'Mali'\n",
    "figure_size=(16, 12)\n",
    "ver_lines=[2019]\n",
    "chart_params=ChartParams(ylim_1=(29, 61.5))   # , ylim_1=(, ), ylim_2=(, )\n",
    "create_chart(df_total.loc[region], df_male.loc[region], df_female.loc[region], figure_size=figure_size, ver_lines=ver_lines,\n",
    "             title_en='in Mali', title_ru='в Мали', chart_params=chart_params, lang=LANG, destination=DESTINATION_OUTPUT, file_name_partial=region)"
   ]
  },
  {
   "cell_type": "markdown",
   "id": "78fb14f2-ff45-4908-8f45-683334e52707",
   "metadata": {},
   "source": [
    "<br />\n",
    "<br />\n",
    "<br />\n",
    "\n",
    "---\n",
    "### North America"
   ]
  },
  {
   "cell_type": "code",
   "execution_count": 139,
   "id": "848b8683-7706-4362-a444-cb085d2fe968",
   "metadata": {},
   "outputs": [],
   "source": [
    "region = 'USA'\n",
    "ver_lines=[1965, 1973, 2001, 2005, 2019]\n",
    "# ver_lines=[1962, 1965, 1973, 1991, 1999, 2001, 2003, 2005, 2011, 2014, 2019]\n",
    "chart_params=ChartParams(legend_loc_1='upper left', ylim_1=(66, 82), empty_labels_1_up=1, ylim_2=(4.5, 8.5))\n",
    "create_chart(df_total.loc[region], df_male.loc[region], df_female.loc[region], \n",
    "             title_en='in the USA', title_ru='в США',\n",
    "             ver_lines=ver_lines, chart_params=chart_params,\n",
    "             lang=LANG, destination=DESTINATION_OUTPUT, file_name_partial=region)"
   ]
  },
  {
   "cell_type": "code",
   "execution_count": 140,
   "id": "4894688d-2334-4230-bca7-dba1d99acfdc",
   "metadata": {},
   "outputs": [],
   "source": [
    "region = 'Canada'\n",
    "ver_lines=[2019]\n",
    "chart_params=ChartParams(legend_loc_1='upper left', ylim_1=(68, 85), ylim_2=(3.667, 7.667), empty_labels_1_up=0)\n",
    "create_chart(df_total.loc[region], df_male.loc[region], df_female.loc[region],\n",
    "             title_en='in Canada', title_ru='в Канаде',\n",
    "             ver_lines=ver_lines, chart_params=chart_params,\n",
    "             lang=LANG, destination=DESTINATION_OUTPUT, file_name_partial=region)"
   ]
  },
  {
   "cell_type": "code",
   "execution_count": 141,
   "id": "bcc7c6de-6f30-4055-940d-6468d386874f",
   "metadata": {},
   "outputs": [],
   "source": [
    "region = 'Mexico'\n",
    "figure_size=(16, 11)\n",
    "ver_lines=[2019]\n",
    "chart_params=ChartParams(legend_loc_1='upper left', ylim_1=(53, 78.5))\n",
    "create_chart(df_total.loc[region], df_male.loc[region], df_female.loc[region],\n",
    "             title_en='in Mexico', title_ru='в Мексике',\n",
    "             figure_size=figure_size, ver_lines=ver_lines, chart_params=chart_params,\n",
    "             lang=LANG, destination=DESTINATION_OUTPUT, file_name_partial=region)"
   ]
  },
  {
   "cell_type": "markdown",
   "id": "34cc45ba-6718-4003-9941-bf909e87ef66",
   "metadata": {},
   "source": [
    "<br />\n",
    "\n",
    "[Куба](https://ru.wikipedia.org/wiki/Куба) / [Cuba](https://en.wikipedia.org/wiki/Cuba)"
   ]
  },
  {
   "cell_type": "code",
   "execution_count": 142,
   "id": "ff7c0727-dcd7-4edb-addf-6e6c5454cd8f",
   "metadata": {},
   "outputs": [],
   "source": [
    "region = 'Cuba'\n",
    "ver_lines = [1962, 2008, 2019]\n",
    "chart_params=ChartParams(legend_loc_1='upper left', ylim_1=(62.5, 81), empty_labels_1_up=1, ylim_2=(3, 5.25))\n",
    "create_chart(df_total.loc[region], df_male.loc[region], df_female.loc[region],\n",
    "             title_en='in Cuba', title_ru='на Кубе', ver_lines=ver_lines, chart_params=chart_params, lang=LANG, destination=DESTINATION_OUTPUT, file_name_partial=region)"
   ]
  },
  {
   "cell_type": "code",
   "execution_count": 143,
   "id": "7db8a541-5403-432a-bf65-6b0afc222496",
   "metadata": {},
   "outputs": [],
   "source": [
    "region = 'Haiti'\n",
    "figure_size=(16, 11)\n",
    "ver_lines=[2010, 2019]\n",
    "chart_params=ChartParams(legend_loc_1='upper left', ylim_1=(41, 68), ylim_2=(0.5, 6.5), empty_labels_1_up=1)\n",
    "create_chart(df_total.loc[region], df_male.loc[region], df_female.loc[region],\n",
    "             title_en='in the Republic of Haiti', title_ru='в Республике Гаити',\n",
    "             figure_size=figure_size, ver_lines=ver_lines, chart_params=chart_params,\n",
    "             lang=LANG, destination=DESTINATION_OUTPUT, file_name_partial=region)"
   ]
  },
  {
   "cell_type": "code",
   "execution_count": 144,
   "id": "f148022a-5948-454d-a8ed-714a58369157",
   "metadata": {},
   "outputs": [],
   "source": [
    "region = 'Dominican Republic'\n",
    "figure_size=(16, 11)\n",
    "ver_lines=[2019]\n",
    "chart_params=ChartParams(legend_loc_1='upper left', ylim_1=(47, 77.5), ylim_2=(3.75, 8.25))\n",
    "create_chart(df_total.loc[region], df_male.loc[region], df_female.loc[region], figure_size=figure_size, ver_lines=ver_lines,\n",
    "             title_en='in the Dominican Republic', title_ru='в Доминиканской Республике',\n",
    "             chart_params=chart_params, lang=LANG, destination=DESTINATION_OUTPUT, file_name_partial=region)"
   ]
  },
  {
   "cell_type": "code",
   "execution_count": 145,
   "id": "3bbb83df-2f2c-4012-bba2-2e3dc304d19a",
   "metadata": {},
   "outputs": [],
   "source": [
    "region = 'Bermuda'\n",
    "figure_size=(12, 9)\n",
    "chart_params=ChartParams(legend_loc_1='upper left', ylim_1=(73.667, 86.25))\n",
    "create_chart(df_total.loc[region].loc[2000:], df_male.loc[region].loc[2000:], df_female.loc[region].loc[2000:],\n",
    "             title_en='in Bermuda', title_ru='на Бермудских Островах',\n",
    "             figure_size=figure_size, chart_params=chart_params,\n",
    "             lang=LANG, destination=DESTINATION_OUTPUT, file_name_partial=region)"
   ]
  },
  {
   "cell_type": "code",
   "execution_count": 146,
   "id": "c177ccef-96e6-443e-85fc-9f94b941cdd3",
   "metadata": {},
   "outputs": [],
   "source": [
    "region = 'Guatemala'\n",
    "figure_size=(16, 12)\n",
    "ver_lines=[1976, 1982, 2019]\n",
    "chart_params=ChartParams(legend_loc_1='upper left', ylim_1=(44.75, 76.5))\n",
    "create_chart(df_total.loc[region], df_male.loc[region], df_female.loc[region], figure_size=figure_size, ver_lines=ver_lines,\n",
    "             title_en='in Guatemala', title_ru='в Гватемале', chart_params=chart_params, lang=LANG, destination=DESTINATION_OUTPUT, file_name_partial=region)"
   ]
  },
  {
   "cell_type": "code",
   "execution_count": 147,
   "id": "d0f7ed7f-7f40-4b00-ae54-eb3c8bc5f882",
   "metadata": {},
   "outputs": [],
   "source": [
    "region = 'Costa Rica'\n",
    "ver_lines=[2019]\n",
    "chart_params=ChartParams(legend_loc_1='upper left', ylim_1=(58.75, 82.5), ylim_2=(3, 5.5), empty_labels_1_up=0)\n",
    "create_chart(df_total.loc[region], df_male.loc[region], df_female.loc[region], ver_lines=ver_lines,\n",
    "             title_en='in Costa Rica', title_ru='в Коста-Рике', chart_params=chart_params, lang=LANG, destination=DESTINATION_OUTPUT, file_name_partial=region)"
   ]
  },
  {
   "cell_type": "markdown",
   "id": "3055234d-66ac-4d57-a065-29bc14a19b2d",
   "metadata": {},
   "source": [
    "<br />\n",
    "<br />\n",
    "<br />\n",
    "\n",
    "---\n",
    "### South America"
   ]
  },
  {
   "cell_type": "code",
   "execution_count": 148,
   "id": "0e1f06a3-ba6d-4846-9eb6-48f60d19df44",
   "metadata": {},
   "outputs": [],
   "source": [
    "region = 'Chile'\n",
    "ver_lines=[2019]\n",
    "chart_params=ChartParams(legend_loc_1='upper left', ylim_1=(54.333, 83.333), ylim_2=(4, 7.667))\n",
    "create_chart(df_total.loc[region], df_male.loc[region], df_female.loc[region], ver_lines=ver_lines,\n",
    "             title_en='in Chile', title_ru='в Чили', chart_params=chart_params, lang=LANG, destination=DESTINATION_OUTPUT, file_name_partial=region)"
   ]
  },
  {
   "cell_type": "code",
   "execution_count": 149,
   "id": "9c4a5053-5890-4f0a-bbf8-9202ca6bab85",
   "metadata": {},
   "outputs": [],
   "source": [
    "region = 'Uruguay'\n",
    "chart_params=ChartParams(legend_loc_1='upper left', ylim_1=(64.75, 82.25),)\n",
    "create_chart(df_total.loc[region], df_male.loc[region], df_female.loc[region],\n",
    "             title_en='in Uruguay', title_ru='в Уругвае', chart_params=chart_params, lang=LANG, destination=DESTINATION_OUTPUT, file_name_partial=region)"
   ]
  },
  {
   "cell_type": "code",
   "execution_count": 150,
   "id": "242414d7-9fe4-4e38-b8c5-26b07fe98694",
   "metadata": {},
   "outputs": [],
   "source": [
    "region = 'Colombia'\n",
    "ver_lines=[2019]\n",
    "chart_params=ChartParams(legend_loc_1='upper left', ylim_1=(55, 80.25),)\n",
    "create_chart(df_total.loc[region], df_male.loc[region], df_female.loc[region], ver_lines=ver_lines,\n",
    "             title_en='in Colombia', title_ru='в Колумбии', chart_params=chart_params, lang=LANG, destination=DESTINATION_OUTPUT, file_name_partial=region)"
   ]
  },
  {
   "cell_type": "code",
   "execution_count": 151,
   "id": "6f08a2b3-43b3-4c59-be2a-82d652d7f1b2",
   "metadata": {},
   "outputs": [],
   "source": [
    "region = 'Ecuador'\n",
    "ver_lines=[2019]\n",
    "chart_params=ChartParams(legend_loc_1='upper left', ylim_1=(51.75, 80.5), ylim_2=(3, 7.5),)\n",
    "create_chart(df_total.loc[region], df_male.loc[region], df_female.loc[region], ver_lines=ver_lines,\n",
    "             title_en='in Ecuador', title_ru='в Эквадоре', chart_params=chart_params, lang=LANG, destination=DESTINATION_OUTPUT, file_name_partial=region)"
   ]
  },
  {
   "cell_type": "code",
   "execution_count": 152,
   "id": "f22f57c4-e4c2-4ae5-b1ed-6160953cad9c",
   "metadata": {},
   "outputs": [],
   "source": [
    "region = 'Peru'\n",
    "figure_size=(16, 11)\n",
    "ver_lines=[2019]\n",
    "chart_params=ChartParams(legend_loc_1='upper left', ylim_1=(46.75, 79), ylim_2=(0.5, 6.5), empty_labels_2_up=0)\n",
    "create_chart(df_total.loc[region], df_male.loc[region], df_female.loc[region],\n",
    "             title_en='in Peru', title_ru='в Перу',\n",
    "             figure_size=figure_size, ver_lines=ver_lines, chart_params=chart_params,\n",
    "             lang=LANG, destination=DESTINATION_OUTPUT, file_name_partial=region)"
   ]
  },
  {
   "cell_type": "code",
   "execution_count": 153,
   "id": "13fb2ced-1974-4a81-874b-1e9c876c182e",
   "metadata": {},
   "outputs": [],
   "source": [
    "region = 'Argentina'\n",
    "ver_lines=[2019]\n",
    "chart_params=ChartParams(legend_loc_1='upper left', ylim_1=(60.75, 81.25), ylim_2=(5.5, 8.5))\n",
    "create_chart(df_total.loc[region], df_male.loc[region], df_female.loc[region], ver_lines=ver_lines,\n",
    "             title_en='in Argentina', title_ru='в Аргентине', chart_params=chart_params, lang=LANG, destination=DESTINATION_OUTPUT, file_name_partial=region)"
   ]
  },
  {
   "cell_type": "code",
   "execution_count": 154,
   "id": "22d078c2-3cb8-43bc-8633-7fb374536ab7",
   "metadata": {},
   "outputs": [],
   "source": [
    "region = 'Brazil'\n",
    "ver_lines=[2019]\n",
    "chart_params=ChartParams(legend_loc_1='upper left', ylim_2=(4, 8), empty_labels_1_up=1,)\n",
    "create_chart(df_total.loc[region], df_male.loc[region], df_female.loc[region], ver_lines=ver_lines,\n",
    "             title_en='in Brazil', title_ru='в Бразилии', chart_params=chart_params, lang=LANG, destination=DESTINATION_OUTPUT, file_name_partial=region)"
   ]
  },
  {
   "cell_type": "code",
   "execution_count": 155,
   "id": "ae6c068e-b0c3-4311-9bb5-0c99ffe66227",
   "metadata": {},
   "outputs": [],
   "source": [
    "region = 'Venezuela'\n",
    "ver_lines=[2019]  # 1998, 2013, \n",
    "chart_params=ChartParams(legend_loc_1='upper left', ylim_1=(56.5, 78), empty_labels_1_up=1)\n",
    "create_chart(df_total.loc[region], df_male.loc[region], df_female.loc[region], ver_lines=ver_lines,\n",
    "             title_en='in Venezuela', title_ru='в Венесуэле', chart_params=chart_params, lang=LANG, destination=DESTINATION_OUTPUT, file_name_partial=region)"
   ]
  },
  {
   "cell_type": "code",
   "execution_count": null,
   "id": "addac855-c7c4-4615-9961-4ade97b3948c",
   "metadata": {},
   "outputs": [],
   "source": []
  },
  {
   "cell_type": "markdown",
   "id": "e4b193a4-6cdc-4aa2-9fa7-d1823eff9370",
   "metadata": {},
   "source": [
    "<br />\n",
    "<br />\n",
    "<br />\n",
    "\n",
    "---\n",
    "### Macroregions"
   ]
  },
  {
   "cell_type": "code",
   "execution_count": 156,
   "id": "5106c6f1-3bc5-4e07-9ea6-cd9c76c1bb16",
   "metadata": {},
   "outputs": [],
   "source": [
    "region = 'World'\n",
    "ver_lines=[2019]\n",
    "chart_params=ChartParams(legend_loc_1='upper left', ylim_1=(49, 76), empty_labels_1_up=1, ylim_2=(3.5, 5.5))\n",
    "create_chart(df_total.loc[region], df_male.loc[region], df_female.loc[region], \n",
    "             title_en='in the world on average', title_ru='в мире в среднем', ver_lines=ver_lines, chart_params=chart_params,\n",
    "             lang=LANG, destination=DESTINATION_OUTPUT, file_name_full='Life expectancy in macroregion -world')"
   ]
  },
  {
   "cell_type": "code",
   "execution_count": 157,
   "id": "60df39c6-c7fd-49d1-81f9-282055276a82",
   "metadata": {},
   "outputs": [],
   "source": [
    "region = 'European Union'\n",
    "ver_lines=[2019]\n",
    "chart_params=ChartParams(legend_loc_1='upper left', ylim_1=(66.5, 84.5))\n",
    "create_chart(df_total.loc[region], df_male.loc[region], df_female.loc[region], \n",
    "             title_en='in the European Union', title_ru='в Европейском союзе', ver_lines=ver_lines, chart_params=chart_params,\n",
    "             lang=LANG, destination=DESTINATION_OUTPUT, file_name_full='Life expectancy in macroregion -European Union')"
   ]
  },
  {
   "cell_type": "code",
   "execution_count": 158,
   "id": "7b539587-c581-4211-b5ea-6d02b13ae5c7",
   "metadata": {},
   "outputs": [],
   "source": [
    "region = 'Sub-Saharan Africa'\n",
    "ver_lines=[2019]\n",
    "chart_params=ChartParams(legend_loc_1='upper left', ylim_1=(39.75, 63.5), empty_labels_1_up=0, ylim_2=(2.5, 4.5))\n",
    "create_chart(df_total.loc[region], df_male.loc[region], df_female.loc[region],\n",
    "             title_en='in sub-Saharan Africa', title_ru='в Чёрной Африке', chart_params=chart_params, ver_lines=ver_lines,\n",
    "             lang=LANG, destination=DESTINATION_OUTPUT, file_name_full='Life expectancy in macroregion -sub-Saharan Africa')"
   ]
  },
  {
   "cell_type": "code",
   "execution_count": 159,
   "id": "303e528d-7678-4122-9d16-852fb1d4eb22",
   "metadata": {},
   "outputs": [],
   "source": [
    "region = 'North America'\n",
    "ver_lines=[2019]\n",
    "chart_params=ChartParams(legend_loc_1='upper left', ylim_2=(4.5, 8.25))\n",
    "create_chart(df_total.loc[region], df_male.loc[region], df_female.loc[region], \n",
    "             title_en='in North America', title_ru='в Северной Америке', ver_lines=ver_lines, chart_params=chart_params,\n",
    "             lang=LANG, destination=DESTINATION_OUTPUT, file_name_full='Life expectancy in macroregion -North America')"
   ]
  },
  {
   "cell_type": "code",
   "execution_count": 160,
   "id": "386e197c-48eb-41de-bbf7-027d99ed5dbe",
   "metadata": {},
   "outputs": [],
   "source": [
    "region = 'South Asia'\n",
    "figure_size=(16, 12)\n",
    "ver_lines=[2019]\n",
    "chart_params=ChartParams(legend_loc_1='upper left', ylim_1=(44.333, 72.5), empty_labels_1_up=0, ylim_2=(-1.667, 4))\n",
    "create_chart(df_total.loc[region], df_male.loc[region], df_female.loc[region], figure_size=figure_size, ver_lines=ver_lines,\n",
    "             title_en='in South Asia', title_ru='в Южной Азии', chart_params=chart_params,\n",
    "             lang=LANG, destination=DESTINATION_OUTPUT, file_name_full='Life expectancy in macroregion -South Asia')"
   ]
  },
  {
   "cell_type": "code",
   "execution_count": 161,
   "id": "c9b9992c-feb2-4abd-b658-0839c31f08e7",
   "metadata": {},
   "outputs": [],
   "source": [
    "region = 'Arab World'\n",
    "ver_lines=[2019]\n",
    "chart_params=ChartParams(legend_loc_1='upper left', ylim_1=(43.333, 74.5), ylim_2=(2.667, 5.333))\n",
    "create_chart(df_total.loc[region], df_male.loc[region], df_female.loc[region], \n",
    "             title_en='in the Arab world', title_ru='в Арабском мире', chart_params=chart_params, ver_lines=ver_lines,\n",
    "             lang=LANG, destination=DESTINATION_OUTPUT, file_name_full='Life expectancy in macroregion -Arab world')"
   ]
  },
  {
   "cell_type": "markdown",
   "id": "a6ec9b2f-f61b-4044-ba99-0afdeb279fb8",
   "metadata": {},
   "source": [
    "<br />\n",
    "<br />\n",
    "<br />\n",
    "\n",
    "[High-income country](https://en.wikipedia.org/wiki/High-income_country), [Low-income country](https://en.wikipedia.org/wiki/Low-income_country)"
   ]
  },
  {
   "cell_type": "code",
   "execution_count": 162,
   "id": "6d5ea345-034b-4123-924f-47d679df3570",
   "metadata": {},
   "outputs": [],
   "source": [
    "region = 'High income'\n",
    "ver_lines=[2019]\n",
    "chart_params=ChartParams(legend_loc_1='upper left', ylim_1=(65.667, 84), ylim_2=(5, 7),)\n",
    "create_chart(df_total.loc[region], df_male.loc[region], df_female.loc[region], ver_lines=ver_lines,\n",
    "             title_en='in countries with high income', title_ru='в странах с высоким уровнем дохода',\n",
    "             chart_params=chart_params, lang=LANG, destination=DESTINATION_OUTPUT, file_name_full='Life expectancy in macroregion -income high')"
   ]
  },
  {
   "cell_type": "code",
   "execution_count": 163,
   "id": "4ad14898-c676-49d2-b322-3d78586e650d",
   "metadata": {},
   "outputs": [],
   "source": [
    "# region = 'Upper middle income'\n",
    "# chart_params=ChartParams(legend_loc_1='upper left', ylim_1=(47.5, 79.5), ylim_2=(4, 6))\n",
    "# create_chart(df_total.loc[region], df_male.loc[region], df_female.loc[region], \n",
    "#              title_en='in countries with upper middle income', title_ru='в странах с верхне-средним уровнем дохода',\n",
    "#              chart_params=chart_params, lang=LANG, destination=DESTINATION_OUTPUT, file_name_full='Life expectancy in macroregion -income upper middle')"
   ]
  },
  {
   "cell_type": "code",
   "execution_count": 164,
   "id": "69cd4f7c-c96a-460b-a4b3-7fbeb6dacf3d",
   "metadata": {},
   "outputs": [],
   "source": [
    "region = 'Middle income'\n",
    "ver_lines=[2019]\n",
    "chart_params=ChartParams(legend_loc_1='upper left', ylim_1=(43.5, 75.5), ylim_2=(2.5, 5.5))\n",
    "create_chart(df_total.loc[region], df_male.loc[region], df_female.loc[region], ver_lines=ver_lines,\n",
    "             title_en='in countries with middle income', title_ru='в странах со средним уровнем дохода',\n",
    "             chart_params=chart_params, lang=LANG, destination=DESTINATION_OUTPUT, file_name_full='Life expectancy in macroregion -income middle')"
   ]
  },
  {
   "cell_type": "code",
   "execution_count": 165,
   "id": "96cdc3ac-67a2-4bb7-a12f-88c06172a312",
   "metadata": {},
   "outputs": [],
   "source": [
    "# region = 'Lower middle income'\n",
    "# chart_params=ChartParams(legend_loc_1='upper left', ylim_1=(44.5, 71.5), ylim_2=(1, 4), empty_labels_2_down=1)\n",
    "# create_chart(df_total.loc[region], df_male.loc[region], df_female.loc[region], \n",
    "#              title_en='in countries with lower middle income', title_ru='в странах с нижне-средним уровнем дохода',\n",
    "#              chart_params=chart_params, lang=LANG, destination=DESTINATION_OUTPUT, file_name_full='Life expectancy in macroregion -income lower middle')"
   ]
  },
  {
   "cell_type": "code",
   "execution_count": 166,
   "id": "f1d73efe-f2d2-4458-8d07-7ab1da7824d3",
   "metadata": {},
   "outputs": [],
   "source": [
    "region = 'Low income'\n",
    "ver_lines=[2019]\n",
    "chart_params=ChartParams(legend_loc_1='upper left', ylim_1=(39.5, 66), ylim_2=(2.5, 5), empty_labels_1_up=1)\n",
    "create_chart(df_total.loc[region], df_male.loc[region], df_female.loc[region], ver_lines=ver_lines,\n",
    "             title_en='in countries with low income', title_ru='в странах с низким уровнем дохода',\n",
    "             chart_params=chart_params, lang=LANG, destination=DESTINATION_OUTPUT, file_name_full='Life expectancy in macroregion -income low')"
   ]
  },
  {
   "cell_type": "markdown",
   "id": "8b2f7746-bd80-4dea-a132-58c248066a35",
   "metadata": {},
   "source": [
    "<br />\n",
    "<br />\n",
    "<br />"
   ]
  },
  {
   "cell_type": "code",
   "execution_count": 167,
   "id": "5c4e1a81-824b-45b9-9f4a-6cc1e6356249",
   "metadata": {},
   "outputs": [
    {
     "data": {
      "text/html": [
       "\n",
       "                <audio  controls=\"controls\" autoplay=\"autoplay\">\n",
       "                    <source src=\"data:audio/wav;base64,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\" type=\"audio/wav\" />\n",
       "                    Your browser does not support the audio element.\n",
       "                </audio>\n",
       "              "
      ],
      "text/plain": [
       "<IPython.lib.display.Audio object>"
      ]
     },
     "execution_count": 167,
     "metadata": {},
     "output_type": "execute_result"
    }
   ],
   "source": [
    "# play beep to denote completion of the program\n",
    "import IPython.display as ipd\n",
    "import numpy as np\n",
    "\n",
    "# manually generated sound\n",
    "t = 1  # time is seconds\n",
    "beep = np.sin(2*np.pi*400*np.arange(10000*t)/10000)\n",
    "ipd.Audio(beep, rate=10000, autoplay=True)"
   ]
  },
  {
   "cell_type": "markdown",
   "id": "7d7f9c7c-cda3-4855-b03d-685c100370c3",
   "metadata": {},
   "source": [
    "<br />"
   ]
  },
  {
   "cell_type": "code",
   "execution_count": 168,
   "id": "fc8f50ef-9ca0-441f-af7e-e730906692d5",
   "metadata": {},
   "outputs": [],
   "source": [
    "# region = '___'\n",
    "# ver_lines = [2019]\n",
    "# chart_params=ChartParams(legend_loc_1='upper left',)\n",
    "# create_chart(df_total.loc[region], df_male.loc[region], df_female.loc[region], \n",
    "#              title_en='in ___', title_ru='в ___', ver_lines=ver_lines, chart_params=chart_params, lang=LANG, destination=DESTINATION_OUTPUT, file_name_partial=region) \n",
    "\n",
    "# figure_size=(16, 12) , figure_size=figure_size\n",
    "# , ylim_1=(, ), ylim_2=(, ), empty_labels_1_down=1, empty_labels_1_up=1"
   ]
  },
  {
   "cell_type": "code",
   "execution_count": 169,
   "id": "5fc7d976-1e06-4f79-abcd-31f83f733dba",
   "metadata": {},
   "outputs": [],
   "source": [
    "## Add description to\n",
    "\n",
    "# Кипр - 1974\n",
    "# Пакистан - 1971\n",
    "# Гаити - 2010\n",
    "# Ливан - 1975, 1976, 1982\n",
    "# Гватемала - 1976, 1982"
   ]
  },
  {
   "cell_type": "code",
   "execution_count": 170,
   "id": "182d3d05-a36a-46c5-88ea-50979cea60ab",
   "metadata": {},
   "outputs": [],
   "source": [
    "# Trakking of look looking scale of charts:\n",
    "# 10: 25, 26\n",
    "# 11: 32, 33\n",
    "# 12: 32, 34, 35"
   ]
  }
 ],
 "metadata": {
  "kernelspec": {
   "display_name": "Python 3 (ipykernel)",
   "language": "python",
   "name": "python3"
  },
  "language_info": {
   "codemirror_mode": {
    "name": "ipython",
    "version": 3
   },
   "file_extension": ".py",
   "mimetype": "text/x-python",
   "name": "python",
   "nbconvert_exporter": "python",
   "pygments_lexer": "ipython3",
   "version": "3.9.7"
  }
 },
 "nbformat": 4,
 "nbformat_minor": 5
}
