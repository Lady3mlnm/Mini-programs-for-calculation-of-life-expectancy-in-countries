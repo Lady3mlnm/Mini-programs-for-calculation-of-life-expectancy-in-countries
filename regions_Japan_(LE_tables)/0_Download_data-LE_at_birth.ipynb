{
 "cells": [
  {
   "cell_type": "markdown",
   "id": "e4ca8545-0ec9-4ace-81ff-b4100b1ab63d",
   "metadata": {},
   "source": [
    "This script downloaded  \"Life expectancy at birth\" tables from the [Japanese Mortality Database](https://www.ipss.go.jp/p-toukei/JMD/index-en.asp) <i>(ipss.go.jp)</i>"
   ]
  },
  {
   "cell_type": "code",
   "execution_count": 2,
   "id": "b2c68a68-6bfe-43a2-b04d-bfb9b0b8e451",
   "metadata": {},
   "outputs": [],
   "source": [
    "import requests\n",
    "import re\n",
    "from time import sleep"
   ]
  },
  {
   "cell_type": "code",
   "execution_count": 3,
   "id": "6989e595-50bc-4d92-a627-e784842f6487",
   "metadata": {},
   "outputs": [],
   "source": [
    "pattern_name_region = re.compile(r'(?<=^).*(?=, Life expectancy)')\n",
    "\n",
    "# just for interest, show total value for 2020\n",
    "pattern_value = re.compile(r'(?<=^2022\\t[\\d.]{5}\\t[\\d.]{5}\\t)[\\d.]{5}(?=$)', re.MULTILINE)  # Enable multiline mode, positive lookbehind and lookahead"
   ]
  },
  {
   "cell_type": "code",
   "execution_count": 4,
   "id": "3c178dc4-968d-41fd-a9bb-0b6142c0bd42",
   "metadata": {},
   "outputs": [
    {
     "name": "stdout",
     "output_type": "stream",
     "text": [
      "done: 00  - Japan           - 84.10\n",
      "done: 01  - 01.Hokkaido     - 83.57\n",
      "done: 02  - 02.Aomori.ken   - 82.69\n",
      "done: 03  - 03.Iwate.ken    - 83.18\n",
      "done: 04  - 04.Miyagi.ken   - 84.20\n",
      "done: 05  - 05.Akita.ken    - 83.43\n",
      "done: 06  - 06.Yamagata.ken - 84.00\n",
      "done: 07  - 07.Fukushima.ken- 83.23\n",
      "done: 08  - 08.Ibaraki.ken  - 83.37\n",
      "done: 09  - 09.Tochigi.ken  - 83.38\n",
      "done: 10  - 10.Gumma.ken    - 83.61\n",
      "done: 11  - 11.Saitama.ken  - 83.79\n",
      "done: 12  - 12.Chiba.ken    - 83.85\n",
      "done: 13  - 13.Tokyo.to     - 84.38\n",
      "done: 14  - 14.Kanagawa.ken - 84.37\n",
      "done: 15  - 15.Niigata.ken  - 84.21\n",
      "done: 16  - 16.Toyama.ken   - 84.27\n",
      "done: 17  - 17.Ishikawa.ken - 84.66\n",
      "done: 18  - 18.Fukui.ken    - 84.52\n",
      "done: 19  - 19.Yamanashi.ken- 84.42\n",
      "done: 20  - 20.Nagano.ken   - 85.16\n",
      "done: 21  - 21.Gifu.ken     - 84.25\n",
      "done: 22  - 22.Shizuoka.ken - 84.17\n",
      "done: 23  - 23.Aichi.ken    - 84.16\n",
      "done: 24  - 24.Mie.ken      - 84.40\n",
      "done: 25  - 25.Shiga.ken    - 85.09\n",
      "done: 26  - 26.Kyoto.fu     - 84.64\n",
      "done: 27  - 27.Osaka.fu     - 83.53\n",
      "done: 28  - 28.Hyogo.ken    - 84.57\n",
      "done: 29  - 29.Nara.ken     - 84.65\n",
      "done: 30  - 30.Wakayama.ken - 83.74\n",
      "done: 31  - 31.Tottori.ken  - 84.51\n",
      "done: 32  - 32.Shimane.ken  - 84.66\n",
      "done: 33  - 33.Okayama.ken  - 84.68\n",
      "done: 34  - 34.Hiroshima.ken- 84.63\n",
      "done: 35  - 35.Yamaguchi.ken- 84.24\n",
      "done: 36  - 36.Tokushima.ken- 84.16\n",
      "done: 37  - 37.Kagawa.ken   - 84.35\n",
      "done: 38  - 38.Ehime.ken    - 84.10\n",
      "done: 39  - 39.Kochi.ken    - 83.79\n",
      "done: 40  - 40.Fukuoka.ken  - 84.15\n",
      "done: 41  - 41.Saga.ken     - 84.32\n",
      "done: 42  - 42.Nagasaki.ken - 84.40\n",
      "done: 43  - 43.Kumamoto.ken - 84.47\n",
      "done: 44  - 44.Oita.ken     - 84.64\n",
      "done: 45  - 45.Miyazaki.ken - 83.74\n",
      "done: 46  - 46.Kagoshima.ken- 83.81\n",
      "done: 47  - 47.Okinawa.ken  - 83.26\n"
     ]
    }
   ],
   "source": [
    "for nmb in range(48):\n",
    "    url = f\"https://www.ipss.go.jp/p-toukei/JMD/{nmb:02}/STATS/E0per.txt\"\n",
    "    file_path = f\"data-LE_at_birth/Jp_{nmb:02}.csv\"\n",
    "    \n",
    "    response = requests.get(url)\n",
    "\n",
    "    if response.status_code == 200:\n",
    "        with open(file_path, 'w') as file:\n",
    "            text = response.text\n",
    "\n",
    "            # Replace gaps from 3 to 6 characters to tabs. And also change end of lines for correct writing to file.\n",
    "            text_transformed = re.sub(' {3,6}', '\\t', text) \\\n",
    "                                  .replace('\\r\\n', '\\n')\n",
    "            file.write(text_transformed)\n",
    "\n",
    "\n",
    "            fragment_name_found = re.search(pattern_name_region, text_transformed)\n",
    "            name_region_found = fragment_name_found.group() if fragment_name_found else 'region name is not found'\n",
    "            \n",
    "            fragment_value_found = re.search(pattern_value, text_transformed)\n",
    "            values_found = fragment_value_found.group() if fragment_value_found else 'value is not found'\n",
    "            \n",
    "            print(f\"done: {nmb:02}  - {name_region_found:16}- {values_found}\")\n",
    "    else:\n",
    "        raise Exception(f\"Response 200 during processing of nmb: {nmb}\")\n",
    "\n",
    "    sleep(1)    "
   ]
  },
  {
   "cell_type": "code",
   "execution_count": 5,
   "id": "ad012141-3c08-4f1d-bc39-4b34ba06903c",
   "metadata": {},
   "outputs": [
    {
     "data": {
      "text/html": [
       "\n",
       "                <audio  controls=\"controls\" autoplay=\"autoplay\">\n",
       "                    <source src=\"data:audio/wav;base64,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\" type=\"audio/wav\" />\n",
       "                    Your browser does not support the audio element.\n",
       "                </audio>\n",
       "              "
      ],
      "text/plain": [
       "<IPython.lib.display.Audio object>"
      ]
     },
     "execution_count": 5,
     "metadata": {},
     "output_type": "execute_result"
    }
   ],
   "source": [
    "# play beep to denote completion of the program\n",
    "import IPython.display as ipd\n",
    "import numpy as np\n",
    "\n",
    "# manually generated sound\n",
    "t = 1  # time is seconds\n",
    "beep = np.sin(2*np.pi*400*np.arange(10000*t)/10000)\n",
    "ipd.Audio(beep, rate=10000, autoplay=True)"
   ]
  }
 ],
 "metadata": {
  "kernelspec": {
   "display_name": "Python 3 (ipykernel)",
   "language": "python",
   "name": "python3"
  },
  "language_info": {
   "codemirror_mode": {
    "name": "ipython",
    "version": 3
   },
   "file_extension": ".py",
   "mimetype": "text/x-python",
   "name": "python",
   "nbconvert_exporter": "python",
   "pygments_lexer": "ipython3",
   "version": "3.12.4"
  }
 },
 "nbformat": 4,
 "nbformat_minor": 5
}
