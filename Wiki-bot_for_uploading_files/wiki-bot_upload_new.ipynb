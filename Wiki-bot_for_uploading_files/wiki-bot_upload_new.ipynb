{
 "cells": [
  {
   "cell_type": "code",
   "execution_count": 1,
   "id": "9bd95a0b-bec0-446e-9432-2761715d2b14",
   "metadata": {},
   "outputs": [],
   "source": [
    "import os, glob\n",
    "import pywikibot\n",
    "from time import sleep"
   ]
  },
  {
   "cell_type": "code",
   "execution_count": 2,
   "id": "3a5c9886-b88b-45c5-9fe0-59932c25708d",
   "metadata": {},
   "outputs": [
    {
     "data": {
      "text/plain": [
       "['Life expectancy by WBG -Botswana -diff -ru.png',\n",
       " 'Life expectancy by WBG -Botswana -diff.png',\n",
       " 'Life expectancy by WBG -Botswana -ru.png',\n",
       " 'Life expectancy by WBG -Botswana.png']"
      ]
     },
     "execution_count": 2,
     "metadata": {},
     "output_type": "execute_result"
    }
   ],
   "source": [
    "ls_file_names = os.listdir('input')\n",
    "ls_file_names[:4]"
   ]
  },
  {
   "cell_type": "code",
   "execution_count": 3,
   "id": "43731a56-a9ee-4c91-82c4-1b020aa94488",
   "metadata": {},
   "outputs": [
    {
     "data": {
      "text/plain": [
       "['output\\\\Life expectancy by WBG -Botswana -diff -ru.png',\n",
       " 'output\\\\Life expectancy by WBG -Botswana -diff.png',\n",
       " 'output\\\\Life expectancy by WBG -Botswana -ru.png',\n",
       " 'output\\\\Life expectancy by WBG -Botswana.png']"
      ]
     },
     "execution_count": 3,
     "metadata": {},
     "output_type": "execute_result"
    }
   ],
   "source": [
    "ls_file_paths = glob.glob('input/*.png')\n",
    "ls_file_paths[:4]"
   ]
  },
  {
   "cell_type": "markdown",
   "id": "cdf7b812-74e0-4b65-8369-d9f5f7220335",
   "metadata": {},
   "source": [
    "<hr>"
   ]
  },
  {
   "cell_type": "code",
   "execution_count": 4,
   "id": "99b19a1e-1578-4932-923f-7fd54f937359",
   "metadata": {},
   "outputs": [
    {
     "data": {
      "text/plain": [
       "DataSite(\"commons\", \"commons\")"
      ]
     },
     "execution_count": 4,
     "metadata": {},
     "output_type": "execute_result"
    }
   ],
   "source": [
    "site = pywikibot.Site('commons', 'commons')  # The site we want to run our bot on\n",
    "site"
   ]
  },
  {
   "cell_type": "code",
   "execution_count": 5,
   "id": "ca4f7969-6688-45bc-a4af-40c49b16b1d5",
   "metadata": {},
   "outputs": [],
   "source": [
    "site.login()"
   ]
  },
  {
   "cell_type": "markdown",
   "id": "9fb2a5b0-dfb0-4767-b169-4d22069eee04",
   "metadata": {},
   "source": [
    "<hr>"
   ]
  },
  {
   "cell_type": "code",
   "execution_count": 6,
   "id": "ccd24611-314a-4735-9932-137b75f6e271",
   "metadata": {},
   "outputs": [],
   "source": [
    "def generate_my_text(file_name: str):\n",
    "\n",
    "    country = file_name.split(' -')[1]\n",
    "    if country.endswith('.png'):\n",
    "        country = country[:-4]\n",
    "\n",
    "    if file_name.endswith(' -diff -ru.png'):\n",
    "        my_text = f\"\"\"=={{int:filedesc}}==\n",
    "{{Information\n",
    "|description={{ru|1=Источник данных: Группа Всемирного банка (World Bank Group): [https://data.worldbank.org/indicator/SP.DYN.LE00.IN всё население], [https://data.worldbank.org/indicator/SP.DYN.LE00.MA.IN мужчины], [https://data.worldbank.org/indicator/SP.DYN.LE00.FE.IN женщины].<br>\n",
    "Гладкие линии на графике обычно означают грубую оценку.}}\n",
    "|date=2023-03-03\n",
    "|source={{own}}\n",
    "|author=[[User:Lady3mlnm|Lady3mlnm]]\n",
    "|permission=\n",
    "|other versions=[[:File:Life expectancy by WBG -{country} -ru.png|Simple version]]<br>\n",
    "[[:File:Life expectancy by WBG -{country} -diff.png|English version]]\n",
    "}}\n",
    "\n",
    "=={{int:license-header}}==\n",
    "{{self|cc-zero}}\n",
    "\n",
    "[[Category:Life expectancy charts for {country}]]\n",
    "[[Category:Charts in Russian]]\"\"\"\n",
    "    elif file_name.endswith(' -ru.png'):\n",
    "        my_text = f\"\"\"=={{int:filedesc}}==\n",
    "{{Information\n",
    "|description={{ru|1=Источник данных: Группа Всемирного банка (World Bank Group): [https://data.worldbank.org/indicator/SP.DYN.LE00.IN всё население], [https://data.worldbank.org/indicator/SP.DYN.LE00.MA.IN мужчины], [https://data.worldbank.org/indicator/SP.DYN.LE00.FE.IN женщины].<br>\n",
    "Гладкие линии на графике обычно означают грубую оценку.}}\n",
    "|date=2023-03-03\n",
    "|source={{own}}\n",
    "|author=[[User:Lady3mlnm|Lady3mlnm]]\n",
    "|permission=\n",
    "|other versions=[[:File:Life expectancy by WBG -{country} -diff -ru.png|Version with calculated gender gap]]<br>\n",
    "[[:File:Life expectancy by WBG -{country}.png|English version]]\n",
    "}}\n",
    "\n",
    "=={{int:license-header}}==\n",
    "{{self|cc-zero}}\n",
    "\n",
    "[[Category:Life expectancy charts for {country}]]\n",
    "[[Category:Charts in Russian]]\"\"\"\n",
    "    elif file_name.endswith(' -diff.png'):\n",
    "        my_text = f\"\"\"=={{int:filedesc}}==\n",
    "{{Information\n",
    "|description={{en|1=Data source: World Bank Group: [https://data.worldbank.org/indicator/SP.DYN.LE00.IN total], [https://data.worldbank.org/indicator/SP.DYN.LE00.MA.IN male], [https://data.worldbank.org/indicator/SP.DYN.LE00.FE.IN female].<br>\n",
    "Smooth lines on the chart usually mean a rough estimation.}}\n",
    "|date=2023-03-03\n",
    "|source={{own}}\n",
    "|author=[[User:Lady3mlnm|Lady3mlnm]]\n",
    "|permission=\n",
    "|other versions=[[:File:Life expectancy by WBG -{country}.png|Simple version]]<br>\n",
    "[[:File:Life expectancy by WBG -{country} -diff -ru.png|Russian version]]\n",
    "}}\n",
    "\n",
    "=={{int:license-header}}==\n",
    "{{self|cc-zero}}\n",
    "\n",
    "[[Category:Life expectancy charts for {country}]]\"\"\"\n",
    "    elif file_name.endswith('.png'):\n",
    "        my_text = f\"\"\"=={{int:filedesc}}==\n",
    "{{Information\n",
    "|description={{en|1=Data source: World Bank Group: [https://data.worldbank.org/indicator/SP.DYN.LE00.IN total], [https://data.worldbank.org/indicator/SP.DYN.LE00.MA.IN male], [https://data.worldbank.org/indicator/SP.DYN.LE00.FE.IN female].<br>\n",
    "Smooth lines on the chart usually mean a rough estimation.}}\n",
    "|date=2023-03-03\n",
    "|source={{own}}\n",
    "|author=[[User:Lady3mlnm|Lady3mlnm]]\n",
    "|permission=\n",
    "|other versions=[[:File:Life expectancy by WBG -{country} -diff.png|Version with calculated gender gap]]<br>\n",
    "[[:File:Life expectancy by WBG -{country} -ru.png|Russian version]]\n",
    "}}\n",
    "\n",
    "=={{int:license-header}}==\n",
    "{{self|cc-zero}}\n",
    "\n",
    "[[Category:Life expectancy charts for {country}]]\"\"\"\n",
    "    else:\n",
    "        raise ValueError(\"Something wrong with file name\")\n",
    "        \n",
    "    return my_text.replace('{', '{{').replace('}', '}}')\n",
    "\n",
    "# file_name = 'Life expectancy by WBG -Bhutan.png'\n",
    "# my_text = generate_my_text(file_name)\n",
    "# print(my_text)"
   ]
  },
  {
   "cell_type": "code",
   "execution_count": null,
   "id": "6466be8f-803d-431a-8fff-d932a7136c09",
   "metadata": {},
   "outputs": [],
   "source": [
    "for file_name, file_path in zip(ls_file_names, ls_file_paths):\n",
    "    \n",
    "    my_text = generate_my_text(file_name)\n",
    "    #print(f\"{file_name:50} {country:12} {file_path}\")\n",
    "    \n",
    "    imagepage = pywikibot.FilePage(site, file_name)\n",
    "    imagepage\n",
    "\n",
    "    imagepage.upload(file_path,\n",
    "                     ignore_warnings=True,\n",
    "                     comment='Uploaded own work using own bot',\n",
    "                     report_success = True\n",
    "                    )\n",
    "\n",
    "    sleep(10)\n",
    "\n",
    "    imagepage.text = my_text\n",
    "    imagepage.save('Added description and categories using own bot', minor=False)\n",
    "    \n",
    "    print(f'Uploaded: {file_name}')\n",
    "    sleep(10)"
   ]
  },
  {
   "cell_type": "code",
   "execution_count": null,
   "id": "3af6a7b6-e137-4570-9526-88997ddd7efe",
   "metadata": {},
   "outputs": [],
   "source": []
  },
  {
   "cell_type": "code",
   "execution_count": 8,
   "id": "22c4d011-e405-4263-8fba-9dd223a21314",
   "metadata": {},
   "outputs": [
    {
     "ename": "AssertionError",
     "evalue": "",
     "output_type": "error",
     "traceback": [
      "\u001b[1;31m---------------------------------------------------------------------------\u001b[0m",
      "\u001b[1;31mAssertionError\u001b[0m                            Traceback (most recent call last)",
      "\u001b[1;32m~\\AppData\\Local\\Temp/ipykernel_11776/2103537015.py\u001b[0m in \u001b[0;36m<module>\u001b[1;34m\u001b[0m\n\u001b[1;32m----> 1\u001b[1;33m \u001b[1;32massert\u001b[0m \u001b[1;32mFalse\u001b[0m\u001b[1;33m\u001b[0m\u001b[1;33m\u001b[0m\u001b[0m\n\u001b[0m",
      "\u001b[1;31mAssertionError\u001b[0m: "
     ]
    }
   ],
   "source": [
    "assert False"
   ]
  },
  {
   "cell_type": "code",
   "execution_count": null,
   "id": "76da4f00-f314-446d-9dee-3743f0b12b07",
   "metadata": {},
   "outputs": [],
   "source": [
    "file_name = os.listdir('output')[0]\n",
    "file_name"
   ]
  },
  {
   "cell_type": "code",
   "execution_count": null,
   "id": "fc4fbdd2-3e4b-4437-8ecf-3b58a6694326",
   "metadata": {},
   "outputs": [],
   "source": [
    "file_path = glob.glob('output/*.png')[0]\n",
    "file_path"
   ]
  },
  {
   "cell_type": "code",
   "execution_count": null,
   "id": "cb18b9e1-fd59-4dd3-9abb-43fbf2c713fb",
   "metadata": {},
   "outputs": [],
   "source": [
    "country = file_name.split(' -')[1]\n",
    "if country.endswith('.png'):\n",
    "    country = country[:-4]\n",
    "country"
   ]
  },
  {
   "cell_type": "code",
   "execution_count": null,
   "id": "f67ee4b6-9db0-4127-80e2-7793627a6b6b",
   "metadata": {},
   "outputs": [],
   "source": []
  },
  {
   "cell_type": "code",
   "execution_count": null,
   "id": "8a4a47a5-a97b-438a-977b-e9fd7c451303",
   "metadata": {},
   "outputs": [],
   "source": [
    "if file_name.endswith(' -diff -ru.png'):\n",
    "    my_text = f\"\"\"=={{int:filedesc}}==\n",
    "{{Information\n",
    "|description={{ru|1=Источник данных: Группа Всемирного банка (World Bank Group): [https://data.worldbank.org/indicator/SP.DYN.LE00.IN всё население], [https://data.worldbank.org/indicator/SP.DYN.LE00.MA.IN мужчины], [https://data.worldbank.org/indicator/SP.DYN.LE00.FE.IN женщины].<br>\n",
    "Гладкие линии на графике обычно означают грубую оценку.}}\n",
    "|date=2023-03-03\n",
    "|source={{own}}\n",
    "|author=[[User:Lady3mlnm|Lady3mlnm]]\n",
    "|permission=\n",
    "|other versions=[[:File:Life expectancy by WBG -{country} -ru.png|Simple version]]<br>\n",
    "[[:File:Life expectancy by WBG -{country} -diff.png|English version]]\n",
    "}}\n",
    "\n",
    "=={{int:license-header}}==\n",
    "{{self|cc-zero}}\n",
    "\n",
    "[[Category:Life expectancy charts for {country}]]\n",
    "[[Category:Charts in Russian]]\"\"\"\n",
    "elif file_name.endswith(' -ru.png'):\n",
    "    my_text = f\"\"\"=={{int:filedesc}}==\n",
    "{{Information\n",
    "|description={{ru|1=Источник данных: Группа Всемирного банка (World Bank Group): [https://data.worldbank.org/indicator/SP.DYN.LE00.IN всё население], [https://data.worldbank.org/indicator/SP.DYN.LE00.MA.IN мужчины], [https://data.worldbank.org/indicator/SP.DYN.LE00.FE.IN женщины].<br>\n",
    "Гладкие линии на графике обычно означают грубую оценку.}}\n",
    "|date=2023-03-03\n",
    "|source={{own}}\n",
    "|author=[[User:Lady3mlnm|Lady3mlnm]]\n",
    "|permission=\n",
    "|other versions=[[:File:Life expectancy by WBG -{country} -diff -ru.png|Version with calculated gender gap]]<br>\n",
    "[[:File:Life expectancy by WBG -{country}.png|English version]]\n",
    "}}\n",
    "\n",
    "=={{int:license-header}}==\n",
    "{{self|cc-zero}}\n",
    "\n",
    "[[Category:Life expectancy charts for {country}]]\n",
    "[[Category:Charts in Russian]]\"\"\"\n",
    "elif file_name.endswith(' -diff.png'):\n",
    "    my_text = f\"\"\"=={{int:filedesc}}==\n",
    "{{Information\n",
    "|description={{en|1=Data source: World Bank Group: [https://data.worldbank.org/indicator/SP.DYN.LE00.IN total], [https://data.worldbank.org/indicator/SP.DYN.LE00.MA.IN male], [https://data.worldbank.org/indicator/SP.DYN.LE00.FE.IN female].<br>\n",
    "Smooth lines on the chart usually mean a rough estimation.}}\n",
    "|date=2023-03-03\n",
    "|source={{own}}\n",
    "|author=[[User:Lady3mlnm|Lady3mlnm]]\n",
    "|permission=\n",
    "|other versions=[[:File:Life expectancy by WBG -{country}.png|Simple version]]<br>\n",
    "[[:File:Life expectancy by WBG -{country} -diff -ru.png|Russian version]]\n",
    "}}\n",
    "\n",
    "=={{int:license-header}}==\n",
    "{{self|cc-zero}}\n",
    "\n",
    "[[Category:Life expectancy charts for {country}]]\"\"\"\n",
    "elif file_name.endswith('.png'):\n",
    "    my_text = f\"\"\"=={{int:filedesc}}==\n",
    "{{Information\n",
    "|description={{en|1=Data source: World Bank Group: [https://data.worldbank.org/indicator/SP.DYN.LE00.IN total], [https://data.worldbank.org/indicator/SP.DYN.LE00.MA.IN male], [https://data.worldbank.org/indicator/SP.DYN.LE00.FE.IN female].<br>\n",
    "Smooth lines on the chart usually mean a rough estimation.}}\n",
    "|date=2023-03-03\n",
    "|source={{own}}\n",
    "|author=[[User:Lady3mlnm|Lady3mlnm]]\n",
    "|permission=\n",
    "|other versions=[[:File:Life expectancy by WBG -{country} -diff.png|Version with calculated gender gap]]<br>\n",
    "[[:File:Life expectancy by WBG -{country} -ru.png|Russian version]]\n",
    "}}\n",
    "\n",
    "=={{int:license-header}}==\n",
    "{{self|cc-zero}}\n",
    "\n",
    "[[Category:Life expectancy charts for {country}]]\"\"\"\n",
    "else:\n",
    "    raise ValueError(\"Something wrong with file name\")\n",
    "    \n",
    "my_text = my_text.replace('{', '{{').replace('}', '}}')\n",
    "print(my_text)"
   ]
  },
  {
   "cell_type": "markdown",
   "id": "d618199f-7623-4ad7-98fb-8b42d9a28efe",
   "metadata": {},
   "source": [
    "<br />\n",
    "<br />"
   ]
  },
  {
   "cell_type": "code",
   "execution_count": null,
   "id": "1ef97ba3-9668-47ae-9a28-ce617b099bd9",
   "metadata": {},
   "outputs": [],
   "source": [
    "imagepage = pywikibot.FilePage(site, file_name)\n",
    "imagepage"
   ]
  },
  {
   "cell_type": "code",
   "execution_count": null,
   "id": "abadcede-4c57-4bf2-8163-543b375101d5",
   "metadata": {},
   "outputs": [],
   "source": [
    "imagepage.upload(file_path,\n",
    "                 ignore_warnings=True,\n",
    "                 comment='Uploaded own work using own bot',\n",
    "                 report_success = True\n",
    "                )"
   ]
  },
  {
   "cell_type": "code",
   "execution_count": null,
   "id": "845e2522-5c04-4825-88c7-10b07d78da32",
   "metadata": {},
   "outputs": [],
   "source": [
    "imagepage.text = my_text\n",
    "imagepage.save('Added description and categories using own bot', minor=False) "
   ]
  },
  {
   "cell_type": "code",
   "execution_count": null,
   "id": "e0680c14-e827-417a-b229-73fdb9adca2b",
   "metadata": {},
   "outputs": [],
   "source": []
  },
  {
   "cell_type": "code",
   "execution_count": null,
   "id": "4306fcf8-53b3-4808-9c0a-09495baeb5fa",
   "metadata": {},
   "outputs": [],
   "source": [
    "print('1')\n",
    "sleep(5)\n",
    "print('2')"
   ]
  },
  {
   "cell_type": "code",
   "execution_count": null,
   "id": "fbbf589f-9b15-4724-ac2d-0f2560d573ad",
   "metadata": {},
   "outputs": [],
   "source": []
  },
  {
   "cell_type": "code",
   "execution_count": null,
   "id": "0d972268-1c5e-4b90-b02f-680b067c156c",
   "metadata": {},
   "outputs": [],
   "source": []
  },
  {
   "cell_type": "code",
   "execution_count": null,
   "id": "e530e7c0-9672-4854-9882-762b2c8cebdb",
   "metadata": {},
   "outputs": [],
   "source": [
    "[[:File:Life expectancy by WBG -Russia -leader.png|Version with leaders of the state]]<br>\n",
    "[[:File:Life expectancy by WBG -Russia.png|Simple version]]<br>\n",
    "[[:File:Life expectancy by WBG -Russia -diff -ru.png|Russian version]]\n",
    "}}"
   ]
  },
  {
   "cell_type": "markdown",
   "id": "87f43de2-7f7d-4d93-a018-843a5e135e96",
   "metadata": {},
   "source": [
    "<hr>"
   ]
  },
  {
   "cell_type": "markdown",
   "id": "70138054-fbe0-4d8d-9d74-0d1ce3b6daed",
   "metadata": {},
   "source": [
    "[en: Sandbox](https://en.wikipedia.org/wiki/Wikipedia:Sandbox)<br />\n",
    "[ru: Sandbox](https://ru.wikipedia.org/wiki/Википедия:Песочница)<br />\n",
    "[commons: Sandbox](https://commons.wikimedia.org/wiki/Commons:About_the_Sandbox)<br />\n",
    "[commons: PNG Test.png](https://commons.wikimedia.org/wiki/File:PNG_Test.png)"
   ]
  },
  {
   "cell_type": "code",
   "execution_count": null,
   "id": "d4d219ed-0676-407e-bd3d-9443f0dba90e",
   "metadata": {},
   "outputs": [],
   "source": [
    "import pywikibot"
   ]
  },
  {
   "cell_type": "code",
   "execution_count": null,
   "id": "e02af603-191e-4710-8412-5e82396f7f50",
   "metadata": {},
   "outputs": [],
   "source": [
    "# # This is a sample file. You can use generate_user_files script\n",
    "# # to create your user-config.py file:\n",
    "# # pwb generate_user_files\n",
    "\n",
    "# mylang = 'en'\n",
    "# family = 'wikipedia'\n",
    "# usernames['wikipedia']['en'] = 'Lady3mlnm'"
   ]
  },
  {
   "cell_type": "code",
   "execution_count": null,
   "id": "05f3c864-1eea-4506-b9df-29b052472950",
   "metadata": {},
   "outputs": [],
   "source": []
  },
  {
   "cell_type": "code",
   "execution_count": null,
   "id": "d42d7522-c52a-47b7-9a5d-05429359b202",
   "metadata": {},
   "outputs": [],
   "source": []
  },
  {
   "cell_type": "code",
   "execution_count": null,
   "id": "d617ce25-2ba7-49b8-9069-50edcb0cd1db",
   "metadata": {},
   "outputs": [],
   "source": []
  },
  {
   "cell_type": "code",
   "execution_count": null,
   "id": "85addfb8-70c2-4f7f-b5ed-7b87e550cbc0",
   "metadata": {},
   "outputs": [],
   "source": [
    "filename = 'Life expectancy by WBG -Bermuda -diff.png'  #'PNG Test.png'\n",
    "imagepage = pywikibot.FilePage(site, filename)\n",
    "imagepage"
   ]
  },
  {
   "cell_type": "code",
   "execution_count": null,
   "id": "4618a110-ce42-482d-9547-017a0db234f0",
   "metadata": {},
   "outputs": [],
   "source": [
    "print(imagepage.text)"
   ]
  },
  {
   "cell_type": "code",
   "execution_count": null,
   "id": "bbd35184-7198-43ff-9580-3842add50b9b",
   "metadata": {},
   "outputs": [],
   "source": [
    "[cat for cat in imagepage.categories()]"
   ]
  },
  {
   "cell_type": "code",
   "execution_count": null,
   "id": "853ce2ea-4041-4c89-af11-6ad8e7591a1e",
   "metadata": {},
   "outputs": [],
   "source": [
    "print(imagepage.expand_text()[:500])"
   ]
  },
  {
   "cell_type": "code",
   "execution_count": null,
   "id": "15ca9e33-143b-4930-8104-a27677c19ebc",
   "metadata": {},
   "outputs": [],
   "source": [
    "imagepage.e"
   ]
  },
  {
   "cell_type": "code",
   "execution_count": null,
   "id": "70ecf191-a5bb-430e-92f0-67c72c3e60f5",
   "metadata": {},
   "outputs": [],
   "source": [
    "imagepage.title()"
   ]
  },
  {
   "cell_type": "code",
   "execution_count": null,
   "id": "2d741e55-d198-4ff4-977c-1705d5a0195f",
   "metadata": {},
   "outputs": [],
   "source": [
    "imagepage.langlinks()"
   ]
  },
  {
   "cell_type": "code",
   "execution_count": null,
   "id": "6e236f65-7f03-43f8-8948-f30848d2ae9e",
   "metadata": {},
   "outputs": [],
   "source": [
    "imagepage.content_model"
   ]
  },
  {
   "cell_type": "code",
   "execution_count": null,
   "id": "c6719a3d-443a-4fa9-9778-bba7540d7d8a",
   "metadata": {},
   "outputs": [],
   "source": [
    "imagepage.image_captions"
   ]
  },
  {
   "cell_type": "code",
   "execution_count": null,
   "id": "9c3dd0d1-8b07-41d2-9dce-27f5d3f63111",
   "metadata": {},
   "outputs": [],
   "source": [
    "imagepage.data_item()"
   ]
  },
  {
   "cell_type": "code",
   "execution_count": null,
   "id": "c5ddb7fb-c3dc-4c1d-b882-079299aeffb2",
   "metadata": {},
   "outputs": [],
   "source": [
    "[ref for ref in imagepage.getReferences()]"
   ]
  },
  {
   "cell_type": "code",
   "execution_count": null,
   "id": "e492e2d8-da4a-407b-a75d-d25a8f555fac",
   "metadata": {},
   "outputs": [],
   "source": [
    "imagepage.pageid"
   ]
  },
  {
   "cell_type": "code",
   "execution_count": null,
   "id": "5a073d91-a39f-4b92-963e-970d2aae2ce8",
   "metadata": {},
   "outputs": [],
   "source": [
    "dd = imagepage.latest_file_info\n",
    "dd"
   ]
  },
  {
   "cell_type": "markdown",
   "id": "fef0dc98-4393-4017-943a-0572fb56b24e",
   "metadata": {},
   "source": [
    "<hr>"
   ]
  },
  {
   "cell_type": "code",
   "execution_count": null,
   "id": "87096e35-8fd8-4e0d-bf49-c038e2d7af99",
   "metadata": {},
   "outputs": [],
   "source": []
  },
  {
   "cell_type": "code",
   "execution_count": null,
   "id": "520dfcb5-7617-4f35-8e9c-f11dd63cd554",
   "metadata": {},
   "outputs": [],
   "source": [
    "def get_qnumber(wikiarticle, wikisite):\n",
    "    resp = get('https://www.wikidata.org/w/api.php', {\n",
    "        'action': 'wbgetentities',\n",
    "        'titles': wikiarticle,\n",
    "        'sites': wikisite,\n",
    "        'props': '',\n",
    "        'format': 'json'\n",
    "    }).json()\n",
    "    return list(resp['entities'])[0]\n",
    "\n",
    "print(get_qnumber(wikiarticle=\"Andromeda Galaxy\", wikisite=\"enwiki\"))"
   ]
  },
  {
   "cell_type": "code",
   "execution_count": null,
   "id": "453e3ce9-da09-4b4e-8cf4-f9c608369d80",
   "metadata": {},
   "outputs": [],
   "source": []
  },
  {
   "cell_type": "code",
   "execution_count": null,
   "id": "cba47905-9b14-47f2-a282-8922d4930075",
   "metadata": {},
   "outputs": [],
   "source": [
    "pywikibot.DataSite"
   ]
  },
  {
   "cell_type": "code",
   "execution_count": null,
   "id": "9894d898-18df-4ee3-b1e3-b3f7e6bac8fa",
   "metadata": {},
   "outputs": [],
   "source": [
    "id = 56855503\n",
    "pywikibot.DataSite.loadcontent(self, identification=id)"
   ]
  },
  {
   "cell_type": "code",
   "execution_count": null,
   "id": "97415f4f-8a21-4a07-ae24-17379178f207",
   "metadata": {},
   "outputs": [],
   "source": [
    "pywikibot.wbgetentities."
   ]
  },
  {
   "cell_type": "code",
   "execution_count": null,
   "id": "ec0f552a-8822-44cc-b963-f2daba93c7a2",
   "metadata": {},
   "outputs": [],
   "source": []
  },
  {
   "cell_type": "code",
   "execution_count": null,
   "id": "cbaf0748-fa3d-4817-b9c2-6f31d98f98e4",
   "metadata": {},
   "outputs": [],
   "source": [
    "print(imagepage.latest_file_info"
   ]
  },
  {
   "cell_type": "markdown",
   "id": "19f107b4-4171-4998-b737-df1e6bc154ca",
   "metadata": {},
   "source": [
    "You can retrieve captions using the wbgetentities module with the entity ID. For each file there is a Wikibase entity ID MXXXX, XXXX being the page_id. So for example, File:Pluto-01 Stern 03 Pluto Color TXT.jpg has the page ID 41837276, so the entity ID is M41837276, and you can query wbgetentities&ids=M41837276. An easy way to get the Mid is to use the API action=query&prop=info&titles=File:Pluto-01_Stern_03_Pluto_Color_TXT.jpg (the page ID is provided by the pageid field). "
   ]
  },
  {
   "cell_type": "code",
   "execution_count": null,
   "id": "c13451b7-2361-45c2-aa5f-54cc03fa77eb",
   "metadata": {},
   "outputs": [],
   "source": [
    "pywikibot"
   ]
  },
  {
   "cell_type": "code",
   "execution_count": null,
   "id": "b6367833-36c6-451a-9379-44668fc919a8",
   "metadata": {},
   "outputs": [],
   "source": []
  },
  {
   "cell_type": "code",
   "execution_count": null,
   "id": "08011b16-f5f8-4f1e-b8a7-a4d152720266",
   "metadata": {},
   "outputs": [],
   "source": []
  },
  {
   "cell_type": "code",
   "execution_count": null,
   "id": "bd2b58f8-66be-4958-8f55-667f7aaedc90",
   "metadata": {},
   "outputs": [],
   "source": [
    "my_image_description = \"\"\"=={{int:filedesc}}==\n",
    "{{Information\n",
    "|description={{en|1=Text in English (2)}}\n",
    "{{ru|1=Текст на русском (2)}}\n",
    "|date=2023-03-01\n",
    "|source={{own}}\n",
    "|author=[[User:Lady3mlnm|Lady3mlnm]]\n",
    "|permission=\n",
    "|other versions=Some other versions of the bar chart\n",
    "}}\"\"\"\n",
    "\n",
    "imagepage.text = my_image_description"
   ]
  },
  {
   "cell_type": "code",
   "execution_count": null,
   "id": "ef58da2c-c173-49bd-93de-01a5c055e813",
   "metadata": {},
   "outputs": [],
   "source": [
    "pywikibot.info(f'Uploading file to {site}...')"
   ]
  },
  {
   "cell_type": "code",
   "execution_count": null,
   "id": "6a82b00b-8b31-48ae-a1d4-0dbd531dff18",
   "metadata": {},
   "outputs": [],
   "source": [
    "file_url = 'output/PNG Test.png' #'output/Life expectancy by WBG -Angola.png' #'output/PNG Test.png' # 'https://commons.wikimedia.org/wiki/File:PNG_Test.png'\n",
    "file_url"
   ]
  },
  {
   "cell_type": "code",
   "execution_count": null,
   "id": "85380db9-0ab6-4c59-b516-e09a68fc7385",
   "metadata": {},
   "outputs": [],
   "source": [
    "imagepage.upload(file_url,\n",
    "                 ignore_warnings=True,\n",
    "                 comment='comment for testing of image refreshing by bot',\n",
    "                 text='Some text - where it come to?...',\n",
    "                 report_success = True\n",
    "                )"
   ]
  },
  {
   "cell_type": "code",
   "execution_count": null,
   "id": "408dc8d2-75fa-4cb2-a9a1-df09b96fa243",
   "metadata": {},
   "outputs": [],
   "source": [
    "imagepage.save('Testing Wiki-bot (2)') "
   ]
  },
  {
   "cell_type": "code",
   "execution_count": null,
   "id": "05186666-8cc3-41d3-bd4a-dea85bbe75bd",
   "metadata": {},
   "outputs": [],
   "source": []
  },
  {
   "cell_type": "code",
   "execution_count": null,
   "id": "86957315-565a-4f92-9ea7-722c60f4ec76",
   "metadata": {},
   "outputs": [],
   "source": []
  },
  {
   "cell_type": "code",
   "execution_count": null,
   "id": "fb5f52d5-f879-4250-8d3e-da7aa0686065",
   "metadata": {},
   "outputs": [],
   "source": [
    "imagepage.text = my_image_description\n",
    "print(imagepage.text)"
   ]
  },
  {
   "cell_type": "code",
   "execution_count": null,
   "id": "42e1d147-2779-4027-93e1-4e661cebb4e8",
   "metadata": {},
   "outputs": [],
   "source": [
    "imagepage.save('Testing Wiki-bot')  # , minor=False"
   ]
  },
  {
   "cell_type": "code",
   "execution_count": null,
   "id": "fdd70952-9d77-4a5a-bd27-928a0c415d36",
   "metadata": {},
   "outputs": [],
   "source": []
  },
  {
   "cell_type": "code",
   "execution_count": null,
   "id": "7814fc19-6d01-44a3-8235-459f7a804871",
   "metadata": {},
   "outputs": [],
   "source": []
  },
  {
   "cell_type": "code",
   "execution_count": null,
   "id": "70792924-ab1c-4e77-aed5-059116b2806d",
   "metadata": {},
   "outputs": [],
   "source": []
  },
  {
   "cell_type": "code",
   "execution_count": null,
   "id": "44db2938-ddb8-41d6-a58a-ea48c7577026",
   "metadata": {},
   "outputs": [],
   "source": [
    "\n",
    "filename = 'Commons:PNG Test.png'\n",
    "page = pywikibot.Page(site, filename)\n",
    "page"
   ]
  },
  {
   "cell_type": "code",
   "execution_count": null,
   "id": "67ca4b38-3c79-4968-a96d-13f9bea1de70",
   "metadata": {},
   "outputs": [],
   "source": [
    "print(page.text)"
   ]
  },
  {
   "cell_type": "markdown",
   "id": "37ee76bc-4514-471b-90e2-e88306144e7a",
   "metadata": {},
   "source": [
    "<br />\n",
    "<br />\n",
    "<hr>"
   ]
  },
  {
   "cell_type": "code",
   "execution_count": null,
   "id": "49e60189-78de-445e-8dfd-c83a225ab268",
   "metadata": {},
   "outputs": [],
   "source": [
    "    site = self.target_site\n",
    "    imagepage = pywikibot.FilePage(site, filename)  # normalizes filename\n",
    "    imagepage.text = self.description"
   ]
  },
  {
   "cell_type": "code",
   "execution_count": null,
   "id": "00351f73-d473-4c11-a018-33cafbed1bd7",
   "metadata": {},
   "outputs": [],
   "source": [
    "page = pywikibot.Page(site, 'PNG Test.png')\n",
    "page"
   ]
  },
  {
   "cell_type": "code",
   "execution_count": null,
   "id": "f449e7a5-81be-4555-aae1-de15f8e8b25c",
   "metadata": {},
   "outputs": [],
   "source": [
    "print(page.text)"
   ]
  },
  {
   "cell_type": "code",
   "execution_count": null,
   "id": "b0e065c4-bb7e-47cc-b018-729a19976ecd",
   "metadata": {},
   "outputs": [],
   "source": [
    "# page.text = page.text.replace('country = New England', 'country = Russia')\n",
    "# page"
   ]
  },
  {
   "cell_type": "code",
   "execution_count": null,
   "id": "44da0688-d16b-4d5f-b293-b44b87a90a6c",
   "metadata": {},
   "outputs": [],
   "source": [
    "page.text = page.text + '<br>\\nBot testing -2'\n",
    "print(page.text)"
   ]
  },
  {
   "cell_type": "code",
   "execution_count": null,
   "id": "534142d4-a1b8-465b-943c-5a1c64dad467",
   "metadata": {},
   "outputs": [],
   "source": [
    "page.save('Testing Wiki-bot', minor=False)  # Saves the page"
   ]
  },
  {
   "cell_type": "code",
   "execution_count": null,
   "id": "a58c0e87-85ce-4dd3-985d-a13de59ad6e5",
   "metadata": {},
   "outputs": [],
   "source": [
    "assert False"
   ]
  },
  {
   "cell_type": "code",
   "execution_count": null,
   "id": "4fd10836-bb59-4a34-8163-639b548685f8",
   "metadata": {},
   "outputs": [],
   "source": [
    "from pywikibot.specialbots import UploadRobot\n",
    "\n",
    "bot = UploadRobot(url, description=description, use_filename=use_filename,\n",
    "                  keep_filename=keep_filename,\n",
    "                  verify_description=verify_description, aborts=aborts,\n",
    "                  ignore_warning=ignorewarn, chunk_size=chunk_size,\n",
    "                  asynchronous=asynchronous,\n",
    "                  always=always, summary=summary,\n",
    "                  filename_prefix=filename_prefix)\n",
    "bot.run()"
   ]
  },
  {
   "cell_type": "code",
   "execution_count": null,
   "id": "c9a61af1-74c3-4d92-bdc1-78649ef29567",
   "metadata": {},
   "outputs": [],
   "source": [
    "def upload_file(self, file_url):\n",
    "    \"\"\"\n",
    "    Upload the image at file_url to the target wiki.\n",
    "\n",
    "    .. seealso:: :api:`Upload`\n",
    "\n",
    "    Return the filename that was used to upload the image.\n",
    "    If the upload fails, ask the user whether to try again or not.\n",
    "    If the user chooses not to retry, return None.\n",
    "\n",
    "    .. versionchanged:: 7.0\n",
    "       If 'copyuploadbaddomain' API error occurred in first step,\n",
    "       download the file and upload it afterwards\n",
    "    \"\"\"\n",
    "    filename = self.process_filename(file_url)\n",
    "    if not filename:\n",
    "        return None\n",
    "\n",
    "    site = self.target_site\n",
    "    imagepage = pywikibot.FilePage(site, filename)  # normalizes filename\n",
    "    imagepage.text = self.description\n",
    "\n",
    "    pywikibot.info(f'Uploading file to {site}...')\n",
    "\n",
    "    ignore_warnings = self.ignore_warning is True or self._handle_warnings\n",
    "\n",
    "    download = False\n",
    "    while True:\n",
    "        if '://' in file_url \\\n",
    "           and (not site.has_right('upload_by_url') or download):\n",
    "            try:\n",
    "                file_url = self.read_file_content(file_url)\n",
    "            except FatalServerError as e:\n",
    "                pywikibot.error(e)\n",
    "                return None\n",
    "\n",
    "        try:\n",
    "            success = imagepage.upload(file_url,\n",
    "                                       ignore_warnings=ignore_warnings,\n",
    "                                       chunk_size=self.chunk_size,\n",
    "                                       asynchronous=self.asynchronous,\n",
    "                                       comment=self.summary)\n",
    "        except APIError as error:\n",
    "            if error.code == 'uploaddisabled':\n",
    "                pywikibot.error(\n",
    "                    'Upload error: Local file uploads are disabled on {}.'\n",
    "                    .format(site))\n",
    "            elif error.code == 'copyuploadbaddomain' and not download \\\n",
    "                    and '://' in file_url:\n",
    "                pywikibot.error(error)\n",
    "                pywikibot.info('Downloading the file and retry...')\n",
    "                download = True\n",
    "                continue\n",
    "            else:\n",
    "                pywikibot.exception('Upload error: ')\n",
    "        except Exception:\n",
    "            pywikibot.exception('Upload error: ')\n",
    "        else:\n",
    "            if success:\n",
    "                # No warning, upload complete.\n",
    "                pywikibot.info(f'Upload of {filename} successful.')\n",
    "                self.counter['upload'] += 1\n",
    "                return filename  # data['filename']\n",
    "            pywikibot.info('Upload aborted.')\n",
    "        break\n",
    "\n",
    "    return None"
   ]
  },
  {
   "cell_type": "code",
   "execution_count": null,
   "id": "4dc39a9a-05d0-4b37-a635-c3fd53ae647a",
   "metadata": {},
   "outputs": [],
   "source": []
  },
  {
   "cell_type": "code",
   "execution_count": null,
   "id": "12fb69fa-a244-4ba0-91fa-2a4c795f62fe",
   "metadata": {},
   "outputs": [],
   "source": [
    "page.text"
   ]
  },
  {
   "cell_type": "code",
   "execution_count": null,
   "id": "1a614c2a-b736-47c1-bf59-6318324d3b89",
   "metadata": {},
   "outputs": [],
   "source": [
    "page.save('Testing Wiki-bot')  # Saves the page"
   ]
  },
  {
   "cell_type": "code",
   "execution_count": null,
   "id": "0b4e3913-f163-40a7-928f-cd1aaddd8c4c",
   "metadata": {},
   "outputs": [],
   "source": [
    "site = pywikibot.Site('en', 'wikipedia')  # The site we want to run our bot on\n",
    "page = pywikibot.Page(site, 'Wikipedia:Sandbox')\n",
    "page.text = page.text.replace('foo', 'bar')\n",
    "page.save('Replacing \"foo\" with \"bar\"')  # Saves the page"
   ]
  }
 ],
 "metadata": {
  "kernelspec": {
   "display_name": "Python 3 (ipykernel)",
   "language": "python",
   "name": "python3"
  },
  "language_info": {
   "codemirror_mode": {
    "name": "ipython",
    "version": 3
   },
   "file_extension": ".py",
   "mimetype": "text/x-python",
   "name": "python",
   "nbconvert_exporter": "python",
   "pygments_lexer": "ipython3",
   "version": "3.9.7"
  }
 },
 "nbformat": 4,
 "nbformat_minor": 5
}
