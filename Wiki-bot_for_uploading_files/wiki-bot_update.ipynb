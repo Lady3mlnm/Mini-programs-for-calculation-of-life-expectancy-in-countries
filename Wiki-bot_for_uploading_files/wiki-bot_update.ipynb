{
 "cells": [
  {
   "cell_type": "code",
   "execution_count": 11,
   "id": "9bd95a0b-bec0-446e-9432-2761715d2b14",
   "metadata": {},
   "outputs": [],
   "source": [
    "import os, glob\n",
    "import pywikibot\n",
    "from time import sleep"
   ]
  },
  {
   "cell_type": "code",
   "execution_count": 12,
   "id": "3a5c9886-b88b-45c5-9fe0-59932c25708d",
   "metadata": {},
   "outputs": [
    {
     "name": "stdout",
     "output_type": "stream",
     "text": [
      "Number of files: 0\n"
     ]
    },
    {
     "data": {
      "text/plain": [
       "[]"
      ]
     },
     "execution_count": 12,
     "metadata": {},
     "output_type": "execute_result"
    }
   ],
   "source": [
    "ls_file_names = os.listdir('input')\n",
    "print(\"Number of files:\", len(ls_file_names))\n",
    "ls_file_names[:4]"
   ]
  },
  {
   "cell_type": "code",
   "execution_count": 13,
   "id": "43731a56-a9ee-4c91-82c4-1b020aa94488",
   "metadata": {},
   "outputs": [
    {
     "data": {
      "text/plain": [
       "[]"
      ]
     },
     "execution_count": 13,
     "metadata": {},
     "output_type": "execute_result"
    }
   ],
   "source": [
    "ls_file_paths = glob.glob('output/*.png')\n",
    "ls_file_paths[:4]"
   ]
  },
  {
   "cell_type": "markdown",
   "id": "cdf7b812-74e0-4b65-8369-d9f5f7220335",
   "metadata": {},
   "source": [
    "<hr>"
   ]
  },
  {
   "cell_type": "code",
   "execution_count": 14,
   "id": "99b19a1e-1578-4932-923f-7fd54f937359",
   "metadata": {},
   "outputs": [
    {
     "data": {
      "text/plain": [
       "DataSite(\"commons\", \"commons\")"
      ]
     },
     "execution_count": 14,
     "metadata": {},
     "output_type": "execute_result"
    }
   ],
   "source": [
    "site = pywikibot.Site('commons', 'commons')  # The site we want to run our bot on\n",
    "site"
   ]
  },
  {
   "cell_type": "code",
   "execution_count": 15,
   "id": "ca4f7969-6688-45bc-a4af-40c49b16b1d5",
   "metadata": {},
   "outputs": [],
   "source": [
    "site.login()"
   ]
  },
  {
   "cell_type": "markdown",
   "id": "9fb2a5b0-dfb0-4767-b169-4d22069eee04",
   "metadata": {},
   "source": [
    "<hr>"
   ]
  },
  {
   "cell_type": "code",
   "execution_count": 17,
   "id": "43463cea-2803-46ec-a27c-a4fc08c11820",
   "metadata": {},
   "outputs": [],
   "source": [
    "count = 0\n",
    "for file_name, file_path in zip(ls_file_names, ls_file_paths):\n",
    "    \n",
    "    imagepage = pywikibot.FilePage(site, file_name)\n",
    "\n",
    "    count += 1\n",
    "    print(f'Uploading: {count:3}. {file_name}')\n",
    "    \n",
    "    imagepage.upload(file_path,\n",
    "                     ignore_warnings=True,\n",
    "                     comment='Chart is updated, since the World Bank Group updated its estimation of life expectancy',\n",
    "                     report_success = True\n",
    "                    )\n",
    "\n",
    "    sleep(5)"
   ]
  },
  {
   "cell_type": "code",
   "execution_count": 9,
   "id": "af2eb6e7-1d75-4022-8496-9850b4b0e514",
   "metadata": {},
   "outputs": [
    {
     "data": {
      "text/html": [
       "\n",
       "                <audio  controls=\"controls\" autoplay=\"autoplay\">\n",
       "                    <source src=\"data:audio/wav;base64,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\" type=\"audio/wav\" />\n",
       "                    Your browser does not support the audio element.\n",
       "                </audio>\n",
       "              "
      ],
      "text/plain": [
       "<IPython.lib.display.Audio object>"
      ]
     },
     "execution_count": 9,
     "metadata": {},
     "output_type": "execute_result"
    }
   ],
   "source": [
    "# play beep to denote completion of the program\n",
    "import IPython.display as ipd\n",
    "import numpy as np\n",
    "\n",
    "# manually generated sound\n",
    "t = 1  # time is seconds\n",
    "beep = np.sin(2*np.pi*400*np.arange(10000*t)/10000)\n",
    "ipd.Audio(beep, rate=10000, autoplay=True)"
   ]
  },
  {
   "cell_type": "code",
   "execution_count": 10,
   "id": "0cd57527-bbd7-4794-8812-490da0eec42b",
   "metadata": {},
   "outputs": [],
   "source": [
    "# delete:\n",
    "# Life expectancy in USA China Russia.png\n",
    "# Life expectancy in USA China Russia -ru.png\n",
    "# Life expectancy in some Asian countries.png\n",
    "# Life expectancy in some Asian countries -ru.png\n",
    "\n",
    "\n",
    "# ?\n",
    "# Comparison of life expectancy in Armenia and Georgia.png"
   ]
  }
 ],
 "metadata": {
  "kernelspec": {
   "display_name": "Python 3 (ipykernel)",
   "language": "python",
   "name": "python3"
  },
  "language_info": {
   "codemirror_mode": {
    "name": "ipython",
    "version": 3
   },
   "file_extension": ".py",
   "mimetype": "text/x-python",
   "name": "python",
   "nbconvert_exporter": "python",
   "pygments_lexer": "ipython3",
   "version": "3.9.7"
  }
 },
 "nbformat": 4,
 "nbformat_minor": 5
}
