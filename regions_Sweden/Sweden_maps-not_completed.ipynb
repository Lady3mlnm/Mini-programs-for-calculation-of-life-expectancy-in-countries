{
 "cells": [
  {
   "cell_type": "markdown",
   "id": "66afbf54-1cfb-47f6-ad88-7ad99e7d71a2",
   "metadata": {
    "editable": true,
    "slideshow": {
     "slide_type": ""
    },
    "tags": []
   },
   "source": [
    "[List of Swedish counties by life expectancy](https://en.wikipedia.org/wiki/List_of_Swedish_counties_by_life_expectancy) / \n",
    "[Продолжительность жизни в ленах Швеции](https://ru.wikipedia.org/wiki/Продолжительность_жизни_в_ленах_Швеции)<br />\n",
    "Data source: [Life expectancy at birth by region and sex](https://www.statistikdatabasen.scb.se/pxweb/en/ssd/START__BE__BE0101__BE0101I/Medellivsl/)<br />\n",
    "[MapChart](https://www.mapchart.net/sweden.html)"
   ]
  },
  {
   "cell_type": "markdown",
   "id": "4bb4947c-56f3-48c8-834e-47207267fdb9",
   "metadata": {},
   "source": [
    "This script is not completed since I've understood that life expectancy statistics is given for counties but the map in MapChart is for provinces - in most cases these divisions are identical but in some cases there are differences."
   ]
  },
  {
   "cell_type": "code",
   "execution_count": 3,
   "id": "6766e1c6-3124-46ef-846d-1539844bd0c5",
   "metadata": {
    "editable": true,
    "slideshow": {
     "slide_type": ""
    },
    "tags": []
   },
   "outputs": [],
   "source": [
    "import pandas as pd\n",
    "# import math\n",
    "# import re\n",
    "import json\n",
    "\n",
    "import sys\n",
    "sys.path.append(\"..\")\n",
    "import mal_moduls_private.mal_total as mal"
   ]
  },
  {
   "cell_type": "code",
   "execution_count": 4,
   "id": "8ceea9f8-f30d-4aed-a209-d16725ae0983",
   "metadata": {},
   "outputs": [],
   "source": [
    "df_state = pd.read_csv('data/Life expectancy at birth by region and sex -Sweden.csv', sep='\\t', skiprows=2)\n",
    "df_state.index = ['00 Sweden', '00 Sweden']\n",
    "\n",
    "df_countries = pd.read_csv('data/Life expectancy at birth by region and sex -countries.csv', sep='\\t', skiprows=2,\n",
    "                           encoding='iso8859_10', index_col='region')  # iso8859_10 - coding for Nordic languages, iso8859_2 - for Central and Eastern Europe\n",
    "\n",
    "df = pd.concat([df_state, df_countries])\n",
    "\n",
    "df.index = df.index.map(lambda st: st[3:])\n",
    "df.index.name = ''\n",
    "\n",
    "df_men = df.loc[df.sex=='men'].drop(columns='sex')\n",
    "df_men = df_men.sort_values(by=['2019-2023', '2018-2022'], ascending=False)\n",
    "df_men = pd.concat([df_men.loc[['Sweden']], df_men.drop('Sweden')])\n",
    "\n",
    "df_women = df.loc[df.sex=='women'].drop(columns='sex')\n",
    "df_women = df_women.sort_values(by=['2019-2023', '2018-2022'], ascending=False)\n",
    "df_women = pd.concat([df_women.loc[['Sweden']], df_women.drop('Sweden')])\n",
    "\n",
    "del df_state, df_countries, df"
   ]
  },
  {
   "cell_type": "markdown",
   "id": "bb89137e-52ab-468d-87fb-283e75a07ada",
   "metadata": {},
   "source": [
    "<br />\n",
    "<br />"
   ]
  },
  {
   "cell_type": "code",
   "execution_count": 6,
   "id": "3ed5fd42-1c0f-4e90-befa-f392b4afd7d5",
   "metadata": {},
   "outputs": [],
   "source": [
    "# df_men.loc[:, '2005-2009':].head()"
   ]
  },
  {
   "cell_type": "code",
   "execution_count": 7,
   "id": "792689d0-02d0-49ae-87e3-c85ff677b6b3",
   "metadata": {
    "editable": true,
    "slideshow": {
     "slide_type": ""
    },
    "tags": []
   },
   "outputs": [
    {
     "name": "stdout",
     "output_type": "stream",
     "text": [
      "Number of records: 22\n"
     ]
    },
    {
     "data": {
      "text/html": [
       "<style type=\"text/css\">\n",
       "#T_b50df_row0_col0, #T_b50df_row0_col1, #T_b50df_row0_col2, #T_b50df_row0_col3, #T_b50df_row0_col4, #T_b50df_row0_col5, #T_b50df_row0_col6, #T_b50df_row0_col7, #T_b50df_row0_col8, #T_b50df_row0_col9, #T_b50df_row0_col10, #T_b50df_row1_col0, #T_b50df_row1_col1, #T_b50df_row1_col2, #T_b50df_row1_col3, #T_b50df_row1_col4, #T_b50df_row1_col5, #T_b50df_row1_col6, #T_b50df_row1_col7, #T_b50df_row1_col8, #T_b50df_row1_col9, #T_b50df_row1_col10, #T_b50df_row2_col0, #T_b50df_row2_col1, #T_b50df_row2_col2, #T_b50df_row2_col3, #T_b50df_row2_col4, #T_b50df_row2_col5, #T_b50df_row2_col6, #T_b50df_row2_col7, #T_b50df_row2_col8, #T_b50df_row2_col9, #T_b50df_row2_col10, #T_b50df_row3_col0, #T_b50df_row3_col1, #T_b50df_row3_col2, #T_b50df_row3_col3, #T_b50df_row3_col4, #T_b50df_row3_col5, #T_b50df_row3_col6, #T_b50df_row3_col7, #T_b50df_row3_col8, #T_b50df_row3_col9, #T_b50df_row3_col10, #T_b50df_row4_col0, #T_b50df_row4_col1, #T_b50df_row4_col2, #T_b50df_row4_col3, #T_b50df_row4_col4, #T_b50df_row4_col5, #T_b50df_row4_col6, #T_b50df_row4_col7, #T_b50df_row4_col8, #T_b50df_row4_col9, #T_b50df_row4_col10, #T_b50df_row5_col0, #T_b50df_row5_col1, #T_b50df_row5_col2, #T_b50df_row5_col3, #T_b50df_row5_col4, #T_b50df_row5_col5, #T_b50df_row5_col6, #T_b50df_row5_col7, #T_b50df_row5_col8, #T_b50df_row5_col9, #T_b50df_row5_col10, #T_b50df_row6_col0, #T_b50df_row6_col1, #T_b50df_row6_col2, #T_b50df_row6_col3, #T_b50df_row6_col4, #T_b50df_row6_col5, #T_b50df_row6_col6, #T_b50df_row6_col7, #T_b50df_row6_col8, #T_b50df_row6_col9, #T_b50df_row6_col10 {\n",
       "  text-align: left;\n",
       "}\n",
       "</style>\n",
       "<table id=\"T_b50df\">\n",
       "  <thead>\n",
       "    <tr>\n",
       "      <th class=\"blank level0\" >&nbsp;</th>\n",
       "      <th id=\"T_b50df_level0_col0\" class=\"col_heading level0 col0\" >2010-2014</th>\n",
       "      <th id=\"T_b50df_level0_col1\" class=\"col_heading level0 col1\" >2011-2015</th>\n",
       "      <th id=\"T_b50df_level0_col2\" class=\"col_heading level0 col2\" >2012-2016</th>\n",
       "      <th id=\"T_b50df_level0_col3\" class=\"col_heading level0 col3\" >2013-2017</th>\n",
       "      <th id=\"T_b50df_level0_col4\" class=\"col_heading level0 col4\" >2014-2018</th>\n",
       "      <th id=\"T_b50df_level0_col5\" class=\"col_heading level0 col5\" >2015-2019</th>\n",
       "      <th id=\"T_b50df_level0_col6\" class=\"col_heading level0 col6\" >2016-2020</th>\n",
       "      <th id=\"T_b50df_level0_col7\" class=\"col_heading level0 col7\" >2017-2021</th>\n",
       "      <th id=\"T_b50df_level0_col8\" class=\"col_heading level0 col8\" >2018-2022</th>\n",
       "      <th id=\"T_b50df_level0_col9\" class=\"col_heading level0 col9\" >2019-2023</th>\n",
       "      <th id=\"T_b50df_level0_col10\" class=\"col_heading level0 col10\" >2020-2024</th>\n",
       "    </tr>\n",
       "  </thead>\n",
       "  <tbody>\n",
       "    <tr>\n",
       "      <th id=\"T_b50df_level0_row0\" class=\"row_heading level0 row0\" >max</th>\n",
       "      <td id=\"T_b50df_row0_col0\" class=\"data row0 col0\" >80.91 -Kronoberg c…</td>\n",
       "      <td id=\"T_b50df_row0_col1\" class=\"data row0 col1\" >81.09 -Kronoberg c…</td>\n",
       "      <td id=\"T_b50df_row0_col2\" class=\"data row0 col2\" >81.25 -Kronoberg c…</td>\n",
       "      <td id=\"T_b50df_row0_col3\" class=\"data row0 col3\" >81.46 -Halland cou…</td>\n",
       "      <td id=\"T_b50df_row0_col4\" class=\"data row0 col4\" >81.56 -Kronoberg c…</td>\n",
       "      <td id=\"T_b50df_row0_col5\" class=\"data row0 col5\" >81.87 -Halland cou…</td>\n",
       "      <td id=\"T_b50df_row0_col6\" class=\"data row0 col6\" >82.09 -Halland cou…</td>\n",
       "      <td id=\"T_b50df_row0_col7\" class=\"data row0 col7\" >82.24 -Halland cou…</td>\n",
       "      <td id=\"T_b50df_row0_col8\" class=\"data row0 col8\" >82.35 -Halland cou…</td>\n",
       "      <td id=\"T_b50df_row0_col9\" class=\"data row0 col9\" >82.52 -Halland cou…</td>\n",
       "      <td id=\"T_b50df_row0_col10\" class=\"data row0 col10\" >82.64 -Halland cou…</td>\n",
       "    </tr>\n",
       "    <tr>\n",
       "      <th id=\"T_b50df_level0_row1\" class=\"row_heading level0 row1\" >max_2</th>\n",
       "      <td id=\"T_b50df_row1_col0\" class=\"data row1 col0\" >80.83 -Uppsala cou…</td>\n",
       "      <td id=\"T_b50df_row1_col1\" class=\"data row1 col1\" >81.0 -Uppsala cou…</td>\n",
       "      <td id=\"T_b50df_row1_col2\" class=\"data row1 col2\" >81.21 -Halland cou…</td>\n",
       "      <td id=\"T_b50df_row1_col3\" class=\"data row1 col3\" >81.38 -Kronoberg c…</td>\n",
       "      <td id=\"T_b50df_row1_col4\" class=\"data row1 col4\" >81.52 -Halland cou…</td>\n",
       "      <td id=\"T_b50df_row1_col5\" class=\"data row1 col5\" >81.71 -Kronoberg c…</td>\n",
       "      <td id=\"T_b50df_row1_col6\" class=\"data row1 col6\" >81.6 -Kronoberg c…</td>\n",
       "      <td id=\"T_b50df_row1_col7\" class=\"data row1 col7\" >81.74 -Kronoberg c…</td>\n",
       "      <td id=\"T_b50df_row1_col8\" class=\"data row1 col8\" >81.81 -Kronoberg c…</td>\n",
       "      <td id=\"T_b50df_row1_col9\" class=\"data row1 col9\" >82.0 -Uppsala cou…</td>\n",
       "      <td id=\"T_b50df_row1_col10\" class=\"data row1 col10\" >82.09 -Kronoberg c…</td>\n",
       "    </tr>\n",
       "    <tr>\n",
       "      <th id=\"T_b50df_level0_row2\" class=\"row_heading level0 row2\" >max_3</th>\n",
       "      <td id=\"T_b50df_row2_col0\" class=\"data row2 col0\" >80.78 -Halland cou…</td>\n",
       "      <td id=\"T_b50df_row2_col1\" class=\"data row2 col1\" >80.93 -Halland cou…</td>\n",
       "      <td id=\"T_b50df_row2_col2\" class=\"data row2 col2\" >81.15 -Uppsala cou…</td>\n",
       "      <td id=\"T_b50df_row2_col3\" class=\"data row2 col3\" >81.21 -Uppsala cou…</td>\n",
       "      <td id=\"T_b50df_row2_col4\" class=\"data row2 col4\" >81.38 -Uppsala cou…</td>\n",
       "      <td id=\"T_b50df_row2_col5\" class=\"data row2 col5\" >81.52 -Uppsala cou…</td>\n",
       "      <td id=\"T_b50df_row2_col6\" class=\"data row2 col6\" >81.5 -Uppsala cou…</td>\n",
       "      <td id=\"T_b50df_row2_col7\" class=\"data row2 col7\" >81.67 -Uppsala cou…</td>\n",
       "      <td id=\"T_b50df_row2_col8\" class=\"data row2 col8\" >81.79 -Uppsala cou…</td>\n",
       "      <td id=\"T_b50df_row2_col9\" class=\"data row2 col9\" >81.96 -Kronoberg c…</td>\n",
       "      <td id=\"T_b50df_row2_col10\" class=\"data row2 col10\" >82.07 -Stockholm c…</td>\n",
       "    </tr>\n",
       "    <tr>\n",
       "      <th id=\"T_b50df_level0_row3\" class=\"row_heading level0 row3\" >Sweden</th>\n",
       "      <td id=\"T_b50df_row3_col0\" class=\"data row3 col0\" > – 79.93 –</td>\n",
       "      <td id=\"T_b50df_row3_col1\" class=\"data row3 col1\" > – 80.08 –</td>\n",
       "      <td id=\"T_b50df_row3_col2\" class=\"data row3 col2\" > – 80.24 –</td>\n",
       "      <td id=\"T_b50df_row3_col3\" class=\"data row3 col3\" > – 80.41 –</td>\n",
       "      <td id=\"T_b50df_row3_col4\" class=\"data row3 col4\" > – 80.55 –</td>\n",
       "      <td id=\"T_b50df_row3_col5\" class=\"data row3 col5\" > – 80.75 –</td>\n",
       "      <td id=\"T_b50df_row3_col6\" class=\"data row3 col6\" > – 80.8 –</td>\n",
       "      <td id=\"T_b50df_row3_col7\" class=\"data row3 col7\" > – 80.93 –</td>\n",
       "      <td id=\"T_b50df_row3_col8\" class=\"data row3 col8\" > – 81.05 –</td>\n",
       "      <td id=\"T_b50df_row3_col9\" class=\"data row3 col9\" > – 81.21 –</td>\n",
       "      <td id=\"T_b50df_row3_col10\" class=\"data row3 col10\" > – 81.4 –</td>\n",
       "    </tr>\n",
       "    <tr>\n",
       "      <th id=\"T_b50df_level0_row4\" class=\"row_heading level0 row4\" >min_3</th>\n",
       "      <td id=\"T_b50df_row4_col0\" class=\"data row4 col0\" >78.92 -Gävleborg c…</td>\n",
       "      <td id=\"T_b50df_row4_col1\" class=\"data row4 col1\" >79.0 -Västernorrl…</td>\n",
       "      <td id=\"T_b50df_row4_col2\" class=\"data row4 col2\" >79.2 -Västernorrl…</td>\n",
       "      <td id=\"T_b50df_row4_col3\" class=\"data row4 col3\" >79.35 -Gävleborg c…</td>\n",
       "      <td id=\"T_b50df_row4_col4\" class=\"data row4 col4\" >79.54 -Västernorrl…</td>\n",
       "      <td id=\"T_b50df_row4_col5\" class=\"data row4 col5\" >79.79 -Gävleborg c…</td>\n",
       "      <td id=\"T_b50df_row4_col6\" class=\"data row4 col6\" >79.97 -Gävleborg c…</td>\n",
       "      <td id=\"T_b50df_row4_col7\" class=\"data row4 col7\" >79.97 -Gävleborg c…</td>\n",
       "      <td id=\"T_b50df_row4_col8\" class=\"data row4 col8\" >80.09 -Gävleborg c…</td>\n",
       "      <td id=\"T_b50df_row4_col9\" class=\"data row4 col9\" >80.22 -Gävleborg c…</td>\n",
       "      <td id=\"T_b50df_row4_col10\" class=\"data row4 col10\" >80.46 -Gävleborg c…</td>\n",
       "    </tr>\n",
       "    <tr>\n",
       "      <th id=\"T_b50df_level0_row5\" class=\"row_heading level0 row5\" >min_2</th>\n",
       "      <td id=\"T_b50df_row5_col0\" class=\"data row5 col0\" >78.8 -Västernorrl…</td>\n",
       "      <td id=\"T_b50df_row5_col1\" class=\"data row5 col1\" >78.94 -Gävleborg c…</td>\n",
       "      <td id=\"T_b50df_row5_col2\" class=\"data row5 col2\" >79.17 -Gävleborg c…</td>\n",
       "      <td id=\"T_b50df_row5_col3\" class=\"data row5 col3\" >79.27 -Västernorrl…</td>\n",
       "      <td id=\"T_b50df_row5_col4\" class=\"data row5 col4\" >79.54 -Gävleborg c…</td>\n",
       "      <td id=\"T_b50df_row5_col5\" class=\"data row5 col5\" >79.73 -Västernorrl…</td>\n",
       "      <td id=\"T_b50df_row5_col6\" class=\"data row5 col6\" >79.76 -Västernorrl…</td>\n",
       "      <td id=\"T_b50df_row5_col7\" class=\"data row5 col7\" >79.79 -Västernorrl…</td>\n",
       "      <td id=\"T_b50df_row5_col8\" class=\"data row5 col8\" >79.99 -Västernorrl…</td>\n",
       "      <td id=\"T_b50df_row5_col9\" class=\"data row5 col9\" >80.09 -Västernorrl…</td>\n",
       "      <td id=\"T_b50df_row5_col10\" class=\"data row5 col10\" >80.1 -Norrbotten …</td>\n",
       "    </tr>\n",
       "    <tr>\n",
       "      <th id=\"T_b50df_level0_row6\" class=\"row_heading level0 row6\" >min</th>\n",
       "      <td id=\"T_b50df_row6_col0\" class=\"data row6 col0\" >78.34 -Norrbotten …</td>\n",
       "      <td id=\"T_b50df_row6_col1\" class=\"data row6 col1\" >78.53 -Norrbotten …</td>\n",
       "      <td id=\"T_b50df_row6_col2\" class=\"data row6 col2\" >78.73 -Norrbotten …</td>\n",
       "      <td id=\"T_b50df_row6_col3\" class=\"data row6 col3\" >78.94 -Norrbotten …</td>\n",
       "      <td id=\"T_b50df_row6_col4\" class=\"data row6 col4\" >79.14 -Norrbotten …</td>\n",
       "      <td id=\"T_b50df_row6_col5\" class=\"data row6 col5\" >79.46 -Norrbotten …</td>\n",
       "      <td id=\"T_b50df_row6_col6\" class=\"data row6 col6\" >79.59 -Norrbotten …</td>\n",
       "      <td id=\"T_b50df_row6_col7\" class=\"data row6 col7\" >79.69 -Norrbotten …</td>\n",
       "      <td id=\"T_b50df_row6_col8\" class=\"data row6 col8\" >79.89 -Norrbotten …</td>\n",
       "      <td id=\"T_b50df_row6_col9\" class=\"data row6 col9\" >79.95 -Norrbotten …</td>\n",
       "      <td id=\"T_b50df_row6_col10\" class=\"data row6 col10\" >80.09 -Västernorrl…</td>\n",
       "    </tr>\n",
       "  </tbody>\n",
       "</table>\n"
      ],
      "text/plain": [
       "<pandas.io.formats.style.Styler at 0x18fe0403440>"
      ]
     },
     "execution_count": 7,
     "metadata": {},
     "output_type": "execute_result"
    }
   ],
   "source": [
    "mal.min_and_max_values(df_men.loc[:, '2010-2014':], nmb=3, max_lng=12, row_center='Sweden')  # '2014-2018'"
   ]
  },
  {
   "cell_type": "markdown",
   "id": "b7a8754e-e005-42f7-95ef-68ec494a47c9",
   "metadata": {},
   "source": [
    "<br />\n",
    "<br />"
   ]
  },
  {
   "cell_type": "code",
   "execution_count": 9,
   "id": "f1e1c87f-8d90-4164-ac45-50b77c243ad4",
   "metadata": {},
   "outputs": [],
   "source": [
    "# df_women.loc[:, '2005-2009':].head()"
   ]
  },
  {
   "cell_type": "code",
   "execution_count": 10,
   "id": "7039ba1f-0528-4a98-a48d-3d495c0931ab",
   "metadata": {},
   "outputs": [
    {
     "name": "stdout",
     "output_type": "stream",
     "text": [
      "Number of records: 22\n"
     ]
    },
    {
     "data": {
      "text/html": [
       "<style type=\"text/css\">\n",
       "#T_4f4c6_row0_col0, #T_4f4c6_row0_col1, #T_4f4c6_row0_col2, #T_4f4c6_row0_col3, #T_4f4c6_row0_col4, #T_4f4c6_row0_col5, #T_4f4c6_row0_col6, #T_4f4c6_row0_col7, #T_4f4c6_row0_col8, #T_4f4c6_row0_col9, #T_4f4c6_row0_col10, #T_4f4c6_row1_col0, #T_4f4c6_row1_col1, #T_4f4c6_row1_col2, #T_4f4c6_row1_col3, #T_4f4c6_row1_col4, #T_4f4c6_row1_col5, #T_4f4c6_row1_col6, #T_4f4c6_row1_col7, #T_4f4c6_row1_col8, #T_4f4c6_row1_col9, #T_4f4c6_row1_col10, #T_4f4c6_row2_col0, #T_4f4c6_row2_col1, #T_4f4c6_row2_col2, #T_4f4c6_row2_col3, #T_4f4c6_row2_col4, #T_4f4c6_row2_col5, #T_4f4c6_row2_col6, #T_4f4c6_row2_col7, #T_4f4c6_row2_col8, #T_4f4c6_row2_col9, #T_4f4c6_row2_col10, #T_4f4c6_row3_col0, #T_4f4c6_row3_col1, #T_4f4c6_row3_col2, #T_4f4c6_row3_col3, #T_4f4c6_row3_col4, #T_4f4c6_row3_col5, #T_4f4c6_row3_col6, #T_4f4c6_row3_col7, #T_4f4c6_row3_col8, #T_4f4c6_row3_col9, #T_4f4c6_row3_col10, #T_4f4c6_row4_col0, #T_4f4c6_row4_col1, #T_4f4c6_row4_col2, #T_4f4c6_row4_col3, #T_4f4c6_row4_col4, #T_4f4c6_row4_col5, #T_4f4c6_row4_col6, #T_4f4c6_row4_col7, #T_4f4c6_row4_col8, #T_4f4c6_row4_col9, #T_4f4c6_row4_col10, #T_4f4c6_row5_col0, #T_4f4c6_row5_col1, #T_4f4c6_row5_col2, #T_4f4c6_row5_col3, #T_4f4c6_row5_col4, #T_4f4c6_row5_col5, #T_4f4c6_row5_col6, #T_4f4c6_row5_col7, #T_4f4c6_row5_col8, #T_4f4c6_row5_col9, #T_4f4c6_row5_col10, #T_4f4c6_row6_col0, #T_4f4c6_row6_col1, #T_4f4c6_row6_col2, #T_4f4c6_row6_col3, #T_4f4c6_row6_col4, #T_4f4c6_row6_col5, #T_4f4c6_row6_col6, #T_4f4c6_row6_col7, #T_4f4c6_row6_col8, #T_4f4c6_row6_col9, #T_4f4c6_row6_col10 {\n",
       "  text-align: left;\n",
       "}\n",
       "</style>\n",
       "<table id=\"T_4f4c6\">\n",
       "  <thead>\n",
       "    <tr>\n",
       "      <th class=\"blank level0\" >&nbsp;</th>\n",
       "      <th id=\"T_4f4c6_level0_col0\" class=\"col_heading level0 col0\" >2010-2014</th>\n",
       "      <th id=\"T_4f4c6_level0_col1\" class=\"col_heading level0 col1\" >2011-2015</th>\n",
       "      <th id=\"T_4f4c6_level0_col2\" class=\"col_heading level0 col2\" >2012-2016</th>\n",
       "      <th id=\"T_4f4c6_level0_col3\" class=\"col_heading level0 col3\" >2013-2017</th>\n",
       "      <th id=\"T_4f4c6_level0_col4\" class=\"col_heading level0 col4\" >2014-2018</th>\n",
       "      <th id=\"T_4f4c6_level0_col5\" class=\"col_heading level0 col5\" >2015-2019</th>\n",
       "      <th id=\"T_4f4c6_level0_col6\" class=\"col_heading level0 col6\" >2016-2020</th>\n",
       "      <th id=\"T_4f4c6_level0_col7\" class=\"col_heading level0 col7\" >2017-2021</th>\n",
       "      <th id=\"T_4f4c6_level0_col8\" class=\"col_heading level0 col8\" >2018-2022</th>\n",
       "      <th id=\"T_4f4c6_level0_col9\" class=\"col_heading level0 col9\" >2019-2023</th>\n",
       "      <th id=\"T_4f4c6_level0_col10\" class=\"col_heading level0 col10\" >2020-2024</th>\n",
       "    </tr>\n",
       "  </thead>\n",
       "  <tbody>\n",
       "    <tr>\n",
       "      <th id=\"T_4f4c6_level0_row0\" class=\"row_heading level0 row0\" >max</th>\n",
       "      <td id=\"T_4f4c6_row0_col0\" class=\"data row0 col0\" >84.6 -Halland cou…</td>\n",
       "      <td id=\"T_4f4c6_row0_col1\" class=\"data row0 col1\" >84.7 -Halland cou…</td>\n",
       "      <td id=\"T_4f4c6_row0_col2\" class=\"data row0 col2\" >84.71 -Kronoberg c…</td>\n",
       "      <td id=\"T_4f4c6_row0_col3\" class=\"data row0 col3\" >84.79 -Kronoberg c…</td>\n",
       "      <td id=\"T_4f4c6_row0_col4\" class=\"data row0 col4\" >84.78 -Halland cou…</td>\n",
       "      <td id=\"T_4f4c6_row0_col5\" class=\"data row0 col5\" >84.95 -Halland cou…</td>\n",
       "      <td id=\"T_4f4c6_row0_col6\" class=\"data row0 col6\" >85.13 -Halland cou…</td>\n",
       "      <td id=\"T_4f4c6_row0_col7\" class=\"data row0 col7\" >85.4 -Halland cou…</td>\n",
       "      <td id=\"T_4f4c6_row0_col8\" class=\"data row0 col8\" >85.52 -Halland cou…</td>\n",
       "      <td id=\"T_4f4c6_row0_col9\" class=\"data row0 col9\" >85.53 -Halland cou…</td>\n",
       "      <td id=\"T_4f4c6_row0_col10\" class=\"data row0 col10\" >85.57 -Halland cou…</td>\n",
       "    </tr>\n",
       "    <tr>\n",
       "      <th id=\"T_4f4c6_level0_row1\" class=\"row_heading level0 row1\" >max_2</th>\n",
       "      <td id=\"T_4f4c6_row1_col0\" class=\"data row1 col0\" >84.59 -Kronoberg c…</td>\n",
       "      <td id=\"T_4f4c6_row1_col1\" class=\"data row1 col1\" >84.66 -Kronoberg c…</td>\n",
       "      <td id=\"T_4f4c6_row1_col2\" class=\"data row1 col2\" >84.65 -Halland cou…</td>\n",
       "      <td id=\"T_4f4c6_row1_col3\" class=\"data row1 col3\" >84.63 -Halland cou…</td>\n",
       "      <td id=\"T_4f4c6_row1_col4\" class=\"data row1 col4\" >84.73 -Kronoberg c…</td>\n",
       "      <td id=\"T_4f4c6_row1_col5\" class=\"data row1 col5\" >84.87 -Uppsala cou…</td>\n",
       "      <td id=\"T_4f4c6_row1_col6\" class=\"data row1 col6\" >84.92 -Uppsala cou…</td>\n",
       "      <td id=\"T_4f4c6_row1_col7\" class=\"data row1 col7\" >85.01 -Stockholm c…</td>\n",
       "      <td id=\"T_4f4c6_row1_col8\" class=\"data row1 col8\" >85.18 -Stockholm c…</td>\n",
       "      <td id=\"T_4f4c6_row1_col9\" class=\"data row1 col9\" >85.41 -Stockholm c…</td>\n",
       "      <td id=\"T_4f4c6_row1_col10\" class=\"data row1 col10\" >85.57 -Stockholm c…</td>\n",
       "    </tr>\n",
       "    <tr>\n",
       "      <th id=\"T_4f4c6_level0_row2\" class=\"row_heading level0 row2\" >max_3</th>\n",
       "      <td id=\"T_4f4c6_row2_col0\" class=\"data row2 col0\" >84.16 -Stockholm c…</td>\n",
       "      <td id=\"T_4f4c6_row2_col1\" class=\"data row2 col1\" >84.27 -Stockholm c…</td>\n",
       "      <td id=\"T_4f4c6_row2_col2\" class=\"data row2 col2\" >84.41 -Uppsala cou…</td>\n",
       "      <td id=\"T_4f4c6_row2_col3\" class=\"data row2 col3\" >84.55 -Uppsala cou…</td>\n",
       "      <td id=\"T_4f4c6_row2_col4\" class=\"data row2 col4\" >84.65 -Uppsala cou…</td>\n",
       "      <td id=\"T_4f4c6_row2_col5\" class=\"data row2 col5\" >84.78 -Stockholm c…</td>\n",
       "      <td id=\"T_4f4c6_row2_col6\" class=\"data row2 col6\" >84.78 -Stockholm c…</td>\n",
       "      <td id=\"T_4f4c6_row2_col7\" class=\"data row2 col7\" >84.93 -Uppsala cou…</td>\n",
       "      <td id=\"T_4f4c6_row2_col8\" class=\"data row2 col8\" >85.17 -Gotland cou…</td>\n",
       "      <td id=\"T_4f4c6_row2_col9\" class=\"data row2 col9\" >85.38 -Gotland cou…</td>\n",
       "      <td id=\"T_4f4c6_row2_col10\" class=\"data row2 col10\" >85.53 -Gotland cou…</td>\n",
       "    </tr>\n",
       "    <tr>\n",
       "      <th id=\"T_4f4c6_level0_row3\" class=\"row_heading level0 row3\" >Sweden</th>\n",
       "      <td id=\"T_4f4c6_row3_col0\" class=\"data row3 col0\" > – 83.69 –</td>\n",
       "      <td id=\"T_4f4c6_row3_col1\" class=\"data row3 col1\" > – 83.79 –</td>\n",
       "      <td id=\"T_4f4c6_row3_col2\" class=\"data row3 col2\" > – 83.88 –</td>\n",
       "      <td id=\"T_4f4c6_row3_col3\" class=\"data row3 col3\" > – 83.99 –</td>\n",
       "      <td id=\"T_4f4c6_row3_col4\" class=\"data row3 col4\" > – 84.1 –</td>\n",
       "      <td id=\"T_4f4c6_row3_col5\" class=\"data row3 col5\" > – 84.24 –</td>\n",
       "      <td id=\"T_4f4c6_row3_col6\" class=\"data row3 col6\" > – 84.29 –</td>\n",
       "      <td id=\"T_4f4c6_row3_col7\" class=\"data row3 col7\" > – 84.43 –</td>\n",
       "      <td id=\"T_4f4c6_row3_col8\" class=\"data row3 col8\" > – 84.56 –</td>\n",
       "      <td id=\"T_4f4c6_row3_col9\" class=\"data row3 col9\" > – 84.69 –</td>\n",
       "      <td id=\"T_4f4c6_row3_col10\" class=\"data row3 col10\" > – 84.81 –</td>\n",
       "    </tr>\n",
       "    <tr>\n",
       "      <th id=\"T_4f4c6_level0_row4\" class=\"row_heading level0 row4\" >min_3</th>\n",
       "      <td id=\"T_4f4c6_row4_col0\" class=\"data row4 col0\" >82.85 -Gotland cou…</td>\n",
       "      <td id=\"T_4f4c6_row4_col1\" class=\"data row4 col1\" >82.94 -Gotland cou…</td>\n",
       "      <td id=\"T_4f4c6_row4_col2\" class=\"data row4 col2\" >83.12 -Gotland cou…</td>\n",
       "      <td id=\"T_4f4c6_row4_col3\" class=\"data row4 col3\" >83.26 -Norrbotten …</td>\n",
       "      <td id=\"T_4f4c6_row4_col4\" class=\"data row4 col4\" >83.2 -Norrbotten …</td>\n",
       "      <td id=\"T_4f4c6_row4_col5\" class=\"data row4 col5\" >83.25 -Gävleborg c…</td>\n",
       "      <td id=\"T_4f4c6_row4_col6\" class=\"data row4 col6\" >83.45 -Gävleborg c…</td>\n",
       "      <td id=\"T_4f4c6_row4_col7\" class=\"data row4 col7\" >83.68 -Gävleborg c…</td>\n",
       "      <td id=\"T_4f4c6_row4_col8\" class=\"data row4 col8\" >83.76 -Gävleborg c…</td>\n",
       "      <td id=\"T_4f4c6_row4_col9\" class=\"data row4 col9\" >83.85 -Gävleborg c…</td>\n",
       "      <td id=\"T_4f4c6_row4_col10\" class=\"data row4 col10\" >83.92 -Gävleborg c…</td>\n",
       "    </tr>\n",
       "    <tr>\n",
       "      <th id=\"T_4f4c6_level0_row5\" class=\"row_heading level0 row5\" >min_2</th>\n",
       "      <td id=\"T_4f4c6_row5_col0\" class=\"data row5 col0\" >82.82 -Gävleborg c…</td>\n",
       "      <td id=\"T_4f4c6_row5_col1\" class=\"data row5 col1\" >82.84 -Gävleborg c…</td>\n",
       "      <td id=\"T_4f4c6_row5_col2\" class=\"data row5 col2\" >82.84 -Gävleborg c…</td>\n",
       "      <td id=\"T_4f4c6_row5_col3\" class=\"data row5 col3\" >82.99 -Gävleborg c…</td>\n",
       "      <td id=\"T_4f4c6_row5_col4\" class=\"data row5 col4\" >83.05 -Gävleborg c…</td>\n",
       "      <td id=\"T_4f4c6_row5_col5\" class=\"data row5 col5\" >83.2 -Norrbotten …</td>\n",
       "      <td id=\"T_4f4c6_row5_col6\" class=\"data row5 col6\" >83.4 -Västernorrl…</td>\n",
       "      <td id=\"T_4f4c6_row5_col7\" class=\"data row5 col7\" >83.51 -Västernorrl…</td>\n",
       "      <td id=\"T_4f4c6_row5_col8\" class=\"data row5 col8\" >83.57 -Västernorrl…</td>\n",
       "      <td id=\"T_4f4c6_row5_col9\" class=\"data row5 col9\" >83.52 -Norrbotten …</td>\n",
       "      <td id=\"T_4f4c6_row5_col10\" class=\"data row5 col10\" >83.82 -Norrbotten …</td>\n",
       "    </tr>\n",
       "    <tr>\n",
       "      <th id=\"T_4f4c6_level0_row6\" class=\"row_heading level0 row6\" >min</th>\n",
       "      <td id=\"T_4f4c6_row6_col0\" class=\"data row6 col0\" >82.67 -Västernorrl…</td>\n",
       "      <td id=\"T_4f4c6_row6_col1\" class=\"data row6 col1\" >82.6 -Västernorrl…</td>\n",
       "      <td id=\"T_4f4c6_row6_col2\" class=\"data row6 col2\" >82.71 -Västernorrl…</td>\n",
       "      <td id=\"T_4f4c6_row6_col3\" class=\"data row6 col3\" >82.76 -Västernorrl…</td>\n",
       "      <td id=\"T_4f4c6_row6_col4\" class=\"data row6 col4\" >83.0 -Västernorrl…</td>\n",
       "      <td id=\"T_4f4c6_row6_col5\" class=\"data row6 col5\" >83.19 -Västernorrl…</td>\n",
       "      <td id=\"T_4f4c6_row6_col6\" class=\"data row6 col6\" >83.2 -Norrbotten …</td>\n",
       "      <td id=\"T_4f4c6_row6_col7\" class=\"data row6 col7\" >83.33 -Norrbotten …</td>\n",
       "      <td id=\"T_4f4c6_row6_col8\" class=\"data row6 col8\" >83.41 -Norrbotten …</td>\n",
       "      <td id=\"T_4f4c6_row6_col9\" class=\"data row6 col9\" >83.52 -Västernorrl…</td>\n",
       "      <td id=\"T_4f4c6_row6_col10\" class=\"data row6 col10\" >83.74 -Västernorrl…</td>\n",
       "    </tr>\n",
       "  </tbody>\n",
       "</table>\n"
      ],
      "text/plain": [
       "<pandas.io.formats.style.Styler at 0x18fe2017170>"
      ]
     },
     "execution_count": 10,
     "metadata": {},
     "output_type": "execute_result"
    }
   ],
   "source": [
    "mal.min_and_max_values(df_women.loc[:, '2010-2014':], nmb=3, max_lng=12, row_center='Sweden')  # '2014-2018'"
   ]
  },
  {
   "cell_type": "markdown",
   "id": "f477e94d-4a14-40ae-af62-fd6bf64b7c2b",
   "metadata": {},
   "source": [
    "<br />\n",
    "<br />\n",
    "\n",
    "Below is code for exploration"
   ]
  },
  {
   "cell_type": "code",
   "execution_count": 12,
   "id": "3669df8c-7b50-42d4-a545-c6345f44bf23",
   "metadata": {},
   "outputs": [
    {
     "data": {
      "text/plain": [
       "['Blekinge',\n",
       " 'Dalarna',\n",
       " 'Gotland',\n",
       " 'Gävleborg',\n",
       " 'Halland',\n",
       " 'Jämtland',\n",
       " 'Jönköping',\n",
       " 'Kalmar',\n",
       " 'Kronoberg',\n",
       " 'Norrbotten',\n",
       " 'Skåne',\n",
       " 'Stockholm',\n",
       " 'Södermanland',\n",
       " 'Uppsala',\n",
       " 'Värmland',\n",
       " 'Västerbotten',\n",
       " 'Västernorrland',\n",
       " 'Västmanland',\n",
       " 'Västra',\n",
       " 'Örebro',\n",
       " 'Östergötland']"
      ]
     },
     "execution_count": 12,
     "metadata": {},
     "output_type": "execute_result"
    }
   ],
   "source": [
    "ls_db = sorted(df_men.drop('Sweden').index.to_list())\n",
    "ls_db = [county.split(' ')[0] for county in ls_db]\n",
    "ls_db"
   ]
  },
  {
   "cell_type": "code",
   "execution_count": 13,
   "id": "a22085f7-0f57-41a7-9b82-af98a7f3c6b7",
   "metadata": {},
   "outputs": [
    {
     "name": "stdout",
     "output_type": "stream",
     "text": [
      "Number of elements in list_1: 21\n",
      "Unique elements in list_1: 10:\n",
      "Gävleborg, Halland, Jönköping, Kalmar, Kronoberg, Stockholm, Uppsala, Västernorrland, Västra, Örebro\n",
      "\n",
      "Number of elements in list_2: 25\n",
      "Unique elements in list_2: 14:\n",
      "Bohuslän, Dalsland, Gästrikland, Haland, Hälsingland, Härjedalen, Lappland, Medelpad, Närke, Småland, Uppland, Västergötland, Ångermanland, Öland\n"
     ]
    }
   ],
   "source": [
    "ls_map = [\"Blekinge\", \"Bohuslän\", \"Dalarna\", \"Dalsland\", \"Gotland\", \"Gästrikland\", \"Haland\", \"Hälsingland\", \"Härjedalen\", \"Jämtland\",\n",
    "          \"Lappland\", \"Medelpad\", \"Norrbotten\", \"Närke\", \"Skåne\", \"Småland\", \"Södermanland\", \"Uppland\", \"Värmland\", \"Västerbotten\",\n",
    "          \"Västergötland\", \"Västmanland\", \"Ångermanland\", \"Öland\", \"Östergötland\"]\n",
    "\n",
    "mal.compare_lists(ls_db, ls_map)"
   ]
  },
  {
   "cell_type": "code",
   "execution_count": 14,
   "id": "948c063a-e60d-4d18-9a0e-141ee278dc52",
   "metadata": {
    "editable": true,
    "slideshow": {
     "slide_type": ""
    },
    "tags": []
   },
   "outputs": [
    {
     "name": "stdout",
     "output_type": "stream",
     "text": [
      "dd_replacement = {\n",
      "    \"Gävleborg\" : \"\",\n",
      "    \"Halland\" : \"\",\n",
      "    \"Jönköping\" : \"\",\n",
      "    \"Kalmar\" : \"\",\n",
      "    \"Kronoberg\" : \"\",\n",
      "    \"Stockholm\" : \"\",\n",
      "    \"Uppsala\" : \"\",\n",
      "    \"Västernorrland\" : \"\",\n",
      "    \"Västra\" : \"\",\n",
      "    \"Örebro\" : \"\",\n",
      "}\n"
     ]
    }
   ],
   "source": [
    "print('dd_replacement = {')\n",
    "for region in sorted(county for county in ls_db if county not in ls_map):\n",
    "    print(f'    \"{region}\" : \"\",')\n",
    "print('}')"
   ]
  },
  {
   "cell_type": "markdown",
   "id": "d4d3c654-adef-49cd-9b5b-1869fb7a1678",
   "metadata": {
    "editable": true,
    "slideshow": {
     "slide_type": ""
    },
    "tags": []
   },
   "source": [
    "note: \"Halland\" -> \"Haland\"\n",
    "\n",
    "<br />"
   ]
  }
 ],
 "metadata": {
  "kernelspec": {
   "display_name": "Python 3 (ipykernel)",
   "language": "python",
   "name": "python3"
  },
  "language_info": {
   "codemirror_mode": {
    "name": "ipython",
    "version": 3
   },
   "file_extension": ".py",
   "mimetype": "text/x-python",
   "name": "python",
   "nbconvert_exporter": "python",
   "pygments_lexer": "ipython3",
   "version": "3.12.4"
  }
 },
 "nbformat": 4,
 "nbformat_minor": 5
}
