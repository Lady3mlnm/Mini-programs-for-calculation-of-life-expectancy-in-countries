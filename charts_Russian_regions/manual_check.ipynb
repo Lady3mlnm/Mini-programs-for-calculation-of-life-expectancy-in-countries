{
 "cells": [
  {
   "cell_type": "markdown",
   "id": "b51ab3f7-75c1-4389-8b7e-d224d78febda",
   "metadata": {},
   "source": [
    "[Численность населения Российской Федерации по муниципальным образованиям](https://rosstat.gov.ru/compendium/document/13282)<br />\n",
    "[Население субъектов Российской Федерации (вики)](https://ru.wikipedia.org/wiki/Население_субъектов_Российской_Федерации#Динамика_численности_населения)"
   ]
  },
  {
   "cell_type": "code",
   "execution_count": 1,
   "id": "806121cf-795e-45af-a1e5-d1161207f530",
   "metadata": {},
   "outputs": [
    {
     "name": "stdout",
     "output_type": "stream",
     "text": [
      "   === urban-rural ===\n",
      "all genders: 0.99\n",
      "males      : 0.51\n",
      "females    : 0.81\n"
     ]
    }
   ],
   "source": [
    "# Russia, 2021 (ЕМИСС)\n",
    "ag_as = 70.06\n",
    "ag_urban = 70.3\n",
    "ag_rural = 69.31\n",
    "\n",
    "male_as = 65.51\n",
    "male_urban = 65.63\n",
    "male_rural = 65.12\n",
    "\n",
    "female_as = 74.51\n",
    "female_urban = 74.69\n",
    "female_rural = 73.88\n",
    "\n",
    "print('   === urban-rural ===')\n",
    "print(f'all genders: {(ag_urban - ag_rural):.2f}')\n",
    "print(f'males      : {(male_urban - male_rural):.2f}')\n",
    "print(f'females    : {(female_urban - female_rural):.2f}')"
   ]
  },
  {
   "cell_type": "code",
   "execution_count": 2,
   "id": "1728dca2-ca1c-46ed-a6d0-b71b534d4963",
   "metadata": {},
   "outputs": [
    {
     "name": "stdout",
     "output_type": "stream",
     "text": [
      "   === urban-rural ===\n",
      "all genders: 1.51\n",
      "males      : 1.20\n",
      "females    : 1.02\n"
     ]
    }
   ],
   "source": [
    "# Russia, 2019 (spreadsheet of Rosstat)\n",
    "ag_as = 73.34\n",
    "ag_urban = 73.72\n",
    "ag_rural = 72.21\n",
    "\n",
    "male_as = 68.24\n",
    "male_urban = 68.56\n",
    "male_rural = 67.36\n",
    "\n",
    "female_as = 78.17\n",
    "female_urban = 78.41\n",
    "female_rural = 77.39\n",
    "\n",
    "print('   === urban-rural ===')\n",
    "print(f'all genders: {(ag_urban - ag_rural):.2f}')\n",
    "print(f'males      : {(male_urban - male_rural):.2f}')\n",
    "print(f'females    : {(female_urban - female_rural):.2f}')"
   ]
  },
  {
   "cell_type": "code",
   "execution_count": 3,
   "id": "3b19b707-aedc-40cd-96e9-2dd7bac4f1c8",
   "metadata": {},
   "outputs": [
    {
     "name": "stdout",
     "output_type": "stream",
     "text": [
      "   === urban-rural ===\n",
      "all genders: 1.62\n",
      "males      : 1.15\n",
      "females    : 0.65\n"
     ]
    }
   ],
   "source": [
    "# Vologda Oblast, 2021\n",
    "ag_as = 69.08\n",
    "ag_urban = 69.47\n",
    "ag_rural = 67.85\n",
    "\n",
    "male_as = 63.85\n",
    "male_urban = 64.13\n",
    "male_rural = 62.98\n",
    "\n",
    "female_as = 74.38\n",
    "female_urban = 74.46\n",
    "female_rural = 73.81\n",
    "\n",
    "print('   === urban-rural ===')\n",
    "print(f'all genders: {(ag_urban - ag_rural):.2f}')\n",
    "print(f'males      : {(male_urban - male_rural):.2f}')\n",
    "print(f'females    : {(female_urban - female_rural):.2f}')"
   ]
  },
  {
   "cell_type": "code",
   "execution_count": 4,
   "id": "d573a478-08f7-4c3e-bbd2-52266d9eb0dd",
   "metadata": {},
   "outputs": [
    {
     "name": "stdout",
     "output_type": "stream",
     "text": [
      "   === urban-rural ===\n",
      "all genders: -1.09\n",
      "males      : -0.88\n",
      "females    : 0.17\n"
     ]
    }
   ],
   "source": [
    "# Москва, 2013\n",
    "ag_as = 76.37\n",
    "ag_urban = 76.36\n",
    "ag_rural = 77.45\n",
    "\n",
    "male_as = 72.31\n",
    "male_urban = 72.3\n",
    "male_rural = 73.18\n",
    "\n",
    "female_as = 80.17\n",
    "female_urban = 80.16\n",
    "female_rural = 79.99\n",
    "\n",
    "print('   === urban-rural ===')\n",
    "print(f'all genders: {(ag_urban - ag_rural):.2f}')\n",
    "print(f'males      : {(male_urban - male_rural):.2f}')\n",
    "print(f'females    : {(female_urban - female_rural):.2f}')"
   ]
  },
  {
   "cell_type": "code",
   "execution_count": 5,
   "id": "0336df45-d0f1-4dac-a6d3-856c40d8160f",
   "metadata": {},
   "outputs": [],
   "source": [
    "# ag_as = ___\n",
    "# ag_urban = ___\n",
    "# ag_rural = ___\n",
    "\n",
    "# male_as = ___\n",
    "# male_urban = ___\n",
    "# male_rural = ___\n",
    "\n",
    "# female_as = ___\n",
    "# female_urban = ___\n",
    "# female_rural = ___\n",
    "\n",
    "# print('   === urban-rural ===')\n",
    "# print(f'all genders: {(ag_urban - ag_rural):.2f}')\n",
    "# print(f'males      : {(male_urban - male_rural):.2f}')\n",
    "# print(f'females    : {(female_urban - female_rural):.2f}')"
   ]
  },
  {
   "cell_type": "markdown",
   "id": "447662ee-9983-4ccf-9d2b-4452e4232407",
   "metadata": {},
   "source": [
    "<br />\n",
    "<br />\n",
    "<br />\n",
    "\n",
    "---"
   ]
  },
  {
   "cell_type": "code",
   "execution_count": 6,
   "id": "1ef08c97-41fe-4668-9c17-88031e5ab4ce",
   "metadata": {},
   "outputs": [
    {
     "name": "stdout",
     "output_type": "stream",
     "text": [
      "all_genders in urban: 76.36\n",
      "all_genders in rural: 77.45\n",
      "\n",
      "Δ urban - rural (male): 15\n",
      "Δ urban - rural (female): 10\n",
      "Δ urban - rural (ag): 17.50\n"
     ]
    }
   ],
   "source": [
    "male_urban_le = 75\n",
    "male_urban_number = 1000\n",
    "female_urban_le = 80\n",
    "female_urban_number = 5000\n",
    "\n",
    "male_rural_le = 60\n",
    "male_rural_number = 5000\n",
    "\n",
    "\n",
    "female_rural_le = 70\n",
    "female_rural_number = 1000\n",
    "\n",
    "ag_urban_le = (male_urban_le * male_urban_number + female_urban_le * female_urban_number) / (male_urban_number + female_urban_number)\n",
    "ag_rural_le = (male_rural_le * male_rural_number + female_rural_le * female_rural_number) / (male_rural_number + female_rural_number)\n",
    "print(f\"all_genders in urban: {ag_urban}\")\n",
    "print(f\"all_genders in rural: {ag_rural}\")\n",
    "print()\n",
    "\n",
    "diff_male = male_urban_le - male_rural_le\n",
    "diff_female = female_urban_le - female_rural_le\n",
    "diff_ag = ag_urban_le - ag_rural_le\n",
    "\n",
    "\n",
    "print(f\"Δ urban - rural (male): {diff_male}\")\n",
    "print(f\"Δ urban - rural (female): {diff_female}\")\n",
    "print(f\"Δ urban - rural (ag): {diff_ag:.2f}\")"
   ]
  },
  {
   "cell_type": "markdown",
   "id": "e8e47078-0aa7-4b5e-b3cb-bb03d881f9a5",
   "metadata": {},
   "source": [
    "<br />\n",
    "<br />\n",
    "<br />\n",
    "\n",
    "---"
   ]
  },
  {
   "cell_type": "code",
   "execution_count": 7,
   "id": "76baa126-023d-4eef-a6bb-a3bf0d93434f",
   "metadata": {},
   "outputs": [],
   "source": [
    "def calc_LE(ag_home, male_home, female_home, ag_goal, male_goal, female_goal):\n",
    "    print(f\"expectaion           : {(ag_goal - ag_home):5.2f}\")\n",
    "    print(f\"advantage for male   : {(male_goal - male_home):5.2f}\")\n",
    "    print(f\"advantage for female : {(female_goal - female_home):5.2f}\")\n",
    "\n",
    "    av_calc_advantate = ((male_goal + female_goal - male_home - female_home) / 2)\n",
    "    print(f\"real average         : {av_calc_advantate:6.3f}\")\n",
    "    print()\n",
    "\n",
    "    print(f\"Difference between expectation and reality: {(av_calc_advantate - (ag_goal - ag_home)):6.3f}\")"
   ]
  },
  {
   "cell_type": "markdown",
   "id": "850fc26f-b9fc-4871-a0cb-7d13fa841327",
   "metadata": {},
   "source": [
    "<br />\n",
    "<br />\n",
    "\n",
    "#### World Bank Group, 2019"
   ]
  },
  {
   "cell_type": "code",
   "execution_count": 8,
   "id": "8ee54e46-b755-4dad-9052-af2def4c4e03",
   "metadata": {},
   "outputs": [
    {
     "name": "stdout",
     "output_type": "stream",
     "text": [
      "expectaion           :  5.71\n",
      "advantage for male   :  8.06\n",
      "advantage for female :  3.23\n",
      "real average         :  5.645\n",
      "\n",
      "Difference between expectation and reality: -0.065\n"
     ]
    }
   ],
   "source": [
    "# from Russia\n",
    "ag_home = 73.08\n",
    "male_home = 68.24\n",
    "female_home = 78.17\n",
    "\n",
    "# to USA\n",
    "ag_goal = 78.79\n",
    "male_goal = 76.30\n",
    "female_goal = 81.40\n",
    "\n",
    "calc_LE(ag_home, male_home, female_home, ag_goal, male_goal, female_goal)"
   ]
  },
  {
   "cell_type": "code",
   "execution_count": 9,
   "id": "06f29e53-c840-4bec-a18e-417327fec8f4",
   "metadata": {},
   "outputs": [
    {
     "name": "stdout",
     "output_type": "stream",
     "text": [
      "expectaion           : 10.82\n",
      "advantage for male   : 13.86\n",
      "advantage for female :  7.63\n",
      "real average         : 10.745\n",
      "\n",
      "Difference between expectation and reality: -0.075\n"
     ]
    }
   ],
   "source": [
    "# to Switzerland\n",
    "ag_goal = 83.90\n",
    "male_goal = 82.10\n",
    "female_goal = 85.80\n",
    "\n",
    "calc_LE(ag_home, male_home, female_home, ag_goal, male_goal, female_goal)"
   ]
  },
  {
   "cell_type": "code",
   "execution_count": 10,
   "id": "9dea8385-2578-4809-92cd-6ed8cfff282b",
   "metadata": {},
   "outputs": [
    {
     "name": "stdout",
     "output_type": "stream",
     "text": [
      "expectaion           : 10.75\n",
      "advantage for male   : 12.86\n",
      "advantage for female :  8.53\n",
      "real average         : 10.695\n",
      "\n",
      "Difference between expectation and reality: -0.055\n"
     ]
    }
   ],
   "source": [
    "# to Spain\n",
    "ag_goal = 83.83\n",
    "male_goal = 81.10\n",
    "female_goal = 86.70\n",
    "\n",
    "calc_LE(ag_home, male_home, female_home, ag_goal, male_goal, female_goal)"
   ]
  },
  {
   "cell_type": "code",
   "execution_count": 11,
   "id": "4b9d5ca7-329f-4e3e-8a76-72b324ef28a9",
   "metadata": {},
   "outputs": [
    {
     "name": "stdout",
     "output_type": "stream",
     "text": [
      "expectaion           :  5.71\n",
      "advantage for male   :  8.06\n",
      "advantage for female :  3.23\n",
      "real average         :  5.645\n",
      "\n",
      "Difference between expectation and reality: -0.065\n"
     ]
    }
   ],
   "source": [
    "# to Bermuda\n",
    "ag_goal = 78.79\n",
    "male_goal = 76.30\n",
    "female_goal = 81.40\n",
    "\n",
    "calc_LE(ag_home, male_home, female_home, ag_goal, male_goal, female_goal)"
   ]
  },
  {
   "cell_type": "code",
   "execution_count": 12,
   "id": "eb608b02-a994-4317-b803-dfae377c68cb",
   "metadata": {},
   "outputs": [
    {
     "name": "stdout",
     "output_type": "stream",
     "text": [
      "expectaion           : 11.28\n",
      "advantage for male   : 13.17\n",
      "advantage for female :  9.28\n",
      "real average         : 11.225\n",
      "\n",
      "Difference between expectation and reality: -0.055\n"
     ]
    }
   ],
   "source": [
    "# to Japan\n",
    "ag_goal = 84.36\n",
    "male_goal = 81.41\n",
    "female_goal = 87.45\n",
    "\n",
    "calc_LE(ag_home, male_home, female_home, ag_goal, male_goal, female_goal)"
   ]
  },
  {
   "cell_type": "code",
   "execution_count": 13,
   "id": "3f4c2b63-658f-4030-baf5-3d35002969af",
   "metadata": {},
   "outputs": [
    {
     "name": "stdout",
     "output_type": "stream",
     "text": [
      "expectaion           :  5.72\n",
      "advantage for male   :  8.60\n",
      "advantage for female :  2.61\n",
      "real average         :  5.605\n",
      "\n",
      "Difference between expectation and reality: -0.115\n"
     ]
    }
   ],
   "source": [
    "# to Cuba\n",
    "ag_goal = 78.80\n",
    "male_goal = 76.84\n",
    "female_goal = 80.78\n",
    "\n",
    "calc_LE(ag_home, male_home, female_home, ag_goal, male_goal, female_goal)"
   ]
  },
  {
   "cell_type": "markdown",
   "id": "8c1d6527-cd43-4c47-98f5-d2ab2a1a35b7",
   "metadata": {},
   "source": [
    "<br />\n",
    "<br />\n",
    "\n",
    "#### WHO, 2019"
   ]
  },
  {
   "cell_type": "code",
   "execution_count": 14,
   "id": "00de663d-2d33-4749-a111-ea91c51c840e",
   "metadata": {},
   "outputs": [
    {
     "name": "stdout",
     "output_type": "stream",
     "text": [
      "expectaion           :  5.30\n",
      "advantage for male   :  8.10\n",
      "advantage for female :  2.70\n",
      "real average         :  5.400\n",
      "\n",
      "Difference between expectation and reality:  0.100\n"
     ]
    }
   ],
   "source": [
    "# from Russia\n",
    "ag_home = 73.2\n",
    "male_home = 68.2\n",
    "female_home = 78.0\n",
    "\n",
    "# to USA\n",
    "ag_goal = 78.5\n",
    "male_goal = 76.3\n",
    "female_goal = 80.7\n",
    "\n",
    "calc_LE(ag_home, male_home, female_home, ag_goal, male_goal, female_goal)"
   ]
  },
  {
   "cell_type": "code",
   "execution_count": 15,
   "id": "dad56588-d172-449f-8423-52dcc7ae88b9",
   "metadata": {},
   "outputs": [
    {
     "name": "stdout",
     "output_type": "stream",
     "text": [
      "expectaion           : 10.20\n",
      "advantage for male   : 13.60\n",
      "advantage for female :  7.10\n",
      "real average         : 10.350\n",
      "\n",
      "Difference between expectation and reality:  0.150\n"
     ]
    }
   ],
   "source": [
    "# to Switzerland\n",
    "ag_goal = 83.4\n",
    "male_goal = 81.8\n",
    "female_goal = 85.1\n",
    "\n",
    "calc_LE(ag_home, male_home, female_home, ag_goal, male_goal, female_goal)"
   ]
  },
  {
   "cell_type": "markdown",
   "id": "a18aee9f-e120-4de9-b3f6-d98b33934c94",
   "metadata": {},
   "source": [
    "<br />\n",
    "<br />\n",
    "\n",
    "#### Rosstat, 2019"
   ]
  },
  {
   "cell_type": "code",
   "execution_count": 16,
   "id": "2c10767f-aaaf-443e-b146-61af77378aeb",
   "metadata": {},
   "outputs": [
    {
     "name": "stdout",
     "output_type": "stream",
     "text": [
      "expectaion           :  9.87\n",
      "advantage for male   : 11.35\n",
      "advantage for female :  8.22\n",
      "real average         :  9.785\n",
      "\n",
      "Difference between expectation and reality: -0.085\n"
     ]
    }
   ],
   "source": [
    "# from Sevastopol\n",
    "ag_home = 73.53\n",
    "male_home = 68.65\n",
    "female_home = 78.05\n",
    "\n",
    "# to Ingushetia\n",
    "ag_goal = 83.40\n",
    "male_goal = 80.00\n",
    "female_goal = 86.27\n",
    "\n",
    "calc_LE(ag_home, male_home, female_home, ag_goal, male_goal, female_goal)"
   ]
  },
  {
   "cell_type": "code",
   "execution_count": 17,
   "id": "e5bf0816-0d9a-4eeb-9b6c-9ca97e3c827b",
   "metadata": {},
   "outputs": [
    {
     "name": "stdout",
     "output_type": "stream",
     "text": [
      "expectaion           : 10.69\n",
      "advantage for male   : 12.24\n",
      "advantage for female :  8.86\n",
      "real average         : 10.550\n",
      "\n",
      "Difference between expectation and reality: -0.140\n"
     ]
    }
   ],
   "source": [
    "# from Republic of Crimea\n",
    "ag_home = 72.71\n",
    "male_home = 67.76\n",
    "female_home = 77.41\n",
    "\n",
    "# to Ingushetia\n",
    "calc_LE(ag_home, male_home, female_home, ag_goal, male_goal, female_goal)"
   ]
  },
  {
   "cell_type": "markdown",
   "id": "6ca9c979-91ac-48d7-877b-b20dd76610ab",
   "metadata": {},
   "source": [
    "<br />\n",
    "<br />"
   ]
  },
  {
   "cell_type": "code",
   "execution_count": 18,
   "id": "d8e13d52-de5c-43af-beb8-a6bcf1b34a5a",
   "metadata": {},
   "outputs": [
    {
     "name": "stdout",
     "output_type": "stream",
     "text": [
      "72.864\n",
      "67.927\n",
      "77.53\n"
     ]
    }
   ],
   "source": [
    "# for 2019 (number of population from wiki)\n",
    "\n",
    "pop_Rep_Crimea_all = 1911818\n",
    "pop_Rep_Crimea_urban = 974881\n",
    "pop_Rep_Crimea_rural = 936937\n",
    "le_Rep_Crimea_all = 72.71\n",
    "le_Rep_Crimea_male = 67.76\n",
    "le_Rep_Crimea_female = 77.41\n",
    "\n",
    "pop_Sev_all = 443212\n",
    "pop_Sev_ubran = 412563\n",
    "pop_Sev_rural = 30649\n",
    "le_Sev_all = 73.53\n",
    "le_Sev_male = 68.65\n",
    "le_Sev_female = 78.05\n",
    "\n",
    "le_crimea_all = (le_Rep_Crimea_all * pop_Rep_Crimea_all + le_Sev_all * pop_Sev_all) / (pop_Rep_Crimea_all + pop_Sev_all)\n",
    "le_crimea_male = (le_Rep_Crimea_male * pop_Rep_Crimea_all + le_Sev_male * pop_Sev_all) / (pop_Rep_Crimea_all + pop_Sev_all)\n",
    "le_crimea_female = (le_Rep_Crimea_female * pop_Rep_Crimea_all + le_Sev_female * pop_Sev_all) / (pop_Rep_Crimea_all + pop_Sev_all)\n",
    "\n",
    "print(round(le_crimea_all, 3))\n",
    "print(round(le_crimea_male, 3))\n",
    "print(round(le_crimea_female, 3))"
   ]
  },
  {
   "cell_type": "code",
   "execution_count": 19,
   "id": "a2c7d7b2-2eff-4573-a98a-cfd9c5b58e86",
   "metadata": {},
   "outputs": [
    {
     "name": "stdout",
     "output_type": "stream",
     "text": [
      "expectaion           : 10.54\n",
      "advantage for male   : 12.07\n",
      "advantage for female :  8.74\n",
      "real average         : 10.405\n",
      "\n",
      "Difference between expectation and reality: -0.135\n"
     ]
    }
   ],
   "source": [
    "# from Crimea\n",
    "ag_home = round(le_crimea_all, 2)         # 72.86\n",
    "male_home = round(le_crimea_male, 2)      # 67.93\n",
    "female_home = round(le_crimea_female, 2)  # 77.53\n",
    "\n",
    "# to Ingushetia\n",
    "ag_goal = 83.40\n",
    "male_goal = 80.00\n",
    "female_goal = 86.27\n",
    "\n",
    "calc_LE(ag_home, male_home, female_home, ag_goal, male_goal, female_goal)"
   ]
  },
  {
   "cell_type": "markdown",
   "id": "71c9b0cc-9630-4ef9-838d-51880a612be3",
   "metadata": {},
   "source": [
    "<br />\n",
    "<br />"
   ]
  },
  {
   "cell_type": "code",
   "execution_count": 20,
   "id": "f23f000c-d7c5-45e8-b726-7076dbe66185",
   "metadata": {},
   "outputs": [
    {
     "name": "stdout",
     "output_type": "stream",
     "text": [
      "72.865\n",
      "67.928\n",
      "77.531\n"
     ]
    }
   ],
   "source": [
    "# for 2019 (number of population from rosstat, average during year)\n",
    "\n",
    "pop_Rep_Crimea_all = 1912220  # 1911818\n",
    "pop_Rep_Crimea_urban = 975045  # 974881\n",
    "pop_Rep_Crimea_rural = 937175 # 936937\n",
    "le_Rep_Crimea_all = 72.71\n",
    "le_Rep_Crimea_male = 67.76\n",
    "le_Rep_Crimea_female = 77.41\n",
    "\n",
    "pop_Sev_all = 446175 # 443212\n",
    "pop_Sev_ubran = 415668 # 412563\n",
    "pop_Sev_rural = 30507 # 30649\n",
    "le_Sev_all = 73.53\n",
    "le_Sev_male = 68.65\n",
    "le_Sev_female = 78.05\n",
    "\n",
    "le_crimea_all = (le_Rep_Crimea_all * pop_Rep_Crimea_all + le_Sev_all * pop_Sev_all) / (pop_Rep_Crimea_all + pop_Sev_all)\n",
    "le_crimea_male = (le_Rep_Crimea_male * pop_Rep_Crimea_all + le_Sev_male * pop_Sev_all) / (pop_Rep_Crimea_all + pop_Sev_all)\n",
    "le_crimea_female = (le_Rep_Crimea_female * pop_Rep_Crimea_all + le_Sev_female * pop_Sev_all) / (pop_Rep_Crimea_all + pop_Sev_all)\n",
    "\n",
    "print(round(le_crimea_all, 3))\n",
    "print(round(le_crimea_male, 3))\n",
    "print(round(le_crimea_female, 3))"
   ]
  },
  {
   "cell_type": "code",
   "execution_count": 25,
   "id": "8c96670a-b617-4abb-b5b4-75dd899f4170",
   "metadata": {},
   "outputs": [
    {
     "name": "stdout",
     "output_type": "stream",
     "text": [
      "expectaion           : 10.53\n",
      "advantage for male   : 12.07\n",
      "advantage for female :  8.74\n",
      "real average         : 10.405\n",
      "\n",
      "Difference between expectation and reality: -0.125\n"
     ]
    }
   ],
   "source": [
    "# from Crimea\n",
    "ag_home = round(le_crimea_all, 2)         # 72.87\n",
    "male_home = round(le_crimea_male, 2)      # 67.93\n",
    "female_home = round(le_crimea_female, 2)  # 77.53\n",
    "\n",
    "# to Ingushetia\n",
    "ag_goal = 83.40\n",
    "male_goal = 80.00\n",
    "female_goal = 86.27\n",
    "\n",
    "calc_LE(ag_home, male_home, female_home, ag_goal, male_goal, female_goal)"
   ]
  },
  {
   "cell_type": "markdown",
   "id": "4d8ff2f8-b943-4017-bcb6-0bc6faf118e0",
   "metadata": {},
   "source": [
    "<br />\n",
    "<br />"
   ]
  },
  {
   "cell_type": "code",
   "execution_count": 26,
   "id": "7ca6252d-0afc-4ec6-a73f-1b1c8c214e21",
   "metadata": {},
   "outputs": [
    {
     "name": "stdout",
     "output_type": "stream",
     "text": [
      "expectaion           : 13.62\n",
      "advantage for male   : 15.68\n",
      "advantage for female : 11.16\n",
      "real average         : 13.420\n",
      "\n",
      "Difference between expectation and reality: -0.200\n"
     ]
    }
   ],
   "source": [
    "# from Kuzbass\n",
    "ag_home = 69.78\n",
    "male_home = 64.32\n",
    "female_home = 75.11\n",
    "\n",
    "# to Ingushetia\n",
    "ag_goal = 83.40\n",
    "male_goal = 80.00\n",
    "female_goal = 86.27\n",
    "\n",
    "calc_LE(ag_home, male_home, female_home, ag_goal, male_goal, female_goal)"
   ]
  },
  {
   "cell_type": "code",
   "execution_count": null,
   "id": "11625cb9-a67b-4e01-982b-7a40a7762720",
   "metadata": {},
   "outputs": [],
   "source": []
  }
 ],
 "metadata": {
  "kernelspec": {
   "display_name": "Python 3 (ipykernel)",
   "language": "python",
   "name": "python3"
  },
  "language_info": {
   "codemirror_mode": {
    "name": "ipython",
    "version": 3
   },
   "file_extension": ".py",
   "mimetype": "text/x-python",
   "name": "python",
   "nbconvert_exporter": "python",
   "pygments_lexer": "ipython3",
   "version": "3.9.7"
  }
 },
 "nbformat": 4,
 "nbformat_minor": 5
}
